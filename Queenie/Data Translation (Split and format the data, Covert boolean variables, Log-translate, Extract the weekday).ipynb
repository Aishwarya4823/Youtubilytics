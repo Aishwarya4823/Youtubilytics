{
 "cells": [
  {
   "cell_type": "code",
   "execution_count": 1,
   "metadata": {},
   "outputs": [],
   "source": [
    "from numpy import nan as NA\n",
    "import numpy as np\n",
    "import pandas as pd"
   ]
  },
  {
   "cell_type": "code",
   "execution_count": 2,
   "metadata": {},
   "outputs": [],
   "source": [
    "# Import data\n",
    "path = \"C:\\\\Users\\\\16971\\\\Downloads\\\\2020 SPRING\\\\758X\\\\youtube-new\\\\\"\n",
    "df=pd.read_csv(path+\"USvideos1.csv\", usecols=[items for items in range(16)], sep=\",\")"
   ]
  },
  {
   "cell_type": "code",
   "execution_count": 3,
   "metadata": {},
   "outputs": [],
   "source": [
    "# Format trending_data column\n",
    "\n",
    "## The formate of trending_data is \"yy.dd.mm\" and convert it into \"yyyy-mm-dd\"\n",
    "trending_date=df['trending_date'].str.extract(\"(?P<year>\\d\\d).(?P<day>\\d\\d).(?P<month>\\d\\d)\",expand=True)\n",
    "trending_date['year']=trending_date['year'].astype(int)+2000\n",
    "df['trending_date']=pd.to_datetime(trending_date[['year','month','day']])"
   ]
  },
  {
   "cell_type": "code",
   "execution_count": 4,
   "metadata": {},
   "outputs": [
    {
     "data": {
      "text/plain": [
       "2017-11-14    200\n",
       "2017-11-15    200\n",
       "2017-11-16    200\n",
       "2017-11-17    200\n",
       "2017-11-18    200\n",
       "             ... \n",
       "2018-06-10    200\n",
       "2018-06-11    200\n",
       "2018-06-12    200\n",
       "2018-06-13    200\n",
       "2018-06-14    200\n",
       "Name: trending_date, Length: 205, dtype: int64"
      ]
     },
     "execution_count": 4,
     "metadata": {},
     "output_type": "execute_result"
    }
   ],
   "source": [
    "# Check the transformed \"trending data\" column\n",
    "df[\"trending_date\"].value_counts().sort_index()"
   ]
  },
  {
   "cell_type": "code",
   "execution_count": 5,
   "metadata": {},
   "outputs": [],
   "source": [
    "# Format publish_time column\n",
    "\n",
    "## Separate date and time\n",
    "\n",
    "### Create a new column \"publish_date\" to record the date of publish\n",
    "df.insert(0, \"publish_date\", df[\"publish_time\"].str.split(\"T\").str[0])\n",
    "\n",
    "### Remain the time in the original publish_time column\n",
    "df[\"publish_time\"]=df[\"publish_time\"].str.split(\"T\").str[1].str.split(\".\").str[0]"
   ]
  },
  {
   "cell_type": "code",
   "execution_count": 6,
   "metadata": {},
   "outputs": [
    {
     "data": {
      "text/plain": [
       "2006-07-23     1\n",
       "2008-04-05     4\n",
       "2008-06-17     4\n",
       "2008-08-07     3\n",
       "2009-03-10     2\n",
       "              ..\n",
       "2018-06-10    25\n",
       "2018-06-11    36\n",
       "2018-06-12    14\n",
       "2018-06-13    11\n",
       "2018-06-14     1\n",
       "Name: publish_date, Length: 313, dtype: int64"
      ]
     },
     "execution_count": 6,
     "metadata": {},
     "output_type": "execute_result"
    }
   ],
   "source": [
    "df[\"publish_date\"].value_counts().sort_index()"
   ]
  },
  {
   "cell_type": "code",
   "execution_count": 7,
   "metadata": {},
   "outputs": [],
   "source": [
    "# Convert the trending_date and publish_date column into the datetime type\n",
    "df[\"trending_date\"]=df[\"trending_date\"].astype(\"datetime64[ns]\")\n",
    "df[\"publish_date\"]=df[\"publish_date\"].astype(\"datetime64[ns]\")"
   ]
  },
  {
   "cell_type": "code",
   "execution_count": 8,
   "metadata": {},
   "outputs": [
    {
     "name": "stdout",
     "output_type": "stream",
     "text": [
      "<class 'pandas.core.frame.DataFrame'>\n",
      "RangeIndex: 40949 entries, 0 to 40948\n",
      "Data columns (total 17 columns):\n",
      "publish_date              40949 non-null datetime64[ns]\n",
      "video_id                  40949 non-null object\n",
      "trending_date             40949 non-null datetime64[ns]\n",
      "title                     40949 non-null object\n",
      "channel_title             40949 non-null object\n",
      "category_id               40949 non-null int64\n",
      "publish_time              40949 non-null object\n",
      "tags                      40949 non-null object\n",
      "views                     40949 non-null int64\n",
      "likes                     40949 non-null int64\n",
      "dislikes                  40949 non-null int64\n",
      "comment_count             40949 non-null int64\n",
      "thumbnail_link            40949 non-null object\n",
      "comments_disabled         40949 non-null bool\n",
      "ratings_disabled          40949 non-null bool\n",
      "video_error_or_removed    40949 non-null bool\n",
      "description               40379 non-null object\n",
      "dtypes: bool(3), datetime64[ns](2), int64(5), object(7)\n",
      "memory usage: 4.5+ MB\n"
     ]
    }
   ],
   "source": [
    "# Check the type of trending_date and publish_date column\n",
    "df.info()"
   ]
  },
  {
   "cell_type": "code",
   "execution_count": 9,
   "metadata": {},
   "outputs": [],
   "source": [
    "# Translate the boolean values into numeric values\n",
    "df[\"comments_disabled\"]=df[\"comments_disabled\"].astype(int)\n",
    "df[\"ratings_disabled\"]=df[\"ratings_disabled\"].astype(int)\n",
    "df[\"video_error_or_removed\"]=df[\"video_error_or_removed\"].astype(int)"
   ]
  },
  {
   "cell_type": "code",
   "execution_count": 10,
   "metadata": {},
   "outputs": [
    {
     "data": {
      "text/plain": [
       "count    4.094900e+04\n",
       "mean     2.360785e+06\n",
       "std      7.394114e+06\n",
       "min      5.490000e+02\n",
       "25%      2.423290e+05\n",
       "50%      6.818610e+05\n",
       "75%      1.823157e+06\n",
       "max      2.252119e+08\n",
       "Name: views, dtype: float64"
      ]
     },
     "execution_count": 10,
     "metadata": {},
     "output_type": "execute_result"
    }
   ],
   "source": [
    "# Use log-translation to reduce skewness of the data if necessary\n",
    "\n",
    "## Scan the distribution pattern of the views column\n",
    "df[\"views\"].describe()"
   ]
  },
  {
   "cell_type": "code",
   "execution_count": 11,
   "metadata": {},
   "outputs": [],
   "source": [
    "## Process log-translation to the views column\n",
    "df[\"log_views\"]=np.log10(df[\"views\"])"
   ]
  },
  {
   "cell_type": "code",
   "execution_count": 12,
   "metadata": {},
   "outputs": [
    {
     "data": {
      "text/plain": [
       "count    40949.000000\n",
       "mean         5.792613\n",
       "std          0.742650\n",
       "min          2.739572\n",
       "25%          5.384405\n",
       "50%          5.833696\n",
       "75%          6.260824\n",
       "max          8.352591\n",
       "Name: log_views, dtype: float64"
      ]
     },
     "execution_count": 12,
     "metadata": {},
     "output_type": "execute_result"
    }
   ],
   "source": [
    "## Check the result of log-translation used above\n",
    "df[\"log_views\"].describe()"
   ]
  },
  {
   "cell_type": "code",
   "execution_count": 13,
   "metadata": {},
   "outputs": [],
   "source": [
    "# Extract the weekday and weekend from the date column\n",
    "df[\"publish_weekday\"]=df[\"publish_date\"].dt.weekday+1\n",
    "df[\"trending_weekday\"]=df[\"trending_date\"].dt.weekday+1"
   ]
  },
  {
   "cell_type": "code",
   "execution_count": 14,
   "metadata": {},
   "outputs": [
    {
     "name": "stdout",
     "output_type": "stream",
     "text": [
      "<class 'pandas.core.frame.DataFrame'>\n",
      "RangeIndex: 40949 entries, 0 to 40948\n",
      "Data columns (total 20 columns):\n",
      "publish_date              40949 non-null datetime64[ns]\n",
      "video_id                  40949 non-null object\n",
      "trending_date             40949 non-null datetime64[ns]\n",
      "title                     40949 non-null object\n",
      "channel_title             40949 non-null object\n",
      "category_id               40949 non-null int64\n",
      "publish_time              40949 non-null object\n",
      "tags                      40949 non-null object\n",
      "views                     40949 non-null int64\n",
      "likes                     40949 non-null int64\n",
      "dislikes                  40949 non-null int64\n",
      "comment_count             40949 non-null int64\n",
      "thumbnail_link            40949 non-null object\n",
      "comments_disabled         40949 non-null int32\n",
      "ratings_disabled          40949 non-null int32\n",
      "video_error_or_removed    40949 non-null int32\n",
      "description               40379 non-null object\n",
      "log_views                 40949 non-null float64\n",
      "publish_weekday           40949 non-null int64\n",
      "trending_weekday          40949 non-null int64\n",
      "dtypes: datetime64[ns](2), float64(1), int32(3), int64(7), object(7)\n",
      "memory usage: 5.8+ MB\n"
     ]
    }
   ],
   "source": [
    "# Review the type of each column in the dataset\n",
    "df.info()"
   ]
  }
 ],
 "metadata": {
  "kernelspec": {
   "display_name": "Python 3",
   "language": "python",
   "name": "python3"
  },
  "language_info": {
   "codemirror_mode": {
    "name": "ipython",
    "version": 3
   },
   "file_extension": ".py",
   "mimetype": "text/x-python",
   "name": "python",
   "nbconvert_exporter": "python",
   "pygments_lexer": "ipython3",
   "version": "3.7.4"
  }
 },
 "nbformat": 4,
 "nbformat_minor": 2
}
