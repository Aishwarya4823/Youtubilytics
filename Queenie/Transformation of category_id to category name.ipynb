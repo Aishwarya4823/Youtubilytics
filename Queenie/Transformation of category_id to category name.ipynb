{
 "cells": [
  {
   "cell_type": "code",
   "execution_count": 67,
   "metadata": {},
   "outputs": [],
   "source": [
    "# Replace category_id with category_name"
   ]
  },
  {
   "cell_type": "code",
   "execution_count": 68,
   "metadata": {},
   "outputs": [],
   "source": [
    "from numpy import nan as NA\n",
    "import numpy as np\n",
    "import pandas as pd\n",
    "import json"
   ]
  },
  {
   "cell_type": "code",
   "execution_count": 69,
   "metadata": {},
   "outputs": [],
   "source": [
    "final_df = pd.read_csv('C:\\\\Users\\\\16971\\\\Downloads\\\\text_df.csv')"
   ]
  },
  {
   "cell_type": "code",
   "execution_count": 70,
   "metadata": {},
   "outputs": [],
   "source": [
    "CA_category = \"C:\\\\Users\\\\16971\\\\Downloads\\\\youtube-new\\\\CA_category_id.json\"\n",
    "DE_category = \"C:\\\\Users\\\\16971\\\\Downloads\\\\youtube-new\\\\DE_category_id.json\"\n",
    "FR_category = \"C:\\\\Users\\\\16971\\\\Downloads\\\\youtube-new\\\\FR_category_id.json\"\n",
    "GB_category = \"C:\\\\Users\\\\16971\\\\Downloads\\\\youtube-new\\\\GB_category_id.json\"\n",
    "IN_category = \"C:\\\\Users\\\\16971\\\\Downloads\\\\youtube-new\\\\IN_category_id.json\"\n",
    "JP_category = \"C:\\\\Users\\\\16971\\\\Downloads\\\\youtube-new\\\\JP_category_id.json\"\n",
    "KR_category = \"C:\\\\Users\\\\16971\\\\Downloads\\\\youtube-new\\\\KR_category_id.json\"\n",
    "MX_category = \"C:\\\\Users\\\\16971\\\\Downloads\\\\youtube-new\\\\MX_category_id.json\"\n",
    "RU_category = \"C:\\\\Users\\\\16971\\\\Downloads\\\\youtube-new\\\\RU_category_id.json\"\n",
    "US_category = \"C:\\\\Users\\\\16971\\\\Downloads\\\\youtube-new\\\\US_category_id.json\""
   ]
  },
  {
   "cell_type": "code",
   "execution_count": 71,
   "metadata": {},
   "outputs": [],
   "source": [
    "## To CA\n",
    "with open(CA_category,'r') as f:\n",
    "    CA_dict = json.load(f)\n",
    "\n",
    "## To DE\n",
    "with open(DE_category,'r') as f:\n",
    "    DE_dict = json.load(f)\n",
    "\n",
    "## To FR\n",
    "with open(FR_category,'r') as f:\n",
    "    FR_dict = json.load(f)\n",
    "    \n",
    "## To GB\n",
    "with open(GB_category,'r') as f:\n",
    "    GB_dict = json.load(f)\n",
    "\n",
    "## To IN\n",
    "with open(IN_category,'r') as f:\n",
    "    IN_dict = json.load(f)\n",
    "    \n",
    "## To JP\n",
    "with open(JP_category,'r') as f:\n",
    "    JP_dict = json.load(f)\n",
    "\n",
    "## To KR\n",
    "with open(KR_category,'r') as f:\n",
    "    KR_dict = json.load(f)\n",
    "\n",
    "## To MX\n",
    "with open(MX_category,'r') as f:\n",
    "    MX_dict = json.load(f)\n",
    "\n",
    "## To RU\n",
    "with open(RU_category,'r') as f:\n",
    "    RU_dict = json.load(f)\n",
    "    \n",
    "## To US\n",
    "with open(US_category,'r') as f:\n",
    "    US_dict = json.load(f)"
   ]
  },
  {
   "cell_type": "code",
   "execution_count": 72,
   "metadata": {},
   "outputs": [],
   "source": [
    "final_df[\"category_id\"]=final_df[\"category_id\"].astype(\"str\")"
   ]
  },
  {
   "cell_type": "code",
   "execution_count": 73,
   "metadata": {},
   "outputs": [
    {
     "data": {
      "text/plain": [
       "{'1': 'Film & Animation',\n",
       " '2': 'Autos & Vehicles',\n",
       " '10': 'Music',\n",
       " '15': 'Pets & Animals',\n",
       " '17': 'Sports',\n",
       " '18': 'Short Movies',\n",
       " '19': 'Travel & Events',\n",
       " '20': 'Gaming',\n",
       " '21': 'Videoblogging',\n",
       " '22': 'People & Blogs',\n",
       " '23': 'Comedy',\n",
       " '24': 'Entertainment',\n",
       " '25': 'News & Politics',\n",
       " '26': 'Howto & Style',\n",
       " '27': 'Education',\n",
       " '28': 'Science & Technology',\n",
       " '30': 'Movies',\n",
       " '31': 'Anime/Animation',\n",
       " '32': 'Action/Adventure',\n",
       " '33': 'Classics',\n",
       " '34': 'Comedy',\n",
       " '35': 'Documentary',\n",
       " '36': 'Drama',\n",
       " '37': 'Family',\n",
       " '38': 'Foreign',\n",
       " '39': 'Horror',\n",
       " '40': 'Sci-Fi/Fantasy',\n",
       " '41': 'Thriller',\n",
       " '42': 'Shorts',\n",
       " '43': 'Shows',\n",
       " '44': 'Trailers'}"
      ]
     },
     "execution_count": 73,
     "metadata": {},
     "output_type": "execute_result"
    }
   ],
   "source": [
    "# To CA\n",
    "CA_list = CA_dict[\"items\"]\n",
    "CA_dict1 = {}\n",
    "for i in range(len(CA_list)):\n",
    "    CA_dict1[CA_list[i][\"id\"]] = CA_list[i][\"snippet\"][\"title\"]\n",
    "CA_dict1"
   ]
  },
  {
   "cell_type": "code",
   "execution_count": 74,
   "metadata": {},
   "outputs": [
    {
     "data": {
      "text/plain": [
       "24    4833\n",
       "25    2326\n",
       "22    1767\n",
       "17    1280\n",
       "23     885\n",
       "26     782\n",
       "1      618\n",
       "10     552\n",
       "20     543\n",
       "27     419\n",
       "28     317\n",
       "2      211\n",
       "19     141\n",
       "15     138\n",
       "29      39\n",
       "43      14\n",
       "Name: category_id, dtype: int64"
      ]
     },
     "execution_count": 74,
     "metadata": {},
     "output_type": "execute_result"
    }
   ],
   "source": [
    "final_df.loc[final_df['Country']=='CA','category_id'].value_counts()"
   ]
  },
  {
   "cell_type": "code",
   "execution_count": 75,
   "metadata": {},
   "outputs": [
    {
     "data": {
      "text/plain": [
       "Entertainment           4833\n",
       "News & Politics         2326\n",
       "People & Blogs          1767\n",
       "Sports                  1280\n",
       "Comedy                   885\n",
       "Howto & Style            782\n",
       "Film & Animation         618\n",
       "Music                    552\n",
       "Gaming                   543\n",
       "Education                419\n",
       "Science & Technology     317\n",
       "Autos & Vehicles         211\n",
       "Travel & Events          141\n",
       "Pets & Animals           138\n",
       "29                        39\n",
       "Shows                     14\n",
       "Name: category_id, dtype: int64"
      ]
     },
     "execution_count": 75,
     "metadata": {},
     "output_type": "execute_result"
    }
   ],
   "source": [
    "final_df.loc[final_df['Country']=='CA','category_id']=final_df.loc[final_df['Country']=='CA','category_id'].replace(CA_dict1)\n",
    "final_df.loc[final_df['Country']=='CA','category_id'].value_counts()"
   ]
  },
  {
   "cell_type": "code",
   "execution_count": 76,
   "metadata": {},
   "outputs": [
    {
     "data": {
      "text/plain": [
       "{'1': 'Film & Animation',\n",
       " '2': 'Autos & Vehicles',\n",
       " '10': 'Music',\n",
       " '15': 'Pets & Animals',\n",
       " '17': 'Sports',\n",
       " '18': 'Short Movies',\n",
       " '19': 'Travel & Events',\n",
       " '20': 'Gaming',\n",
       " '21': 'Videoblogging',\n",
       " '22': 'People & Blogs',\n",
       " '23': 'Comedy',\n",
       " '24': 'Entertainment',\n",
       " '25': 'News & Politics',\n",
       " '26': 'Howto & Style',\n",
       " '27': 'Education',\n",
       " '28': 'Science & Technology',\n",
       " '30': 'Movies',\n",
       " '31': 'Anime/Animation',\n",
       " '32': 'Action/Adventure',\n",
       " '33': 'Classics',\n",
       " '34': 'Comedy',\n",
       " '35': 'Documentary',\n",
       " '36': 'Drama',\n",
       " '37': 'Family',\n",
       " '38': 'Foreign',\n",
       " '39': 'Horror',\n",
       " '40': 'Sci-Fi/Fantasy',\n",
       " '41': 'Thriller',\n",
       " '42': 'Shorts',\n",
       " '43': 'Shows',\n",
       " '44': 'Trailers'}"
      ]
     },
     "execution_count": 76,
     "metadata": {},
     "output_type": "execute_result"
    }
   ],
   "source": [
    "# To DE\n",
    "DE_list=DE_dict[\"items\"]\n",
    "DE_dict1={}\n",
    "for i in range(len(DE_list)):\n",
    "    DE_dict1[DE_list[i][\"id\"]]=DE_list[i][\"snippet\"][\"title\"]\n",
    "DE_dict1"
   ]
  },
  {
   "cell_type": "code",
   "execution_count": 77,
   "metadata": {},
   "outputs": [
    {
     "data": {
      "text/plain": [
       "Series([], Name: category_id, dtype: int64)"
      ]
     },
     "execution_count": 77,
     "metadata": {},
     "output_type": "execute_result"
    }
   ],
   "source": [
    "final_df.loc[final_df['Country']=='DE','category_id'].value_counts()"
   ]
  },
  {
   "cell_type": "code",
   "execution_count": 78,
   "metadata": {},
   "outputs": [
    {
     "data": {
      "text/plain": [
       "Series([], Name: category_id, dtype: int64)"
      ]
     },
     "execution_count": 78,
     "metadata": {},
     "output_type": "execute_result"
    }
   ],
   "source": [
    "final_df.loc[final_df['Country']=='DE','category_id']=final_df.loc[final_df['Country']=='DE','category_id'].replace(DE_dict1)\n",
    "final_df.loc[final_df['Country']=='DE','category_id'].value_counts()"
   ]
  },
  {
   "cell_type": "code",
   "execution_count": 79,
   "metadata": {},
   "outputs": [
    {
     "data": {
      "text/plain": [
       "{'1': 'Film & Animation',\n",
       " '2': 'Autos & Vehicles',\n",
       " '10': 'Music',\n",
       " '15': 'Pets & Animals',\n",
       " '17': 'Sports',\n",
       " '18': 'Short Movies',\n",
       " '19': 'Travel & Events',\n",
       " '20': 'Gaming',\n",
       " '21': 'Videoblogging',\n",
       " '22': 'People & Blogs',\n",
       " '23': 'Comedy',\n",
       " '24': 'Entertainment',\n",
       " '25': 'News & Politics',\n",
       " '26': 'Howto & Style',\n",
       " '27': 'Education',\n",
       " '28': 'Science & Technology',\n",
       " '30': 'Movies',\n",
       " '31': 'Anime/Animation',\n",
       " '32': 'Action/Adventure',\n",
       " '33': 'Classics',\n",
       " '34': 'Comedy',\n",
       " '35': 'Documentary',\n",
       " '36': 'Drama',\n",
       " '37': 'Family',\n",
       " '38': 'Foreign',\n",
       " '39': 'Horror',\n",
       " '40': 'Sci-Fi/Fantasy',\n",
       " '41': 'Thriller',\n",
       " '42': 'Shorts',\n",
       " '43': 'Shows',\n",
       " '44': 'Trailers'}"
      ]
     },
     "execution_count": 79,
     "metadata": {},
     "output_type": "execute_result"
    }
   ],
   "source": [
    "# To RF\n",
    "FR_list=FR_dict[\"items\"]\n",
    "FR_dict1={}\n",
    "for i in range(len(FR_list)):\n",
    "    FR_dict1[DE_list[i][\"id\"]]=FR_list[i][\"snippet\"][\"title\"]\n",
    "FR_dict1"
   ]
  },
  {
   "cell_type": "code",
   "execution_count": 80,
   "metadata": {},
   "outputs": [
    {
     "data": {
      "text/plain": [
       "Series([], Name: category_id, dtype: int64)"
      ]
     },
     "execution_count": 80,
     "metadata": {},
     "output_type": "execute_result"
    }
   ],
   "source": [
    "final_df.loc[final_df['Country']=='FR','category_id'].value_counts()"
   ]
  },
  {
   "cell_type": "code",
   "execution_count": 81,
   "metadata": {},
   "outputs": [
    {
     "data": {
      "text/plain": [
       "Series([], Name: category_id, dtype: int64)"
      ]
     },
     "execution_count": 81,
     "metadata": {},
     "output_type": "execute_result"
    }
   ],
   "source": [
    "final_df.loc[final_df['Country']=='FR','category_id']=final_df.loc[final_df['Country']=='FR','category_id'].replace(FR_dict1)\n",
    "final_df.loc[final_df['Country']=='FR','category_id'].value_counts()"
   ]
  },
  {
   "cell_type": "code",
   "execution_count": 82,
   "metadata": {},
   "outputs": [
    {
     "data": {
      "text/plain": [
       "{'1': 'Film & Animation',\n",
       " '2': 'Autos & Vehicles',\n",
       " '10': 'Music',\n",
       " '15': 'Pets & Animals',\n",
       " '17': 'Sports',\n",
       " '18': 'Short Movies',\n",
       " '19': 'Travel & Events',\n",
       " '20': 'Gaming',\n",
       " '21': 'Videoblogging',\n",
       " '22': 'People & Blogs',\n",
       " '23': 'Comedy',\n",
       " '24': 'Entertainment',\n",
       " '25': 'News & Politics',\n",
       " '26': 'Howto & Style',\n",
       " '27': 'Education',\n",
       " '28': 'Science & Technology',\n",
       " '30': 'Movies',\n",
       " '31': 'Anime/Animation',\n",
       " '32': 'Action/Adventure',\n",
       " '33': 'Classics',\n",
       " '34': 'Comedy',\n",
       " '35': 'Documentary',\n",
       " '36': 'Drama',\n",
       " '37': 'Family',\n",
       " '38': 'Foreign',\n",
       " '39': 'Horror',\n",
       " '40': 'Sci-Fi/Fantasy',\n",
       " '41': 'Thriller',\n",
       " '42': 'Shorts',\n",
       " '43': 'Shows',\n",
       " '44': 'Trailers'}"
      ]
     },
     "execution_count": 82,
     "metadata": {},
     "output_type": "execute_result"
    }
   ],
   "source": [
    "# GB\n",
    "GB_list=GB_dict[\"items\"]\n",
    "GB_dict1={}\n",
    "for i in range(len(GB_list)):\n",
    "    GB_dict1[GB_list[i][\"id\"]]=GB_list[i][\"snippet\"][\"title\"]\n",
    "GB_dict1"
   ]
  },
  {
   "cell_type": "code",
   "execution_count": 83,
   "metadata": {},
   "outputs": [
    {
     "data": {
      "text/plain": [
       "24    562\n",
       "10    419\n",
       "22    215\n",
       "17    171\n",
       "20    151\n",
       "26    126\n",
       "1     125\n",
       "23    101\n",
       "25     95\n",
       "27     22\n",
       "28     12\n",
       "15      8\n",
       "19      7\n",
       "2       6\n",
       "29      5\n",
       "43      1\n",
       "Name: category_id, dtype: int64"
      ]
     },
     "execution_count": 83,
     "metadata": {},
     "output_type": "execute_result"
    }
   ],
   "source": [
    "final_df.loc[final_df['Country']=='GB','category_id'].value_counts()"
   ]
  },
  {
   "cell_type": "code",
   "execution_count": 84,
   "metadata": {},
   "outputs": [
    {
     "data": {
      "text/plain": [
       "Entertainment           562\n",
       "Music                   419\n",
       "People & Blogs          215\n",
       "Sports                  171\n",
       "Gaming                  151\n",
       "Howto & Style           126\n",
       "Film & Animation        125\n",
       "Comedy                  101\n",
       "News & Politics          95\n",
       "Education                22\n",
       "Science & Technology     12\n",
       "Pets & Animals            8\n",
       "Travel & Events           7\n",
       "Autos & Vehicles          6\n",
       "29                        5\n",
       "Shows                     1\n",
       "Name: category_id, dtype: int64"
      ]
     },
     "execution_count": 84,
     "metadata": {},
     "output_type": "execute_result"
    }
   ],
   "source": [
    "final_df.loc[final_df['Country']=='GB','category_id']=final_df.loc[final_df['Country']=='GB','category_id'].replace(GB_dict1)\n",
    "final_df.loc[final_df['Country']=='GB','category_id'].value_counts()"
   ]
  },
  {
   "cell_type": "code",
   "execution_count": 85,
   "metadata": {},
   "outputs": [
    {
     "data": {
      "text/plain": [
       "{'1': 'Film & Animation',\n",
       " '2': 'Autos & Vehicles',\n",
       " '10': 'Music',\n",
       " '15': 'Pets & Animals',\n",
       " '17': 'Sports',\n",
       " '18': 'Short Movies',\n",
       " '19': 'Travel & Events',\n",
       " '20': 'Gaming',\n",
       " '21': 'Videoblogging',\n",
       " '22': 'People & Blogs',\n",
       " '23': 'Comedy',\n",
       " '24': 'Entertainment',\n",
       " '25': 'News & Politics',\n",
       " '26': 'Howto & Style',\n",
       " '27': 'Education',\n",
       " '28': 'Science & Technology',\n",
       " '30': 'Movies',\n",
       " '31': 'Anime/Animation',\n",
       " '32': 'Action/Adventure',\n",
       " '33': 'Classics',\n",
       " '34': 'Comedy',\n",
       " '35': 'Documentary',\n",
       " '36': 'Drama',\n",
       " '37': 'Family',\n",
       " '38': 'Foreign',\n",
       " '39': 'Horror',\n",
       " '40': 'Sci-Fi/Fantasy',\n",
       " '41': 'Thriller',\n",
       " '42': 'Shorts',\n",
       " '43': 'Shows',\n",
       " '44': 'Trailers'}"
      ]
     },
     "execution_count": 85,
     "metadata": {},
     "output_type": "execute_result"
    }
   ],
   "source": [
    "# To IN\n",
    "IN_list=IN_dict[\"items\"]\n",
    "IN_dict1={}\n",
    "for i in range(len(IN_list)):\n",
    "    IN_dict1[DE_list[i][\"id\"]]=IN_list[i][\"snippet\"][\"title\"]\n",
    "IN_dict1"
   ]
  },
  {
   "cell_type": "code",
   "execution_count": 86,
   "metadata": {},
   "outputs": [
    {
     "data": {
      "text/plain": [
       "24    7365\n",
       "25    2500\n",
       "22    1193\n",
       "10    1172\n",
       "23    1052\n",
       "27     796\n",
       "1      478\n",
       "26     457\n",
       "28     276\n",
       "17     250\n",
       "43     121\n",
       "29      69\n",
       "2       33\n",
       "20       7\n",
       "19       4\n",
       "30       2\n",
       "15       1\n",
       "Name: category_id, dtype: int64"
      ]
     },
     "execution_count": 86,
     "metadata": {},
     "output_type": "execute_result"
    }
   ],
   "source": [
    "final_df.loc[final_df['Country']=='IN','category_id'].value_counts()"
   ]
  },
  {
   "cell_type": "code",
   "execution_count": 87,
   "metadata": {},
   "outputs": [
    {
     "data": {
      "text/plain": [
       "Entertainment           7365\n",
       "News & Politics         2500\n",
       "People & Blogs          1193\n",
       "Music                   1172\n",
       "Comedy                  1052\n",
       "Education                796\n",
       "Film & Animation         478\n",
       "Howto & Style            457\n",
       "Science & Technology     276\n",
       "Sports                   250\n",
       "Shows                    121\n",
       "29                        69\n",
       "Autos & Vehicles          33\n",
       "Gaming                     7\n",
       "Travel & Events            4\n",
       "Movies                     2\n",
       "Pets & Animals             1\n",
       "Name: category_id, dtype: int64"
      ]
     },
     "execution_count": 87,
     "metadata": {},
     "output_type": "execute_result"
    }
   ],
   "source": [
    "final_df.loc[final_df['Country']=='IN','category_id']=final_df.loc[final_df['Country']=='IN','category_id'].replace(IN_dict1)\n",
    "final_df.loc[final_df['Country']=='IN','category_id'].value_counts()"
   ]
  },
  {
   "cell_type": "code",
   "execution_count": 88,
   "metadata": {},
   "outputs": [
    {
     "data": {
      "text/plain": [
       "{'1': 'Film & Animation',\n",
       " '2': 'Autos & Vehicles',\n",
       " '10': 'Music',\n",
       " '15': 'Pets & Animals',\n",
       " '17': 'Sports',\n",
       " '18': 'Short Movies',\n",
       " '19': 'Travel & Events',\n",
       " '20': 'Gaming',\n",
       " '21': 'Videoblogging',\n",
       " '22': 'People & Blogs',\n",
       " '23': 'Comedy',\n",
       " '24': 'Entertainment',\n",
       " '25': 'News & Politics',\n",
       " '26': 'Howto & Style',\n",
       " '27': 'Education',\n",
       " '28': 'Science & Technology',\n",
       " '30': 'Movies',\n",
       " '31': 'Anime/Animation',\n",
       " '32': 'Action/Adventure',\n",
       " '33': 'Classics',\n",
       " '34': 'Comedy',\n",
       " '35': 'Documentary',\n",
       " '36': 'Drama',\n",
       " '37': 'Family',\n",
       " '38': 'Foreign',\n",
       " '39': 'Horror',\n",
       " '40': 'Sci-Fi/Fantasy',\n",
       " '41': 'Thriller',\n",
       " '42': 'Shorts',\n",
       " '43': 'Shows',\n",
       " '44': 'Trailers'}"
      ]
     },
     "execution_count": 88,
     "metadata": {},
     "output_type": "execute_result"
    }
   ],
   "source": [
    "# To JP\n",
    "JP_list = JP_dict[\"items\"]\n",
    "JP_dict1 = {}\n",
    "for i in range(len(JP_list)):\n",
    "    JP_dict1[JP_list[i][\"id\"]] = JP_list[i][\"snippet\"][\"title\"]\n",
    "JP_dict1"
   ]
  },
  {
   "cell_type": "code",
   "execution_count": 89,
   "metadata": {},
   "outputs": [
    {
     "data": {
      "text/plain": [
       "Series([], Name: category_id, dtype: int64)"
      ]
     },
     "execution_count": 89,
     "metadata": {},
     "output_type": "execute_result"
    }
   ],
   "source": [
    "final_df.loc[final_df['Country']=='JP','category_id'].value_counts()"
   ]
  },
  {
   "cell_type": "code",
   "execution_count": 90,
   "metadata": {},
   "outputs": [
    {
     "data": {
      "text/plain": [
       "Series([], Name: category_id, dtype: int64)"
      ]
     },
     "execution_count": 90,
     "metadata": {},
     "output_type": "execute_result"
    }
   ],
   "source": [
    "final_df.loc[final_df['Country']=='JP','category_id']=final_df.loc[final_df['Country']=='JP','category_id'].replace(JP_dict1)\n",
    "final_df.loc[final_df['Country']=='JP','category_id'].value_counts()"
   ]
  },
  {
   "cell_type": "code",
   "execution_count": 91,
   "metadata": {},
   "outputs": [
    {
     "data": {
      "text/plain": [
       "{'1': 'Film & Animation',\n",
       " '2': 'Autos & Vehicles',\n",
       " '10': 'Music',\n",
       " '15': 'Pets & Animals',\n",
       " '17': 'Sports',\n",
       " '18': 'Short Movies',\n",
       " '19': 'Travel & Events',\n",
       " '20': 'Gaming',\n",
       " '21': 'Videoblogging',\n",
       " '22': 'People & Blogs',\n",
       " '23': 'Comedy',\n",
       " '24': 'Entertainment',\n",
       " '25': 'News & Politics',\n",
       " '26': 'Howto & Style',\n",
       " '27': 'Education',\n",
       " '28': 'Science & Technology',\n",
       " '30': 'Movies',\n",
       " '31': 'Anime/Animation',\n",
       " '32': 'Action/Adventure',\n",
       " '33': 'Classics',\n",
       " '34': 'Comedy',\n",
       " '35': 'Documentary',\n",
       " '36': 'Drama',\n",
       " '37': 'Family',\n",
       " '38': 'Foreign',\n",
       " '39': 'Horror',\n",
       " '40': 'Sci-Fi/Fantasy',\n",
       " '41': 'Thriller',\n",
       " '42': 'Shorts',\n",
       " '43': 'Shows',\n",
       " '44': 'Trailers'}"
      ]
     },
     "execution_count": 91,
     "metadata": {},
     "output_type": "execute_result"
    }
   ],
   "source": [
    "# To KR\n",
    "KR_list = KR_dict[\"items\"]\n",
    "KR_dict1 = {}\n",
    "for i in range(len(KR_list)):\n",
    "    KR_dict1[KR_list[i][\"id\"]] = KR_list[i][\"snippet\"][\"title\"]\n",
    "KR_dict1"
   ]
  },
  {
   "cell_type": "code",
   "execution_count": 92,
   "metadata": {},
   "outputs": [
    {
     "data": {
      "text/plain": [
       "Series([], Name: category_id, dtype: int64)"
      ]
     },
     "execution_count": 92,
     "metadata": {},
     "output_type": "execute_result"
    }
   ],
   "source": [
    "final_df.loc[final_df['Country']=='KR','category_id'].value_counts()"
   ]
  },
  {
   "cell_type": "code",
   "execution_count": 93,
   "metadata": {},
   "outputs": [
    {
     "data": {
      "text/plain": [
       "Series([], Name: category_id, dtype: int64)"
      ]
     },
     "execution_count": 93,
     "metadata": {},
     "output_type": "execute_result"
    }
   ],
   "source": [
    "final_df.loc[final_df['Country']=='KR','category_id']=final_df.loc[final_df['Country']=='KR','category_id'].replace(KR_dict1)\n",
    "final_df.loc[final_df['Country']=='KR','category_id'].value_counts()"
   ]
  },
  {
   "cell_type": "code",
   "execution_count": 94,
   "metadata": {},
   "outputs": [
    {
     "data": {
      "text/plain": [
       "{'1': 'Film & Animation',\n",
       " '2': 'Autos & Vehicles',\n",
       " '10': 'Music',\n",
       " '15': 'Pets & Animals',\n",
       " '17': 'Sports',\n",
       " '18': 'Short Movies',\n",
       " '19': 'Travel & Events',\n",
       " '20': 'Gaming',\n",
       " '21': 'Videoblogging',\n",
       " '22': 'People & Blogs',\n",
       " '23': 'Comedy',\n",
       " '24': 'Entertainment',\n",
       " '25': 'News & Politics',\n",
       " '26': 'Howto & Style',\n",
       " '27': 'Education',\n",
       " '28': 'Science & Technology',\n",
       " '30': 'Movies',\n",
       " '31': 'Anime/Animation',\n",
       " '32': 'Action/Adventure',\n",
       " '33': 'Classics',\n",
       " '34': 'Comedy',\n",
       " '35': 'Documentary',\n",
       " '36': 'Drama',\n",
       " '37': 'Family',\n",
       " '38': 'Foreign',\n",
       " '39': 'Horror',\n",
       " '40': 'Sci-Fi/Fantasy',\n",
       " '41': 'Thriller',\n",
       " '42': 'Shorts',\n",
       " '43': 'Shows',\n",
       " '44': 'Trailers'}"
      ]
     },
     "execution_count": 94,
     "metadata": {},
     "output_type": "execute_result"
    }
   ],
   "source": [
    "# To MX\n",
    "MX_list = MX_dict[\"items\"]\n",
    "MX_dict1 = {}\n",
    "for i in range(len(MX_list)):\n",
    "    MX_dict1[MX_list[i][\"id\"]] = MX_list[i][\"snippet\"][\"title\"]\n",
    "MX_dict1"
   ]
  },
  {
   "cell_type": "code",
   "execution_count": 95,
   "metadata": {},
   "outputs": [
    {
     "data": {
      "text/plain": [
       "Series([], Name: category_id, dtype: int64)"
      ]
     },
     "execution_count": 95,
     "metadata": {},
     "output_type": "execute_result"
    }
   ],
   "source": [
    "final_df.loc[final_df['Country']=='MX','category_id'].value_counts()"
   ]
  },
  {
   "cell_type": "code",
   "execution_count": 96,
   "metadata": {},
   "outputs": [
    {
     "data": {
      "text/plain": [
       "Series([], Name: category_id, dtype: int64)"
      ]
     },
     "execution_count": 96,
     "metadata": {},
     "output_type": "execute_result"
    }
   ],
   "source": [
    "final_df.loc[final_df['Country']=='MX','category_id']=final_df.loc[final_df['Country']=='MX','category_id'].replace(MX_dict1)\n",
    "final_df.loc[final_df['Country']=='MX','category_id'].value_counts()"
   ]
  },
  {
   "cell_type": "code",
   "execution_count": 97,
   "metadata": {},
   "outputs": [
    {
     "data": {
      "text/plain": [
       "{'1': 'Film & Animation',\n",
       " '2': 'Autos & Vehicles',\n",
       " '10': 'Music',\n",
       " '15': 'Pets & Animals',\n",
       " '17': 'Sports',\n",
       " '18': 'Short Movies',\n",
       " '19': 'Travel & Events',\n",
       " '20': 'Gaming',\n",
       " '21': 'Videoblogging',\n",
       " '22': 'People & Blogs',\n",
       " '23': 'Comedy',\n",
       " '24': 'Entertainment',\n",
       " '25': 'News & Politics',\n",
       " '26': 'Howto & Style',\n",
       " '27': 'Education',\n",
       " '28': 'Science & Technology',\n",
       " '30': 'Movies',\n",
       " '31': 'Anime/Animation',\n",
       " '32': 'Action/Adventure',\n",
       " '33': 'Classics',\n",
       " '34': 'Comedy',\n",
       " '35': 'Documentary',\n",
       " '36': 'Drama',\n",
       " '37': 'Family',\n",
       " '38': 'Foreign',\n",
       " '39': 'Horror',\n",
       " '40': 'Sci-Fi/Fantasy',\n",
       " '41': 'Thriller',\n",
       " '42': 'Shorts',\n",
       " '43': 'Shows',\n",
       " '44': 'Trailers'}"
      ]
     },
     "execution_count": 97,
     "metadata": {},
     "output_type": "execute_result"
    }
   ],
   "source": [
    "# To RU\n",
    "RU_list = RU_dict[\"items\"]\n",
    "RU_dict1 = {}\n",
    "for i in range(len(RU_list)):\n",
    "    RU_dict1[RU_list[i][\"id\"]] = RU_list[i][\"snippet\"][\"title\"]\n",
    "RU_dict1"
   ]
  },
  {
   "cell_type": "code",
   "execution_count": 98,
   "metadata": {},
   "outputs": [
    {
     "data": {
      "text/plain": [
       "Series([], Name: category_id, dtype: int64)"
      ]
     },
     "execution_count": 98,
     "metadata": {},
     "output_type": "execute_result"
    }
   ],
   "source": [
    "final_df.loc[final_df['Country']=='RU','category_id'].value_counts()"
   ]
  },
  {
   "cell_type": "code",
   "execution_count": 99,
   "metadata": {},
   "outputs": [
    {
     "data": {
      "text/plain": [
       "Series([], Name: category_id, dtype: int64)"
      ]
     },
     "execution_count": 99,
     "metadata": {},
     "output_type": "execute_result"
    }
   ],
   "source": [
    "final_df.loc[final_df['Country']=='RU','category_id']=final_df.loc[final_df['Country']=='RU','category_id'].replace(RU_dict1)\n",
    "final_df.loc[final_df['Country']=='RU','category_id'].value_counts()"
   ]
  },
  {
   "cell_type": "code",
   "execution_count": 100,
   "metadata": {},
   "outputs": [
    {
     "data": {
      "text/plain": [
       "{'1': 'Film & Animation',\n",
       " '2': 'Autos & Vehicles',\n",
       " '10': 'Music',\n",
       " '15': 'Pets & Animals',\n",
       " '17': 'Sports',\n",
       " '18': 'Short Movies',\n",
       " '19': 'Travel & Events',\n",
       " '20': 'Gaming',\n",
       " '21': 'Videoblogging',\n",
       " '22': 'People & Blogs',\n",
       " '23': 'Comedy',\n",
       " '24': 'Entertainment',\n",
       " '25': 'News & Politics',\n",
       " '26': 'Howto & Style',\n",
       " '27': 'Education',\n",
       " '28': 'Science & Technology',\n",
       " '29': 'Nonprofits & Activism',\n",
       " '30': 'Movies',\n",
       " '31': 'Anime/Animation',\n",
       " '32': 'Action/Adventure',\n",
       " '33': 'Classics',\n",
       " '34': 'Comedy',\n",
       " '35': 'Documentary',\n",
       " '36': 'Drama',\n",
       " '37': 'Family',\n",
       " '38': 'Foreign',\n",
       " '39': 'Horror',\n",
       " '40': 'Sci-Fi/Fantasy',\n",
       " '41': 'Thriller',\n",
       " '42': 'Shorts',\n",
       " '43': 'Shows',\n",
       " '44': 'Trailers'}"
      ]
     },
     "execution_count": 100,
     "metadata": {},
     "output_type": "execute_result"
    }
   ],
   "source": [
    "# To US\n",
    "US_list = US_dict[\"items\"]\n",
    "US_dict1 = {}\n",
    "for i in range(len(US_list)):\n",
    "    US_dict1[US_list[i][\"id\"]] = US_list[i][\"snippet\"][\"title\"]\n",
    "US_dict1"
   ]
  },
  {
   "cell_type": "code",
   "execution_count": 101,
   "metadata": {},
   "outputs": [
    {
     "data": {
      "text/plain": [
       "24    1608\n",
       "10     795\n",
       "26     589\n",
       "23     539\n",
       "25     495\n",
       "22     489\n",
       "17     446\n",
       "28     373\n",
       "1      318\n",
       "27     245\n",
       "15     136\n",
       "20     102\n",
       "2       70\n",
       "19      59\n",
       "29      14\n",
       "43       4\n",
       "Name: category_id, dtype: int64"
      ]
     },
     "execution_count": 101,
     "metadata": {},
     "output_type": "execute_result"
    }
   ],
   "source": [
    "final_df.loc[final_df['Country']=='US','category_id'].value_counts()"
   ]
  },
  {
   "cell_type": "code",
   "execution_count": 102,
   "metadata": {},
   "outputs": [
    {
     "data": {
      "text/plain": [
       "Entertainment            1608\n",
       "Music                     795\n",
       "Howto & Style             589\n",
       "Comedy                    539\n",
       "News & Politics           495\n",
       "People & Blogs            489\n",
       "Sports                    446\n",
       "Science & Technology      373\n",
       "Film & Animation          318\n",
       "Education                 245\n",
       "Pets & Animals            136\n",
       "Gaming                    102\n",
       "Autos & Vehicles           70\n",
       "Travel & Events            59\n",
       "Nonprofits & Activism      14\n",
       "Shows                       4\n",
       "Name: category_id, dtype: int64"
      ]
     },
     "execution_count": 102,
     "metadata": {},
     "output_type": "execute_result"
    }
   ],
   "source": [
    "final_df.loc[final_df['Country']=='US','category_id']=final_df.loc[final_df['Country']=='US','category_id'].replace(US_dict1)\n",
    "final_df.loc[final_df['Country']=='US','category_id'].value_counts()"
   ]
  },
  {
   "cell_type": "code",
   "execution_count": 103,
   "metadata": {},
   "outputs": [
    {
     "data": {
      "text/plain": [
       "Entertainment            14368\n",
       "News & Politics           5416\n",
       "People & Blogs            3664\n",
       "Music                     2938\n",
       "Comedy                    2577\n",
       "Sports                    2147\n",
       "Howto & Style             1954\n",
       "Film & Animation          1539\n",
       "Education                 1482\n",
       "Science & Technology       978\n",
       "Gaming                     803\n",
       "Autos & Vehicles           320\n",
       "Pets & Animals             283\n",
       "Travel & Events            211\n",
       "Shows                      140\n",
       "29                         113\n",
       "Nonprofits & Activism       14\n",
       "Movies                       2\n",
       "Name: category_id, dtype: int64"
      ]
     },
     "execution_count": 103,
     "metadata": {},
     "output_type": "execute_result"
    }
   ],
   "source": [
    "final_df['category_id'].value_counts()"
   ]
  },
  {
   "cell_type": "code",
   "execution_count": 104,
   "metadata": {},
   "outputs": [],
   "source": [
    "final_df['category_id'] = final_df['category_id'].replace('29','Other')"
   ]
  },
  {
   "cell_type": "code",
   "execution_count": 105,
   "metadata": {},
   "outputs": [
    {
     "data": {
      "text/html": [
       "<div>\n",
       "<style scoped>\n",
       "    .dataframe tbody tr th:only-of-type {\n",
       "        vertical-align: middle;\n",
       "    }\n",
       "\n",
       "    .dataframe tbody tr th {\n",
       "        vertical-align: top;\n",
       "    }\n",
       "\n",
       "    .dataframe thead th {\n",
       "        text-align: right;\n",
       "    }\n",
       "</style>\n",
       "<table border=\"1\" class=\"dataframe\">\n",
       "  <thead>\n",
       "    <tr style=\"text-align: right;\">\n",
       "      <th></th>\n",
       "      <th>Unnamed: 0</th>\n",
       "      <th>index</th>\n",
       "      <th>video_id</th>\n",
       "      <th>trending_date</th>\n",
       "      <th>title</th>\n",
       "      <th>channel_title</th>\n",
       "      <th>category</th>\n",
       "      <th>publish_date</th>\n",
       "      <th>publish_time</th>\n",
       "      <th>tags</th>\n",
       "      <th>...</th>\n",
       "      <th>video_error_or_removed</th>\n",
       "      <th>description</th>\n",
       "      <th>Country</th>\n",
       "      <th>trending_date_count</th>\n",
       "      <th>Tags</th>\n",
       "      <th>TagCount</th>\n",
       "      <th>description_url</th>\n",
       "      <th>len</th>\n",
       "      <th>pure_description_url</th>\n",
       "      <th>description_text</th>\n",
       "    </tr>\n",
       "  </thead>\n",
       "  <tbody>\n",
       "    <tr>\n",
       "      <td>0</td>\n",
       "      <td>0</td>\n",
       "      <td>0</td>\n",
       "      <td>FyZMnhUtLfE</td>\n",
       "      <td>2017-11-14</td>\n",
       "      <td>猎场 | Game Of Hunting 12【TV版】（胡歌、張嘉譯、祖峰等主演）</td>\n",
       "      <td>大劇獨播</td>\n",
       "      <td>Film &amp; Animation</td>\n",
       "      <td>2017-11-12</td>\n",
       "      <td>2020-04-29 16:00:01+00:00</td>\n",
       "      <td>電視劇|\"大陸電視劇\"|\"猎场\"|\"职场\"|\"商战\"|\"爱情\"|\"都市\"|\"胡歌\"|\"陈龙\"...</td>\n",
       "      <td>...</td>\n",
       "      <td>0</td>\n",
       "      <td>Thanks for watching the drama! Help more peopl...</td>\n",
       "      <td>CA</td>\n",
       "      <td>1</td>\n",
       "      <td>['電視劇', '大陸電視劇', '猎场', '职场', '商战', '爱情', '都市',...</td>\n",
       "      <td>33</td>\n",
       "      <td>['https://goo.gl/q8oOgq', 'https://goo.gl/bXGI...</td>\n",
       "      <td>10</td>\n",
       "      <td>['https://goo.gl/q8oOgq', 'https://goo.gl/bXGI...</td>\n",
       "      <td>Thanks for watching the drama! Help more peopl...</td>\n",
       "    </tr>\n",
       "    <tr>\n",
       "      <td>1</td>\n",
       "      <td>1</td>\n",
       "      <td>1</td>\n",
       "      <td>gifPYwArCVQ</td>\n",
       "      <td>2017-11-14</td>\n",
       "      <td>Fake Pet Smart Employee Prank!</td>\n",
       "      <td>NELK</td>\n",
       "      <td>Comedy</td>\n",
       "      <td>2017-11-13</td>\n",
       "      <td>2020-04-29 01:30:01+00:00</td>\n",
       "      <td>prank|\"pranks\"|\"nelk\"|\"nelkfilmz\"|\"nelkfilms\"</td>\n",
       "      <td>...</td>\n",
       "      <td>0</td>\n",
       "      <td>3 Days left to cop NELK merch: https://nelk.ca...</td>\n",
       "      <td>CA</td>\n",
       "      <td>1</td>\n",
       "      <td>['prank', 'pranks', 'nelk', 'nelkfilmz', 'nelk...</td>\n",
       "      <td>5</td>\n",
       "      <td>['https://nelk.ca\\\\n\\\\nFollow', 'https://twitt...</td>\n",
       "      <td>3</td>\n",
       "      <td>['https://nelk.ca', 'https://twitter.com/NelkF...</td>\n",
       "      <td>3 Days left to cop NELK merch:  us on Instagra...</td>\n",
       "    </tr>\n",
       "    <tr>\n",
       "      <td>2</td>\n",
       "      <td>2</td>\n",
       "      <td>2</td>\n",
       "      <td>fy-CuCzaPp8</td>\n",
       "      <td>2017-11-14</td>\n",
       "      <td>Rooster Teeth Animated Adventures - Drunk Baby...</td>\n",
       "      <td>Rooster Teeth</td>\n",
       "      <td>Film &amp; Animation</td>\n",
       "      <td>2017-11-13</td>\n",
       "      <td>2020-04-29 14:00:03+00:00</td>\n",
       "      <td>Rooster Teeth|\"RT\"|\"animation\"|\"television\"|\"f...</td>\n",
       "      <td>...</td>\n",
       "      <td>0</td>\n",
       "      <td>Miles gets stuck at work one night watching ov...</td>\n",
       "      <td>CA</td>\n",
       "      <td>1</td>\n",
       "      <td>['Rooster Teeth', 'RT', 'animation', 'televisi...</td>\n",
       "      <td>49</td>\n",
       "      <td>['http://bit.ly/2uRn6Ox\\\\n\\\\nAudio', 'http://r...</td>\n",
       "      <td>7</td>\n",
       "      <td>['http://bit.ly/2uRn6Ox', 'http://roosterteeth...</td>\n",
       "      <td>Miles gets stuck at work one night watching ov...</td>\n",
       "    </tr>\n",
       "    <tr>\n",
       "      <td>3</td>\n",
       "      <td>3</td>\n",
       "      <td>3</td>\n",
       "      <td>aVTAU_4i9AY</td>\n",
       "      <td>2017-11-14</td>\n",
       "      <td>Throwing Things Into A Fan!</td>\n",
       "      <td>REKT</td>\n",
       "      <td>Entertainment</td>\n",
       "      <td>2017-11-12</td>\n",
       "      <td>2020-04-29 23:00:00+00:00</td>\n",
       "      <td>Industrial Fan|\"Industrial Fan Destruction\"|\"T...</td>\n",
       "      <td>...</td>\n",
       "      <td>0</td>\n",
       "      <td>Destroying Unbreakable Glasses! ➡ https://www....</td>\n",
       "      <td>CA</td>\n",
       "      <td>1</td>\n",
       "      <td>['Industrial Fan', 'Industrial Fan Destruction...</td>\n",
       "      <td>22</td>\n",
       "      <td>['https://www.youtube.com/watch?v=dFm7n5tQzrU\\...</td>\n",
       "      <td>4</td>\n",
       "      <td>['https://www.youtube.com/watch?v=dFm7n5tQzrU'...</td>\n",
       "      <td>Destroying Unbreakable Glasses! ➡  ➡ ⬇️ MORE L...</td>\n",
       "    </tr>\n",
       "    <tr>\n",
       "      <td>4</td>\n",
       "      <td>4</td>\n",
       "      <td>4</td>\n",
       "      <td>m-nZmgHWoEw</td>\n",
       "      <td>2017-11-14</td>\n",
       "      <td>Mythical Dog Party</td>\n",
       "      <td>Good Mythical MORE</td>\n",
       "      <td>Entertainment</td>\n",
       "      <td>2017-11-13</td>\n",
       "      <td>2020-04-29 11:00:06+00:00</td>\n",
       "      <td>rhett and link|\"good mythical more\"|\"rhett and...</td>\n",
       "      <td>...</td>\n",
       "      <td>0</td>\n",
       "      <td>We're hanging with some of the dogs of the Myt...</td>\n",
       "      <td>CA</td>\n",
       "      <td>1</td>\n",
       "      <td>['rhett and link', 'good mythical more', 'rhet...</td>\n",
       "      <td>29</td>\n",
       "      <td>['http://bit.ly/GMM1218', 'http://bit.ly/GMM12...</td>\n",
       "      <td>19</td>\n",
       "      <td>['http://bit.ly/GMM1218', 'http://bit.ly/GMM12...</td>\n",
       "      <td>We're hanging with some of the dogs of the Myt...</td>\n",
       "    </tr>\n",
       "    <tr>\n",
       "      <td>...</td>\n",
       "      <td>...</td>\n",
       "      <td>...</td>\n",
       "      <td>...</td>\n",
       "      <td>...</td>\n",
       "      <td>...</td>\n",
       "      <td>...</td>\n",
       "      <td>...</td>\n",
       "      <td>...</td>\n",
       "      <td>...</td>\n",
       "      <td>...</td>\n",
       "      <td>...</td>\n",
       "      <td>...</td>\n",
       "      <td>...</td>\n",
       "      <td>...</td>\n",
       "      <td>...</td>\n",
       "      <td>...</td>\n",
       "      <td>...</td>\n",
       "      <td>...</td>\n",
       "      <td>...</td>\n",
       "      <td>...</td>\n",
       "      <td>...</td>\n",
       "    </tr>\n",
       "    <tr>\n",
       "      <td>38944</td>\n",
       "      <td>38944</td>\n",
       "      <td>184244</td>\n",
       "      <td>BZt0qjTWNhw</td>\n",
       "      <td>2018-06-14</td>\n",
       "      <td>The Cat Who Caught the Laser</td>\n",
       "      <td>AaronsAnimals</td>\n",
       "      <td>Pets &amp; Animals</td>\n",
       "      <td>2018-05-18</td>\n",
       "      <td>2020-04-29 13:00:04+00:00</td>\n",
       "      <td>aarons animals|\"aarons\"|\"animals\"|\"cat\"|\"cats\"...</td>\n",
       "      <td>...</td>\n",
       "      <td>0</td>\n",
       "      <td>The Cat Who Caught the Laser - Aaron's Animals</td>\n",
       "      <td>US</td>\n",
       "      <td>46</td>\n",
       "      <td>['aarons animals', 'aarons', 'animals', 'cat',...</td>\n",
       "      <td>14</td>\n",
       "      <td>[]</td>\n",
       "      <td>0</td>\n",
       "      <td>0</td>\n",
       "      <td>The Cat Who Caught the Laser - Aaron's Animals</td>\n",
       "    </tr>\n",
       "    <tr>\n",
       "      <td>38945</td>\n",
       "      <td>38945</td>\n",
       "      <td>184245</td>\n",
       "      <td>1h7KV2sjUWY</td>\n",
       "      <td>2018-06-14</td>\n",
       "      <td>True Facts : Ant Mutualism</td>\n",
       "      <td>zefrank1</td>\n",
       "      <td>People &amp; Blogs</td>\n",
       "      <td>2018-05-18</td>\n",
       "      <td>2020-04-29 01:00:06+00:00</td>\n",
       "      <td>[none]</td>\n",
       "      <td>...</td>\n",
       "      <td>0</td>\n",
       "      <td>NaN</td>\n",
       "      <td>US</td>\n",
       "      <td>31</td>\n",
       "      <td>['[none]']</td>\n",
       "      <td>1</td>\n",
       "      <td>0</td>\n",
       "      <td>0</td>\n",
       "      <td>0</td>\n",
       "      <td>NaN</td>\n",
       "    </tr>\n",
       "    <tr>\n",
       "      <td>38946</td>\n",
       "      <td>38946</td>\n",
       "      <td>184246</td>\n",
       "      <td>D6Oy4LfoqsU</td>\n",
       "      <td>2018-06-14</td>\n",
       "      <td>I GAVE SAFIYA NYGAARD A PERFECT HAIR MAKEOVER ...</td>\n",
       "      <td>Brad Mondo</td>\n",
       "      <td>Entertainment</td>\n",
       "      <td>2018-05-18</td>\n",
       "      <td>2020-04-29 17:34:22+00:00</td>\n",
       "      <td>I gave safiya nygaard a perfect hair makeover ...</td>\n",
       "      <td>...</td>\n",
       "      <td>0</td>\n",
       "      <td>I had so much fun transforming Safiyas hair in...</td>\n",
       "      <td>US</td>\n",
       "      <td>28</td>\n",
       "      <td>['I gave safiya nygaard a perfect hair makeove...</td>\n",
       "      <td>24</td>\n",
       "      <td>['https://goo.gl/C92AmbSHOP', 'https://goo.gl/...</td>\n",
       "      <td>14</td>\n",
       "      <td>['https://goo.gl/C92AmbSHOP', 'https://goo.gl/...</td>\n",
       "      <td>I had so much fun transforming Safiyas hair in...</td>\n",
       "    </tr>\n",
       "    <tr>\n",
       "      <td>38947</td>\n",
       "      <td>38947</td>\n",
       "      <td>184247</td>\n",
       "      <td>oV0zkMe1K8s</td>\n",
       "      <td>2018-06-14</td>\n",
       "      <td>How Black Panther Should Have Ended</td>\n",
       "      <td>How It Should Have Ended</td>\n",
       "      <td>Film &amp; Animation</td>\n",
       "      <td>2018-05-17</td>\n",
       "      <td>2020-04-29 17:00:04+00:00</td>\n",
       "      <td>Black Panther|\"HISHE\"|\"Marvel\"|\"Infinity War\"|...</td>\n",
       "      <td>...</td>\n",
       "      <td>0</td>\n",
       "      <td>How Black Panther Should Have EndedWatch More ...</td>\n",
       "      <td>US</td>\n",
       "      <td>3</td>\n",
       "      <td>['Black Panther', 'HISHE', 'Marvel', 'Infinity...</td>\n",
       "      <td>22</td>\n",
       "      <td>['https://bit.ly/HISHEPlaylistSubscribe', 'htt...</td>\n",
       "      <td>48</td>\n",
       "      <td>['https://bit.ly/HISHEPlaylistSubscribe', 'htt...</td>\n",
       "      <td>How Black Panther Should Have EndedWatch More ...</td>\n",
       "    </tr>\n",
       "    <tr>\n",
       "      <td>38948</td>\n",
       "      <td>38948</td>\n",
       "      <td>184248</td>\n",
       "      <td>ooyjaVdt-jA</td>\n",
       "      <td>2018-06-14</td>\n",
       "      <td>Official Call of Duty®: Black Ops 4 — Multipla...</td>\n",
       "      <td>Call of Duty</td>\n",
       "      <td>Gaming</td>\n",
       "      <td>2018-05-17</td>\n",
       "      <td>2020-04-29 17:09:38+00:00</td>\n",
       "      <td>call of duty|\"cod\"|\"activision\"|\"Black Ops 4\"</td>\n",
       "      <td>...</td>\n",
       "      <td>0</td>\n",
       "      <td>Call of Duty: Black Ops 4 Multiplayer raises t...</td>\n",
       "      <td>US</td>\n",
       "      <td>31</td>\n",
       "      <td>['call of duty', 'cod', 'activision', 'Black O...</td>\n",
       "      <td>4</td>\n",
       "      <td>['https://www.callofduty.com/blackops4/buyFoll...</td>\n",
       "      <td>8</td>\n",
       "      <td>['https://www.callofduty.com/blackops4/buyFoll...</td>\n",
       "      <td>Call of Duty: Black Ops 4 Multiplayer raises t...</td>\n",
       "    </tr>\n",
       "  </tbody>\n",
       "</table>\n",
       "<p>38949 rows × 27 columns</p>\n",
       "</div>"
      ],
      "text/plain": [
       "       Unnamed: 0   index     video_id trending_date  \\\n",
       "0               0       0  FyZMnhUtLfE    2017-11-14   \n",
       "1               1       1  gifPYwArCVQ    2017-11-14   \n",
       "2               2       2  fy-CuCzaPp8    2017-11-14   \n",
       "3               3       3  aVTAU_4i9AY    2017-11-14   \n",
       "4               4       4  m-nZmgHWoEw    2017-11-14   \n",
       "...           ...     ...          ...           ...   \n",
       "38944       38944  184244  BZt0qjTWNhw    2018-06-14   \n",
       "38945       38945  184245  1h7KV2sjUWY    2018-06-14   \n",
       "38946       38946  184246  D6Oy4LfoqsU    2018-06-14   \n",
       "38947       38947  184247  oV0zkMe1K8s    2018-06-14   \n",
       "38948       38948  184248  ooyjaVdt-jA    2018-06-14   \n",
       "\n",
       "                                                   title  \\\n",
       "0             猎场 | Game Of Hunting 12【TV版】（胡歌、張嘉譯、祖峰等主演）   \n",
       "1                         Fake Pet Smart Employee Prank!   \n",
       "2      Rooster Teeth Animated Adventures - Drunk Baby...   \n",
       "3                            Throwing Things Into A Fan!   \n",
       "4                                     Mythical Dog Party   \n",
       "...                                                  ...   \n",
       "38944                       The Cat Who Caught the Laser   \n",
       "38945                         True Facts : Ant Mutualism   \n",
       "38946  I GAVE SAFIYA NYGAARD A PERFECT HAIR MAKEOVER ...   \n",
       "38947                How Black Panther Should Have Ended   \n",
       "38948  Official Call of Duty®: Black Ops 4 — Multipla...   \n",
       "\n",
       "                  channel_title          category publish_date  \\\n",
       "0                          大劇獨播  Film & Animation   2017-11-12   \n",
       "1                          NELK            Comedy   2017-11-13   \n",
       "2                 Rooster Teeth  Film & Animation   2017-11-13   \n",
       "3                          REKT     Entertainment   2017-11-12   \n",
       "4            Good Mythical MORE     Entertainment   2017-11-13   \n",
       "...                         ...               ...          ...   \n",
       "38944             AaronsAnimals    Pets & Animals   2018-05-18   \n",
       "38945                  zefrank1    People & Blogs   2018-05-18   \n",
       "38946                Brad Mondo     Entertainment   2018-05-18   \n",
       "38947  How It Should Have Ended  Film & Animation   2018-05-17   \n",
       "38948              Call of Duty            Gaming   2018-05-17   \n",
       "\n",
       "                    publish_time  \\\n",
       "0      2020-04-29 16:00:01+00:00   \n",
       "1      2020-04-29 01:30:01+00:00   \n",
       "2      2020-04-29 14:00:03+00:00   \n",
       "3      2020-04-29 23:00:00+00:00   \n",
       "4      2020-04-29 11:00:06+00:00   \n",
       "...                          ...   \n",
       "38944  2020-04-29 13:00:04+00:00   \n",
       "38945  2020-04-29 01:00:06+00:00   \n",
       "38946  2020-04-29 17:34:22+00:00   \n",
       "38947  2020-04-29 17:00:04+00:00   \n",
       "38948  2020-04-29 17:09:38+00:00   \n",
       "\n",
       "                                                    tags  ...  \\\n",
       "0      電視劇|\"大陸電視劇\"|\"猎场\"|\"职场\"|\"商战\"|\"爱情\"|\"都市\"|\"胡歌\"|\"陈龙\"...  ...   \n",
       "1          prank|\"pranks\"|\"nelk\"|\"nelkfilmz\"|\"nelkfilms\"  ...   \n",
       "2      Rooster Teeth|\"RT\"|\"animation\"|\"television\"|\"f...  ...   \n",
       "3      Industrial Fan|\"Industrial Fan Destruction\"|\"T...  ...   \n",
       "4      rhett and link|\"good mythical more\"|\"rhett and...  ...   \n",
       "...                                                  ...  ...   \n",
       "38944  aarons animals|\"aarons\"|\"animals\"|\"cat\"|\"cats\"...  ...   \n",
       "38945                                             [none]  ...   \n",
       "38946  I gave safiya nygaard a perfect hair makeover ...  ...   \n",
       "38947  Black Panther|\"HISHE\"|\"Marvel\"|\"Infinity War\"|...  ...   \n",
       "38948      call of duty|\"cod\"|\"activision\"|\"Black Ops 4\"  ...   \n",
       "\n",
       "       video_error_or_removed  \\\n",
       "0                           0   \n",
       "1                           0   \n",
       "2                           0   \n",
       "3                           0   \n",
       "4                           0   \n",
       "...                       ...   \n",
       "38944                       0   \n",
       "38945                       0   \n",
       "38946                       0   \n",
       "38947                       0   \n",
       "38948                       0   \n",
       "\n",
       "                                             description  Country  \\\n",
       "0      Thanks for watching the drama! Help more peopl...       CA   \n",
       "1      3 Days left to cop NELK merch: https://nelk.ca...       CA   \n",
       "2      Miles gets stuck at work one night watching ov...       CA   \n",
       "3      Destroying Unbreakable Glasses! ➡ https://www....       CA   \n",
       "4      We're hanging with some of the dogs of the Myt...       CA   \n",
       "...                                                  ...      ...   \n",
       "38944     The Cat Who Caught the Laser - Aaron's Animals       US   \n",
       "38945                                                NaN       US   \n",
       "38946  I had so much fun transforming Safiyas hair in...       US   \n",
       "38947  How Black Panther Should Have EndedWatch More ...       US   \n",
       "38948  Call of Duty: Black Ops 4 Multiplayer raises t...       US   \n",
       "\n",
       "       trending_date_count                                               Tags  \\\n",
       "0                        1  ['電視劇', '大陸電視劇', '猎场', '职场', '商战', '爱情', '都市',...   \n",
       "1                        1  ['prank', 'pranks', 'nelk', 'nelkfilmz', 'nelk...   \n",
       "2                        1  ['Rooster Teeth', 'RT', 'animation', 'televisi...   \n",
       "3                        1  ['Industrial Fan', 'Industrial Fan Destruction...   \n",
       "4                        1  ['rhett and link', 'good mythical more', 'rhet...   \n",
       "...                    ...                                                ...   \n",
       "38944                   46  ['aarons animals', 'aarons', 'animals', 'cat',...   \n",
       "38945                   31                                         ['[none]']   \n",
       "38946                   28  ['I gave safiya nygaard a perfect hair makeove...   \n",
       "38947                    3  ['Black Panther', 'HISHE', 'Marvel', 'Infinity...   \n",
       "38948                   31  ['call of duty', 'cod', 'activision', 'Black O...   \n",
       "\n",
       "       TagCount                                    description_url  len  \\\n",
       "0            33  ['https://goo.gl/q8oOgq', 'https://goo.gl/bXGI...   10   \n",
       "1             5  ['https://nelk.ca\\\\n\\\\nFollow', 'https://twitt...    3   \n",
       "2            49  ['http://bit.ly/2uRn6Ox\\\\n\\\\nAudio', 'http://r...    7   \n",
       "3            22  ['https://www.youtube.com/watch?v=dFm7n5tQzrU\\...    4   \n",
       "4            29  ['http://bit.ly/GMM1218', 'http://bit.ly/GMM12...   19   \n",
       "...         ...                                                ...  ...   \n",
       "38944        14                                                 []    0   \n",
       "38945         1                                                  0    0   \n",
       "38946        24  ['https://goo.gl/C92AmbSHOP', 'https://goo.gl/...   14   \n",
       "38947        22  ['https://bit.ly/HISHEPlaylistSubscribe', 'htt...   48   \n",
       "38948         4  ['https://www.callofduty.com/blackops4/buyFoll...    8   \n",
       "\n",
       "                                    pure_description_url  \\\n",
       "0      ['https://goo.gl/q8oOgq', 'https://goo.gl/bXGI...   \n",
       "1      ['https://nelk.ca', 'https://twitter.com/NelkF...   \n",
       "2      ['http://bit.ly/2uRn6Ox', 'http://roosterteeth...   \n",
       "3      ['https://www.youtube.com/watch?v=dFm7n5tQzrU'...   \n",
       "4      ['http://bit.ly/GMM1218', 'http://bit.ly/GMM12...   \n",
       "...                                                  ...   \n",
       "38944                                                  0   \n",
       "38945                                                  0   \n",
       "38946  ['https://goo.gl/C92AmbSHOP', 'https://goo.gl/...   \n",
       "38947  ['https://bit.ly/HISHEPlaylistSubscribe', 'htt...   \n",
       "38948  ['https://www.callofduty.com/blackops4/buyFoll...   \n",
       "\n",
       "                                        description_text  \n",
       "0      Thanks for watching the drama! Help more peopl...  \n",
       "1      3 Days left to cop NELK merch:  us on Instagra...  \n",
       "2      Miles gets stuck at work one night watching ov...  \n",
       "3      Destroying Unbreakable Glasses! ➡  ➡ ⬇️ MORE L...  \n",
       "4      We're hanging with some of the dogs of the Myt...  \n",
       "...                                                  ...  \n",
       "38944     The Cat Who Caught the Laser - Aaron's Animals  \n",
       "38945                                                NaN  \n",
       "38946  I had so much fun transforming Safiyas hair in...  \n",
       "38947  How Black Panther Should Have EndedWatch More ...  \n",
       "38948  Call of Duty: Black Ops 4 Multiplayer raises t...  \n",
       "\n",
       "[38949 rows x 27 columns]"
      ]
     },
     "execution_count": 105,
     "metadata": {},
     "output_type": "execute_result"
    }
   ],
   "source": [
    "final_df.rename(columns={'category_id':'category'})"
   ]
  },
  {
   "cell_type": "code",
   "execution_count": 118,
   "metadata": {},
   "outputs": [],
   "source": [
    "# Export the final_df\n",
    "final_df.to_csv('C:\\\\Users\\\\16971\\\\Downloads\\\\youtube_text.csv', index = False)"
   ]
  },
  {
   "cell_type": "code",
   "execution_count": 119,
   "metadata": {},
   "outputs": [],
   "source": [
    "final_df = pd.read_csv('C:\\\\Users\\\\16971\\\\Downloads\\\\final_df.csv')"
   ]
  },
  {
   "cell_type": "code",
   "execution_count": 123,
   "metadata": {
    "scrolled": true
   },
   "outputs": [
    {
     "data": {
      "text/plain": [
       "Entertainment            52912\n",
       "People & Blogs           33252\n",
       "News & Politics          22176\n",
       "Sports                   13541\n",
       "Comedy                   10728\n",
       "Music                    10525\n",
       "Howto & Style             9740\n",
       "Film & Animation          9228\n",
       "Gaming                    5581\n",
       "Education                 4082\n",
       "Science & Technology      3466\n",
       "Autos & Vehicles          3408\n",
       "Pets & Animals            2328\n",
       "Other                     1970\n",
       "Travel & Events            849\n",
       "Shows                      434\n",
       "Nonprofits & Activism       14\n",
       "Movies                      12\n",
       "Trailers                     3\n",
       "Name: category_id, dtype: int64"
      ]
     },
     "execution_count": 123,
     "metadata": {},
     "output_type": "execute_result"
    }
   ],
   "source": [
    "final_df['category_id'].value_counts()"
   ]
  },
  {
   "cell_type": "code",
   "execution_count": 116,
   "metadata": {},
   "outputs": [],
   "source": [
    "final_df = final_df.drop(['Unnamed: 0','index'],axis=1)"
   ]
  },
  {
   "cell_type": "code",
   "execution_count": 117,
   "metadata": {
    "scrolled": true
   },
   "outputs": [
    {
     "data": {
      "text/html": [
       "<div>\n",
       "<style scoped>\n",
       "    .dataframe tbody tr th:only-of-type {\n",
       "        vertical-align: middle;\n",
       "    }\n",
       "\n",
       "    .dataframe tbody tr th {\n",
       "        vertical-align: top;\n",
       "    }\n",
       "\n",
       "    .dataframe thead th {\n",
       "        text-align: right;\n",
       "    }\n",
       "</style>\n",
       "<table border=\"1\" class=\"dataframe\">\n",
       "  <thead>\n",
       "    <tr style=\"text-align: right;\">\n",
       "      <th></th>\n",
       "      <th>video_id</th>\n",
       "      <th>trending_date</th>\n",
       "      <th>title</th>\n",
       "      <th>channel_title</th>\n",
       "      <th>category_id</th>\n",
       "      <th>publish_date</th>\n",
       "      <th>publish_time</th>\n",
       "      <th>tags</th>\n",
       "      <th>views</th>\n",
       "      <th>likes</th>\n",
       "      <th>...</th>\n",
       "      <th>video_error_or_removed</th>\n",
       "      <th>description</th>\n",
       "      <th>Country</th>\n",
       "      <th>trending_date_count</th>\n",
       "      <th>Tags</th>\n",
       "      <th>TagCount</th>\n",
       "      <th>description_url</th>\n",
       "      <th>len</th>\n",
       "      <th>pure_description_url</th>\n",
       "      <th>description_text</th>\n",
       "    </tr>\n",
       "  </thead>\n",
       "  <tbody>\n",
       "    <tr>\n",
       "      <td>0</td>\n",
       "      <td>FyZMnhUtLfE</td>\n",
       "      <td>2017-11-14</td>\n",
       "      <td>猎场 | Game Of Hunting 12【TV版】（胡歌、張嘉譯、祖峰等主演）</td>\n",
       "      <td>大劇獨播</td>\n",
       "      <td>Film &amp; Animation</td>\n",
       "      <td>2017-11-12</td>\n",
       "      <td>2020-04-29 16:00:01+00:00</td>\n",
       "      <td>電視劇|\"大陸電視劇\"|\"猎场\"|\"职场\"|\"商战\"|\"爱情\"|\"都市\"|\"胡歌\"|\"陈龙\"...</td>\n",
       "      <td>0.000233</td>\n",
       "      <td>0.000011</td>\n",
       "      <td>...</td>\n",
       "      <td>0</td>\n",
       "      <td>Thanks for watching the drama! Help more peopl...</td>\n",
       "      <td>CA</td>\n",
       "      <td>1</td>\n",
       "      <td>['電視劇', '大陸電視劇', '猎场', '职场', '商战', '爱情', '都市',...</td>\n",
       "      <td>33</td>\n",
       "      <td>['https://goo.gl/q8oOgq', 'https://goo.gl/bXGI...</td>\n",
       "      <td>10</td>\n",
       "      <td>['https://goo.gl/q8oOgq', 'https://goo.gl/bXGI...</td>\n",
       "      <td>Thanks for watching the drama! Help more peopl...</td>\n",
       "    </tr>\n",
       "    <tr>\n",
       "      <td>1</td>\n",
       "      <td>gifPYwArCVQ</td>\n",
       "      <td>2017-11-14</td>\n",
       "      <td>Fake Pet Smart Employee Prank!</td>\n",
       "      <td>NELK</td>\n",
       "      <td>Comedy</td>\n",
       "      <td>2017-11-13</td>\n",
       "      <td>2020-04-29 01:30:01+00:00</td>\n",
       "      <td>prank|\"pranks\"|\"nelk\"|\"nelkfilmz\"|\"nelkfilms\"</td>\n",
       "      <td>0.000818</td>\n",
       "      <td>0.002232</td>\n",
       "      <td>...</td>\n",
       "      <td>0</td>\n",
       "      <td>3 Days left to cop NELK merch: https://nelk.ca...</td>\n",
       "      <td>CA</td>\n",
       "      <td>1</td>\n",
       "      <td>['prank', 'pranks', 'nelk', 'nelkfilmz', 'nelk...</td>\n",
       "      <td>5</td>\n",
       "      <td>['https://nelk.ca\\\\n\\\\nFollow', 'https://twitt...</td>\n",
       "      <td>3</td>\n",
       "      <td>['https://nelk.ca', 'https://twitter.com/NelkF...</td>\n",
       "      <td>3 Days left to cop NELK merch:  us on Instagra...</td>\n",
       "    </tr>\n",
       "    <tr>\n",
       "      <td>2</td>\n",
       "      <td>fy-CuCzaPp8</td>\n",
       "      <td>2017-11-14</td>\n",
       "      <td>Rooster Teeth Animated Adventures - Drunk Baby...</td>\n",
       "      <td>Rooster Teeth</td>\n",
       "      <td>Film &amp; Animation</td>\n",
       "      <td>2017-11-13</td>\n",
       "      <td>2020-04-29 14:00:03+00:00</td>\n",
       "      <td>Rooster Teeth|\"RT\"|\"animation\"|\"television\"|\"f...</td>\n",
       "      <td>0.000453</td>\n",
       "      <td>0.000979</td>\n",
       "      <td>...</td>\n",
       "      <td>0</td>\n",
       "      <td>Miles gets stuck at work one night watching ov...</td>\n",
       "      <td>CA</td>\n",
       "      <td>1</td>\n",
       "      <td>['Rooster Teeth', 'RT', 'animation', 'televisi...</td>\n",
       "      <td>49</td>\n",
       "      <td>['http://bit.ly/2uRn6Ox\\\\n\\\\nAudio', 'http://r...</td>\n",
       "      <td>7</td>\n",
       "      <td>['http://bit.ly/2uRn6Ox', 'http://roosterteeth...</td>\n",
       "      <td>Miles gets stuck at work one night watching ov...</td>\n",
       "    </tr>\n",
       "    <tr>\n",
       "      <td>3</td>\n",
       "      <td>aVTAU_4i9AY</td>\n",
       "      <td>2017-11-14</td>\n",
       "      <td>Throwing Things Into A Fan!</td>\n",
       "      <td>REKT</td>\n",
       "      <td>Entertainment</td>\n",
       "      <td>2017-11-12</td>\n",
       "      <td>2020-04-29 23:00:00+00:00</td>\n",
       "      <td>Industrial Fan|\"Industrial Fan Destruction\"|\"T...</td>\n",
       "      <td>0.000544</td>\n",
       "      <td>0.000609</td>\n",
       "      <td>...</td>\n",
       "      <td>0</td>\n",
       "      <td>Destroying Unbreakable Glasses! ➡ https://www....</td>\n",
       "      <td>CA</td>\n",
       "      <td>1</td>\n",
       "      <td>['Industrial Fan', 'Industrial Fan Destruction...</td>\n",
       "      <td>22</td>\n",
       "      <td>['https://www.youtube.com/watch?v=dFm7n5tQzrU\\...</td>\n",
       "      <td>4</td>\n",
       "      <td>['https://www.youtube.com/watch?v=dFm7n5tQzrU'...</td>\n",
       "      <td>Destroying Unbreakable Glasses! ➡  ➡ ⬇️ MORE L...</td>\n",
       "    </tr>\n",
       "    <tr>\n",
       "      <td>4</td>\n",
       "      <td>m-nZmgHWoEw</td>\n",
       "      <td>2017-11-14</td>\n",
       "      <td>Mythical Dog Party</td>\n",
       "      <td>Good Mythical MORE</td>\n",
       "      <td>Entertainment</td>\n",
       "      <td>2017-11-13</td>\n",
       "      <td>2020-04-29 11:00:06+00:00</td>\n",
       "      <td>rhett and link|\"good mythical more\"|\"rhett and...</td>\n",
       "      <td>0.000171</td>\n",
       "      <td>0.000217</td>\n",
       "      <td>...</td>\n",
       "      <td>0</td>\n",
       "      <td>We're hanging with some of the dogs of the Myt...</td>\n",
       "      <td>CA</td>\n",
       "      <td>1</td>\n",
       "      <td>['rhett and link', 'good mythical more', 'rhet...</td>\n",
       "      <td>29</td>\n",
       "      <td>['http://bit.ly/GMM1218', 'http://bit.ly/GMM12...</td>\n",
       "      <td>19</td>\n",
       "      <td>['http://bit.ly/GMM1218', 'http://bit.ly/GMM12...</td>\n",
       "      <td>We're hanging with some of the dogs of the Myt...</td>\n",
       "    </tr>\n",
       "    <tr>\n",
       "      <td>...</td>\n",
       "      <td>...</td>\n",
       "      <td>...</td>\n",
       "      <td>...</td>\n",
       "      <td>...</td>\n",
       "      <td>...</td>\n",
       "      <td>...</td>\n",
       "      <td>...</td>\n",
       "      <td>...</td>\n",
       "      <td>...</td>\n",
       "      <td>...</td>\n",
       "      <td>...</td>\n",
       "      <td>...</td>\n",
       "      <td>...</td>\n",
       "      <td>...</td>\n",
       "      <td>...</td>\n",
       "      <td>...</td>\n",
       "      <td>...</td>\n",
       "      <td>...</td>\n",
       "      <td>...</td>\n",
       "      <td>...</td>\n",
       "      <td>...</td>\n",
       "    </tr>\n",
       "    <tr>\n",
       "      <td>38944</td>\n",
       "      <td>BZt0qjTWNhw</td>\n",
       "      <td>2018-06-14</td>\n",
       "      <td>The Cat Who Caught the Laser</td>\n",
       "      <td>AaronsAnimals</td>\n",
       "      <td>Pets &amp; Animals</td>\n",
       "      <td>2018-05-18</td>\n",
       "      <td>2020-04-29 13:00:04+00:00</td>\n",
       "      <td>aarons animals|\"aarons\"|\"animals\"|\"cat\"|\"cats\"...</td>\n",
       "      <td>0.002472</td>\n",
       "      <td>0.001911</td>\n",
       "      <td>...</td>\n",
       "      <td>0</td>\n",
       "      <td>The Cat Who Caught the Laser - Aaron's Animals</td>\n",
       "      <td>US</td>\n",
       "      <td>46</td>\n",
       "      <td>['aarons animals', 'aarons', 'animals', 'cat',...</td>\n",
       "      <td>14</td>\n",
       "      <td>[]</td>\n",
       "      <td>0</td>\n",
       "      <td>0</td>\n",
       "      <td>The Cat Who Caught the Laser - Aaron's Animals</td>\n",
       "    </tr>\n",
       "    <tr>\n",
       "      <td>38945</td>\n",
       "      <td>1h7KV2sjUWY</td>\n",
       "      <td>2018-06-14</td>\n",
       "      <td>True Facts : Ant Mutualism</td>\n",
       "      <td>zefrank1</td>\n",
       "      <td>People &amp; Blogs</td>\n",
       "      <td>2018-05-18</td>\n",
       "      <td>2020-04-29 01:00:06+00:00</td>\n",
       "      <td>[none]</td>\n",
       "      <td>0.001562</td>\n",
       "      <td>0.003006</td>\n",
       "      <td>...</td>\n",
       "      <td>0</td>\n",
       "      <td>NaN</td>\n",
       "      <td>US</td>\n",
       "      <td>31</td>\n",
       "      <td>['[none]']</td>\n",
       "      <td>1</td>\n",
       "      <td>0</td>\n",
       "      <td>0</td>\n",
       "      <td>0</td>\n",
       "      <td>NaN</td>\n",
       "    </tr>\n",
       "    <tr>\n",
       "      <td>38946</td>\n",
       "      <td>D6Oy4LfoqsU</td>\n",
       "      <td>2018-06-14</td>\n",
       "      <td>I GAVE SAFIYA NYGAARD A PERFECT HAIR MAKEOVER ...</td>\n",
       "      <td>Brad Mondo</td>\n",
       "      <td>Entertainment</td>\n",
       "      <td>2018-05-18</td>\n",
       "      <td>2020-04-29 17:34:22+00:00</td>\n",
       "      <td>I gave safiya nygaard a perfect hair makeover ...</td>\n",
       "      <td>0.001564</td>\n",
       "      <td>0.002408</td>\n",
       "      <td>...</td>\n",
       "      <td>0</td>\n",
       "      <td>I had so much fun transforming Safiyas hair in...</td>\n",
       "      <td>US</td>\n",
       "      <td>28</td>\n",
       "      <td>['I gave safiya nygaard a perfect hair makeove...</td>\n",
       "      <td>24</td>\n",
       "      <td>['https://goo.gl/C92AmbSHOP', 'https://goo.gl/...</td>\n",
       "      <td>14</td>\n",
       "      <td>['https://goo.gl/C92AmbSHOP', 'https://goo.gl/...</td>\n",
       "      <td>I had so much fun transforming Safiyas hair in...</td>\n",
       "    </tr>\n",
       "    <tr>\n",
       "      <td>38947</td>\n",
       "      <td>oV0zkMe1K8s</td>\n",
       "      <td>2018-06-14</td>\n",
       "      <td>How Black Panther Should Have Ended</td>\n",
       "      <td>How It Should Have Ended</td>\n",
       "      <td>Film &amp; Animation</td>\n",
       "      <td>2018-05-17</td>\n",
       "      <td>2020-04-29 17:00:04+00:00</td>\n",
       "      <td>Black Panther|\"HISHE\"|\"Marvel\"|\"Infinity War\"|...</td>\n",
       "      <td>0.008302</td>\n",
       "      <td>0.009665</td>\n",
       "      <td>...</td>\n",
       "      <td>0</td>\n",
       "      <td>How Black Panther Should Have EndedWatch More ...</td>\n",
       "      <td>US</td>\n",
       "      <td>3</td>\n",
       "      <td>['Black Panther', 'HISHE', 'Marvel', 'Infinity...</td>\n",
       "      <td>22</td>\n",
       "      <td>['https://bit.ly/HISHEPlaylistSubscribe', 'htt...</td>\n",
       "      <td>48</td>\n",
       "      <td>['https://bit.ly/HISHEPlaylistSubscribe', 'htt...</td>\n",
       "      <td>How Black Panther Should Have EndedWatch More ...</td>\n",
       "    </tr>\n",
       "    <tr>\n",
       "      <td>38948</td>\n",
       "      <td>ooyjaVdt-jA</td>\n",
       "      <td>2018-06-14</td>\n",
       "      <td>Official Call of Duty®: Black Ops 4 — Multipla...</td>\n",
       "      <td>Call of Duty</td>\n",
       "      <td>Gaming</td>\n",
       "      <td>2018-05-17</td>\n",
       "      <td>2020-04-29 17:09:38+00:00</td>\n",
       "      <td>call of duty|\"cod\"|\"activision\"|\"Black Ops 4\"</td>\n",
       "      <td>0.015114</td>\n",
       "      <td>0.017885</td>\n",
       "      <td>...</td>\n",
       "      <td>0</td>\n",
       "      <td>Call of Duty: Black Ops 4 Multiplayer raises t...</td>\n",
       "      <td>US</td>\n",
       "      <td>31</td>\n",
       "      <td>['call of duty', 'cod', 'activision', 'Black O...</td>\n",
       "      <td>4</td>\n",
       "      <td>['https://www.callofduty.com/blackops4/buyFoll...</td>\n",
       "      <td>8</td>\n",
       "      <td>['https://www.callofduty.com/blackops4/buyFoll...</td>\n",
       "      <td>Call of Duty: Black Ops 4 Multiplayer raises t...</td>\n",
       "    </tr>\n",
       "  </tbody>\n",
       "</table>\n",
       "<p>38949 rows × 25 columns</p>\n",
       "</div>"
      ],
      "text/plain": [
       "          video_id trending_date  \\\n",
       "0      FyZMnhUtLfE    2017-11-14   \n",
       "1      gifPYwArCVQ    2017-11-14   \n",
       "2      fy-CuCzaPp8    2017-11-14   \n",
       "3      aVTAU_4i9AY    2017-11-14   \n",
       "4      m-nZmgHWoEw    2017-11-14   \n",
       "...            ...           ...   \n",
       "38944  BZt0qjTWNhw    2018-06-14   \n",
       "38945  1h7KV2sjUWY    2018-06-14   \n",
       "38946  D6Oy4LfoqsU    2018-06-14   \n",
       "38947  oV0zkMe1K8s    2018-06-14   \n",
       "38948  ooyjaVdt-jA    2018-06-14   \n",
       "\n",
       "                                                   title  \\\n",
       "0             猎场 | Game Of Hunting 12【TV版】（胡歌、張嘉譯、祖峰等主演）   \n",
       "1                         Fake Pet Smart Employee Prank!   \n",
       "2      Rooster Teeth Animated Adventures - Drunk Baby...   \n",
       "3                            Throwing Things Into A Fan!   \n",
       "4                                     Mythical Dog Party   \n",
       "...                                                  ...   \n",
       "38944                       The Cat Who Caught the Laser   \n",
       "38945                         True Facts : Ant Mutualism   \n",
       "38946  I GAVE SAFIYA NYGAARD A PERFECT HAIR MAKEOVER ...   \n",
       "38947                How Black Panther Should Have Ended   \n",
       "38948  Official Call of Duty®: Black Ops 4 — Multipla...   \n",
       "\n",
       "                  channel_title       category_id publish_date  \\\n",
       "0                          大劇獨播  Film & Animation   2017-11-12   \n",
       "1                          NELK            Comedy   2017-11-13   \n",
       "2                 Rooster Teeth  Film & Animation   2017-11-13   \n",
       "3                          REKT     Entertainment   2017-11-12   \n",
       "4            Good Mythical MORE     Entertainment   2017-11-13   \n",
       "...                         ...               ...          ...   \n",
       "38944             AaronsAnimals    Pets & Animals   2018-05-18   \n",
       "38945                  zefrank1    People & Blogs   2018-05-18   \n",
       "38946                Brad Mondo     Entertainment   2018-05-18   \n",
       "38947  How It Should Have Ended  Film & Animation   2018-05-17   \n",
       "38948              Call of Duty            Gaming   2018-05-17   \n",
       "\n",
       "                    publish_time  \\\n",
       "0      2020-04-29 16:00:01+00:00   \n",
       "1      2020-04-29 01:30:01+00:00   \n",
       "2      2020-04-29 14:00:03+00:00   \n",
       "3      2020-04-29 23:00:00+00:00   \n",
       "4      2020-04-29 11:00:06+00:00   \n",
       "...                          ...   \n",
       "38944  2020-04-29 13:00:04+00:00   \n",
       "38945  2020-04-29 01:00:06+00:00   \n",
       "38946  2020-04-29 17:34:22+00:00   \n",
       "38947  2020-04-29 17:00:04+00:00   \n",
       "38948  2020-04-29 17:09:38+00:00   \n",
       "\n",
       "                                                    tags     views     likes  \\\n",
       "0      電視劇|\"大陸電視劇\"|\"猎场\"|\"职场\"|\"商战\"|\"爱情\"|\"都市\"|\"胡歌\"|\"陈龙\"...  0.000233  0.000011   \n",
       "1          prank|\"pranks\"|\"nelk\"|\"nelkfilmz\"|\"nelkfilms\"  0.000818  0.002232   \n",
       "2      Rooster Teeth|\"RT\"|\"animation\"|\"television\"|\"f...  0.000453  0.000979   \n",
       "3      Industrial Fan|\"Industrial Fan Destruction\"|\"T...  0.000544  0.000609   \n",
       "4      rhett and link|\"good mythical more\"|\"rhett and...  0.000171  0.000217   \n",
       "...                                                  ...       ...       ...   \n",
       "38944  aarons animals|\"aarons\"|\"animals\"|\"cat\"|\"cats\"...  0.002472  0.001911   \n",
       "38945                                             [none]  0.001562  0.003006   \n",
       "38946  I gave safiya nygaard a perfect hair makeover ...  0.001564  0.002408   \n",
       "38947  Black Panther|\"HISHE\"|\"Marvel\"|\"Infinity War\"|...  0.008302  0.009665   \n",
       "38948      call of duty|\"cod\"|\"activision\"|\"Black Ops 4\"  0.015114  0.017885   \n",
       "\n",
       "       ...  video_error_or_removed  \\\n",
       "0      ...                       0   \n",
       "1      ...                       0   \n",
       "2      ...                       0   \n",
       "3      ...                       0   \n",
       "4      ...                       0   \n",
       "...    ...                     ...   \n",
       "38944  ...                       0   \n",
       "38945  ...                       0   \n",
       "38946  ...                       0   \n",
       "38947  ...                       0   \n",
       "38948  ...                       0   \n",
       "\n",
       "                                             description Country  \\\n",
       "0      Thanks for watching the drama! Help more peopl...      CA   \n",
       "1      3 Days left to cop NELK merch: https://nelk.ca...      CA   \n",
       "2      Miles gets stuck at work one night watching ov...      CA   \n",
       "3      Destroying Unbreakable Glasses! ➡ https://www....      CA   \n",
       "4      We're hanging with some of the dogs of the Myt...      CA   \n",
       "...                                                  ...     ...   \n",
       "38944     The Cat Who Caught the Laser - Aaron's Animals      US   \n",
       "38945                                                NaN      US   \n",
       "38946  I had so much fun transforming Safiyas hair in...      US   \n",
       "38947  How Black Panther Should Have EndedWatch More ...      US   \n",
       "38948  Call of Duty: Black Ops 4 Multiplayer raises t...      US   \n",
       "\n",
       "       trending_date_count                                               Tags  \\\n",
       "0                        1  ['電視劇', '大陸電視劇', '猎场', '职场', '商战', '爱情', '都市',...   \n",
       "1                        1  ['prank', 'pranks', 'nelk', 'nelkfilmz', 'nelk...   \n",
       "2                        1  ['Rooster Teeth', 'RT', 'animation', 'televisi...   \n",
       "3                        1  ['Industrial Fan', 'Industrial Fan Destruction...   \n",
       "4                        1  ['rhett and link', 'good mythical more', 'rhet...   \n",
       "...                    ...                                                ...   \n",
       "38944                   46  ['aarons animals', 'aarons', 'animals', 'cat',...   \n",
       "38945                   31                                         ['[none]']   \n",
       "38946                   28  ['I gave safiya nygaard a perfect hair makeove...   \n",
       "38947                    3  ['Black Panther', 'HISHE', 'Marvel', 'Infinity...   \n",
       "38948                   31  ['call of duty', 'cod', 'activision', 'Black O...   \n",
       "\n",
       "       TagCount                                    description_url len  \\\n",
       "0            33  ['https://goo.gl/q8oOgq', 'https://goo.gl/bXGI...  10   \n",
       "1             5  ['https://nelk.ca\\\\n\\\\nFollow', 'https://twitt...   3   \n",
       "2            49  ['http://bit.ly/2uRn6Ox\\\\n\\\\nAudio', 'http://r...   7   \n",
       "3            22  ['https://www.youtube.com/watch?v=dFm7n5tQzrU\\...   4   \n",
       "4            29  ['http://bit.ly/GMM1218', 'http://bit.ly/GMM12...  19   \n",
       "...         ...                                                ...  ..   \n",
       "38944        14                                                 []   0   \n",
       "38945         1                                                  0   0   \n",
       "38946        24  ['https://goo.gl/C92AmbSHOP', 'https://goo.gl/...  14   \n",
       "38947        22  ['https://bit.ly/HISHEPlaylistSubscribe', 'htt...  48   \n",
       "38948         4  ['https://www.callofduty.com/blackops4/buyFoll...   8   \n",
       "\n",
       "                                    pure_description_url  \\\n",
       "0      ['https://goo.gl/q8oOgq', 'https://goo.gl/bXGI...   \n",
       "1      ['https://nelk.ca', 'https://twitter.com/NelkF...   \n",
       "2      ['http://bit.ly/2uRn6Ox', 'http://roosterteeth...   \n",
       "3      ['https://www.youtube.com/watch?v=dFm7n5tQzrU'...   \n",
       "4      ['http://bit.ly/GMM1218', 'http://bit.ly/GMM12...   \n",
       "...                                                  ...   \n",
       "38944                                                  0   \n",
       "38945                                                  0   \n",
       "38946  ['https://goo.gl/C92AmbSHOP', 'https://goo.gl/...   \n",
       "38947  ['https://bit.ly/HISHEPlaylistSubscribe', 'htt...   \n",
       "38948  ['https://www.callofduty.com/blackops4/buyFoll...   \n",
       "\n",
       "                                        description_text  \n",
       "0      Thanks for watching the drama! Help more peopl...  \n",
       "1      3 Days left to cop NELK merch:  us on Instagra...  \n",
       "2      Miles gets stuck at work one night watching ov...  \n",
       "3      Destroying Unbreakable Glasses! ➡  ➡ ⬇️ MORE L...  \n",
       "4      We're hanging with some of the dogs of the Myt...  \n",
       "...                                                  ...  \n",
       "38944     The Cat Who Caught the Laser - Aaron's Animals  \n",
       "38945                                                NaN  \n",
       "38946  I had so much fun transforming Safiyas hair in...  \n",
       "38947  How Black Panther Should Have EndedWatch More ...  \n",
       "38948  Call of Duty: Black Ops 4 Multiplayer raises t...  \n",
       "\n",
       "[38949 rows x 25 columns]"
      ]
     },
     "execution_count": 117,
     "metadata": {},
     "output_type": "execute_result"
    }
   ],
   "source": [
    "final_df"
   ]
  }
 ],
 "metadata": {
  "kernelspec": {
   "display_name": "Python 3",
   "language": "python",
   "name": "python3"
  },
  "language_info": {
   "codemirror_mode": {
    "name": "ipython",
    "version": 3
   },
   "file_extension": ".py",
   "mimetype": "text/x-python",
   "name": "python",
   "nbconvert_exporter": "python",
   "pygments_lexer": "ipython3",
   "version": "3.7.4"
  }
 },
 "nbformat": 4,
 "nbformat_minor": 2
}
