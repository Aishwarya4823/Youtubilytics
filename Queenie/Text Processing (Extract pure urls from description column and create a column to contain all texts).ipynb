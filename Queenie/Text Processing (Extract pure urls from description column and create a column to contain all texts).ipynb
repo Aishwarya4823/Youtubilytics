{
 "cells": [
  {
   "cell_type": "code",
   "execution_count": 1,
   "metadata": {},
   "outputs": [],
   "source": [
    "from numpy import nan as NA\n",
    "import numpy as np\n",
    "import pandas as pd"
   ]
  },
  {
   "cell_type": "code",
   "execution_count": 2,
   "metadata": {},
   "outputs": [],
   "source": [
    "path = \"C:\\\\Users\\\\16971\\\\Downloads\\\\2020 SPRING\\\\758X\\\\youtube-new\\\\\"\n",
    "df=pd.read_csv(path+\"USvideos1.csv\", usecols=[items for items in range(16)], sep=\",\")"
   ]
  },
  {
   "cell_type": "code",
   "execution_count": 190,
   "metadata": {},
   "outputs": [],
   "source": [
    "df['description_url']=df[\"description\"].str.findall(r'http[s]?://(?:[a-zA-Z]|[0-9]|[$-_@.&+]|[!*\\(\\),]|(?:%[0-9a-fA-F][0-9a-fA-F]))+')"
   ]
  },
  {
   "cell_type": "code",
   "execution_count": 193,
   "metadata": {},
   "outputs": [
    {
     "data": {
      "text/plain": [
       "0        [https://www.youtube.com/shantellmartin\\nCANDI...\n",
       "1        [http://Facebook.com/LastWeekTonight\\n\\nFollow...\n",
       "2        [https://www.youtube.com/channel/UC5jkXpfnBhlD...\n",
       "3        [https://goo.gl/xeZNQt\\nWatch, https://youtu.b...\n",
       "4        [http://higatv.com/ryan-higas-how-to-write-goo...\n",
       "                               ...                        \n",
       "40944                                                   []\n",
       "40945                                                    0\n",
       "40946    [https://goo.gl/C92AmbSHOP, https://goo.gl/VN6...\n",
       "40947    [https://bit.ly/HISHEPlaylistSubscribe, https:...\n",
       "40948    [https://www.callofduty.com/blackops4/buyFollo...\n",
       "Name: description_url, Length: 40949, dtype: object"
      ]
     },
     "execution_count": 193,
     "metadata": {},
     "output_type": "execute_result"
    }
   ],
   "source": [
    "df['description_url']"
   ]
  },
  {
   "cell_type": "code",
   "execution_count": 6,
   "metadata": {},
   "outputs": [],
   "source": [
    "import re"
   ]
  },
  {
   "cell_type": "code",
   "execution_count": 192,
   "metadata": {},
   "outputs": [],
   "source": [
    "df['description_url']=df['description_url'].fillna(0)"
   ]
  },
  {
   "cell_type": "code",
   "execution_count": 208,
   "metadata": {},
   "outputs": [],
   "source": [
    "df['len']=df['description_url'].apply(lambda x: len(x) if x!=0 else 0)"
   ]
  },
  {
   "cell_type": "code",
   "execution_count": 209,
   "metadata": {},
   "outputs": [
    {
     "data": {
      "text/plain": [
       "0        23\n",
       "1         3\n",
       "2        19\n",
       "3        21\n",
       "4         3\n",
       "         ..\n",
       "40944     0\n",
       "40945     0\n",
       "40946    14\n",
       "40947    48\n",
       "40948     8\n",
       "Name: len, Length: 40949, dtype: int64"
      ]
     },
     "execution_count": 209,
     "metadata": {},
     "output_type": "execute_result"
    }
   ],
   "source": [
    "df['len']"
   ]
  },
  {
   "cell_type": "code",
   "execution_count": 244,
   "metadata": {},
   "outputs": [],
   "source": [
    "urls=[]\n",
    "for i in range(40949):\n",
    "    if df['len'][i]!=0:\n",
    "        url=[]\n",
    "        for j in df['description_url'][i]:\n",
    "            suburl=0\n",
    "            suburl=j.split('\\\\n')\n",
    "            for item in range(len(suburl)):\n",
    "                if suburl[item].find('http')!=-1:\n",
    "                    url.append(suburl[item])\n",
    "        urls.append(url)\n",
    "    else:\n",
    "        urls.append(0)"
   ]
  },
  {
   "cell_type": "code",
   "execution_count": 249,
   "metadata": {},
   "outputs": [],
   "source": [
    "df['pure_description_url']=urls"
   ]
  },
  {
   "cell_type": "code",
   "execution_count": 260,
   "metadata": {},
   "outputs": [],
   "source": [
    "df['description_text']=df['description']"
   ]
  },
  {
   "cell_type": "code",
   "execution_count": 264,
   "metadata": {},
   "outputs": [
    {
     "name": "stderr",
     "output_type": "stream",
     "text": [
      "C:\\Users\\16971\\Anaconda3\\lib\\site-packages\\ipykernel_launcher.py:4: SettingWithCopyWarning: \n",
      "A value is trying to be set on a copy of a slice from a DataFrame\n",
      "\n",
      "See the caveats in the documentation: http://pandas.pydata.org/pandas-docs/stable/user_guide/indexing.html#returning-a-view-versus-a-copy\n",
      "  after removing the cwd from sys.path.\n"
     ]
    }
   ],
   "source": [
    "for i in range(40949):\n",
    "    if df['len'][i]!=0:\n",
    "        for j in range(df['len'][i]):\n",
    "            df['description_text'][i]=df['description_text'][i].replace(df['description_url'][i][j],'')"
   ]
  },
  {
   "cell_type": "code",
   "execution_count": 265,
   "metadata": {},
   "outputs": [
    {
     "data": {
      "text/plain": [
       "\"One year after the presidential election, John Oliver discusses what we've learned so far and enlists our catheter cowboy to teach Donald Trump what he hasn't.\\\\n\\\\nConnect with Last Week Tonight online...\\\\n\\\\nSubscribe to the Last Week Tonight YouTube channel for more almost news as it almost happens: www.youtube.com/user/LastWeekTonight\\\\n\\\\nFind Last Week Tonight on Facebook like your mom would:  us on Twitter for news about jokes and jokes about news:  our official site for all that other stuff at once: \""
      ]
     },
     "execution_count": 265,
     "metadata": {},
     "output_type": "execute_result"
    }
   ],
   "source": [
    "df['description_text'][1]"
   ]
  }
 ],
 "metadata": {
  "kernelspec": {
   "display_name": "Python 3",
   "language": "python",
   "name": "python3"
  },
  "language_info": {
   "codemirror_mode": {
    "name": "ipython",
    "version": 3
   },
   "file_extension": ".py",
   "mimetype": "text/x-python",
   "name": "python",
   "nbconvert_exporter": "python",
   "pygments_lexer": "ipython3",
   "version": "3.7.4"
  }
 },
 "nbformat": 4,
 "nbformat_minor": 2
}
