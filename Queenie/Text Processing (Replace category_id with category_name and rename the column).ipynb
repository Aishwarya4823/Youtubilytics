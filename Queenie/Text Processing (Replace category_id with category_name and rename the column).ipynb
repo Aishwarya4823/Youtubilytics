{
 "cells": [
  {
   "cell_type": "code",
   "execution_count": 98,
   "metadata": {},
   "outputs": [],
   "source": [
    "from numpy import nan as NA\n",
    "import numpy as np\n",
    "import pandas as pd\n",
    "import json"
   ]
  },
  {
   "cell_type": "code",
   "execution_count": 99,
   "metadata": {},
   "outputs": [],
   "source": [
    "# Import data\n",
    "path = \"C:\\\\Users\\\\16971\\\\Downloads\\\\2020 SPRING\\\\758X\\\\youtube-new\\\\\"\n",
    "CA=pd.read_csv(path+\"CAvideos.csv\", usecols=[items for items in range(16)], sep=\",\")\n",
    "DE=pd.read_csv(path+\"DEvideos.csv\", usecols=[items for items in range(16)], sep=\",\")\n",
    "FR=pd.read_csv(path+\"FRvideos.csv\", usecols=[items for items in range(16)], sep=\",\")\n",
    "GB=pd.read_csv(path+\"GBvideos.csv\", usecols=[items for items in range(16)], sep=\",\")\n",
    "IN=pd.read_csv(path+\"INvideos.csv\", usecols=[items for items in range(16)], sep=\",\")"
   ]
  },
  {
   "cell_type": "code",
   "execution_count": 100,
   "metadata": {},
   "outputs": [],
   "source": [
    "# Import category data in json file\n",
    "CA_category=\"C:\\\\Users\\\\16971\\\\Downloads\\\\2020 SPRING\\\\758X\\\\youtube-new\\\\CA_category_id.json\"\n",
    "DE_category=\"C:\\\\Users\\\\16971\\\\Downloads\\\\2020 SPRING\\\\758X\\\\youtube-new\\\\DE_category_id.json\"\n",
    "FR_category=\"C:\\\\Users\\\\16971\\\\Downloads\\\\2020 SPRING\\\\758X\\\\youtube-new\\\\FR_category_id.json\"\n",
    "GB_category=\"C:\\\\Users\\\\16971\\\\Downloads\\\\2020 SPRING\\\\758X\\\\youtube-new\\\\GB_category_id.json\"\n",
    "IN_category=\"C:\\\\Users\\\\16971\\\\Downloads\\\\2020 SPRING\\\\758X\\\\youtube-new\\\\IN_category_id.json\"\n",
    "\n",
    "\n",
    "# Save the category date into dictionary\n",
    "\n",
    "## To CA\n",
    "with open(CA_category,'r') as f:\n",
    "    CA_dict = json.load(f)\n",
    "\n",
    "## To DE\n",
    "with open(DE_category,'r') as f:\n",
    "    DE_dict = json.load(f)\n",
    "\n",
    "## To FR\n",
    "with open(FR_category,'r') as f:\n",
    "    FR_dict = json.load(f)\n",
    "    \n",
    "## To GB\n",
    "with open(GB_category,'r') as f:\n",
    "    GB_dict = json.load(f)\n",
    "\n",
    "## To IN\n",
    "with open(IN_category,'r') as f:\n",
    "    IN_dict = json.load(f)"
   ]
  },
  {
   "cell_type": "code",
   "execution_count": 101,
   "metadata": {},
   "outputs": [],
   "source": [
    "# Check the result of CA_dict\n",
    "CA_list=CA_dict[\"items\"]"
   ]
  },
  {
   "cell_type": "code",
   "execution_count": 102,
   "metadata": {},
   "outputs": [],
   "source": [
    "# Extract the id and title from CA_dict\n",
    "CA_dict1={}\n",
    "for i in range(len(CA_list)):\n",
    "    CA_dict1[CA_list[i][\"id\"]]=CA_list[i][\"snippet\"][\"title\"]"
   ]
  },
  {
   "cell_type": "code",
   "execution_count": 103,
   "metadata": {},
   "outputs": [
    {
     "data": {
      "text/plain": [
       "{'1': 'Film & Animation',\n",
       " '2': 'Autos & Vehicles',\n",
       " '10': 'Music',\n",
       " '15': 'Pets & Animals',\n",
       " '17': 'Sports',\n",
       " '18': 'Short Movies',\n",
       " '19': 'Travel & Events',\n",
       " '20': 'Gaming',\n",
       " '21': 'Videoblogging',\n",
       " '22': 'People & Blogs',\n",
       " '23': 'Comedy',\n",
       " '24': 'Entertainment',\n",
       " '25': 'News & Politics',\n",
       " '26': 'Howto & Style',\n",
       " '27': 'Education',\n",
       " '28': 'Science & Technology',\n",
       " '30': 'Movies',\n",
       " '31': 'Anime/Animation',\n",
       " '32': 'Action/Adventure',\n",
       " '33': 'Classics',\n",
       " '34': 'Comedy',\n",
       " '35': 'Documentary',\n",
       " '36': 'Drama',\n",
       " '37': 'Family',\n",
       " '38': 'Foreign',\n",
       " '39': 'Horror',\n",
       " '40': 'Sci-Fi/Fantasy',\n",
       " '41': 'Thriller',\n",
       " '42': 'Shorts',\n",
       " '43': 'Shows',\n",
       " '44': 'Trailers'}"
      ]
     },
     "execution_count": 103,
     "metadata": {},
     "output_type": "execute_result"
    }
   ],
   "source": [
    "CA_dict1"
   ]
  },
  {
   "cell_type": "code",
   "execution_count": 104,
   "metadata": {},
   "outputs": [],
   "source": [
    "# Change the format of the category_id column\n",
    "CA[\"category_id\"]=CA[\"category_id\"].astype(\"str\")"
   ]
  },
  {
   "cell_type": "code",
   "execution_count": 105,
   "metadata": {},
   "outputs": [],
   "source": [
    "# Replace category_id in CA with CA_dict1\n",
    "CA['category_id']=CA['category_id'].replace(CA_dict1)"
   ]
  },
  {
   "cell_type": "code",
   "execution_count": 106,
   "metadata": {},
   "outputs": [
    {
     "data": {
      "text/plain": [
       "Entertainment           13451\n",
       "News & Politics          4159\n",
       "People & Blogs           4105\n",
       "Comedy                   3773\n",
       "Music                    3731\n",
       "Sports                   2787\n",
       "Film & Animation         2060\n",
       "Howto & Style            2007\n",
       "Gaming                   1344\n",
       "Science & Technology     1155\n",
       "Education                 991\n",
       "Travel & Events           392\n",
       "Pets & Animals            369\n",
       "Autos & Vehicles          353\n",
       "Shows                     124\n",
       "29                         74\n",
       "Movies                      6\n",
       "Name: category_id, dtype: int64"
      ]
     },
     "execution_count": 106,
     "metadata": {},
     "output_type": "execute_result"
    }
   ],
   "source": [
    "# Check the result of replacement\n",
    "CA[\"category_id\"].value_counts()"
   ]
  },
  {
   "cell_type": "code",
   "execution_count": 107,
   "metadata": {},
   "outputs": [],
   "source": [
    "# Category_id=29 does not traslate into the expected category name due to missing a category name and replace it with \"Other\" manually\n",
    "CA['category_id']=CA['category_id'].str.replace(\"29\",\"Other\")"
   ]
  },
  {
   "cell_type": "code",
   "execution_count": 108,
   "metadata": {},
   "outputs": [
    {
     "data": {
      "text/plain": [
       "Entertainment           13451\n",
       "News & Politics          4159\n",
       "People & Blogs           4105\n",
       "Comedy                   3773\n",
       "Music                    3731\n",
       "Sports                   2787\n",
       "Film & Animation         2060\n",
       "Howto & Style            2007\n",
       "Gaming                   1344\n",
       "Science & Technology     1155\n",
       "Education                 991\n",
       "Travel & Events           392\n",
       "Pets & Animals            369\n",
       "Autos & Vehicles          353\n",
       "Shows                     124\n",
       "Other                      74\n",
       "Movies                      6\n",
       "Name: category_id, dtype: int64"
      ]
     },
     "execution_count": 108,
     "metadata": {},
     "output_type": "execute_result"
    }
   ],
   "source": [
    "# Recheck the translation performance\n",
    "CA[\"category_id\"].value_counts()"
   ]
  },
  {
   "cell_type": "code",
   "execution_count": 109,
   "metadata": {},
   "outputs": [],
   "source": [
    "# Change the column name of category_id to category name\n",
    "CA.rename(columns={\"category_id\" : \"category_name\"}, inplace=True)"
   ]
  },
  {
   "cell_type": "code",
   "execution_count": 110,
   "metadata": {},
   "outputs": [
    {
     "data": {
      "text/plain": [
       "Index(['video_id', 'trending_date', 'title', 'channel_title', 'category_name',\n",
       "       'publish_time', 'tags', 'views', 'likes', 'dislikes', 'comment_count',\n",
       "       'thumbnail_link', 'comments_disabled', 'ratings_disabled',\n",
       "       'video_error_or_removed', 'description'],\n",
       "      dtype='object')"
      ]
     },
     "execution_count": 110,
     "metadata": {},
     "output_type": "execute_result"
    }
   ],
   "source": [
    "CA.columns"
   ]
  },
  {
   "cell_type": "code",
   "execution_count": null,
   "metadata": {},
   "outputs": [],
   "source": [
    "# Apply the same method to DE"
   ]
  },
  {
   "cell_type": "code",
   "execution_count": 111,
   "metadata": {},
   "outputs": [
    {
     "data": {
      "text/plain": [
       "Entertainment           15292\n",
       "People & Blogs           5988\n",
       "News & Politics          2935\n",
       "Sports                   2752\n",
       "Comedy                   2534\n",
       "Film & Animation         2376\n",
       "Music                    2372\n",
       "Howto & Style            1745\n",
       "Gaming                   1565\n",
       "Autos & Vehicles          873\n",
       "Education                 844\n",
       "Science & Technology      806\n",
       "29                        256\n",
       "Pets & Animals            251\n",
       "Travel & Events           141\n",
       "Shows                     107\n",
       "Movies                      2\n",
       "Trailers                    1\n",
       "Name: category_id, dtype: int64"
      ]
     },
     "execution_count": 111,
     "metadata": {},
     "output_type": "execute_result"
    }
   ],
   "source": [
    "DE_list=DE_dict[\"items\"]\n",
    "DE_dict1={}\n",
    "for i in range(len(DE_list)):\n",
    "    DE_dict1[DE_list[i][\"id\"]]=DE_list[i][\"snippet\"][\"title\"]\n",
    "\n",
    "DE[\"category_id\"]=DE[\"category_id\"].astype(\"str\")\n",
    "DE['category_id']=DE['category_id'].replace(DE_dict1)\n",
    "DE[\"category_id\"].value_counts()"
   ]
  },
  {
   "cell_type": "code",
   "execution_count": 112,
   "metadata": {},
   "outputs": [
    {
     "data": {
      "text/plain": [
       "Index(['video_id', 'trending_date', 'title', 'channel_title', 'category_name',\n",
       "       'publish_time', 'tags', 'views', 'likes', 'dislikes', 'comment_count',\n",
       "       'thumbnail_link', 'comments_disabled', 'ratings_disabled',\n",
       "       'video_error_or_removed', 'description'],\n",
       "      dtype='object')"
      ]
     },
     "execution_count": 112,
     "metadata": {},
     "output_type": "execute_result"
    }
   ],
   "source": [
    "DE['category_id']=DE['category_id'].str.replace(\"29\",\"Other\")\n",
    "DE.rename(columns={\"category_id\" : \"category_name\"}, inplace=True)\n",
    "DE.columns"
   ]
  },
  {
   "cell_type": "code",
   "execution_count": null,
   "metadata": {},
   "outputs": [],
   "source": [
    "# Apply the same method to FR"
   ]
  },
  {
   "cell_type": "code",
   "execution_count": 113,
   "metadata": {},
   "outputs": [
    {
     "data": {
      "text/plain": [
       "Entertainment           9819\n",
       "People & Blogs          5719\n",
       "Comedy                  4343\n",
       "Sports                  4342\n",
       "Music                   3946\n",
       "News & Politics         3752\n",
       "Howto & Style           2361\n",
       "Film & Animation        2157\n",
       "Gaming                  1459\n",
       "Science & Technology     802\n",
       "Education                769\n",
       "Autos & Vehicles         673\n",
       "Pets & Animals           237\n",
       "Travel & Events          119\n",
       "29                       114\n",
       "Shows                     99\n",
       "Movies                    11\n",
       "Trailers                   2\n",
       "Name: category_id, dtype: int64"
      ]
     },
     "execution_count": 113,
     "metadata": {},
     "output_type": "execute_result"
    }
   ],
   "source": [
    "FR_list=FR_dict[\"items\"]\n",
    "FR_dict1={}\n",
    "for i in range(len(FR_list)):\n",
    "    FR_dict1[DE_list[i][\"id\"]]=FR_list[i][\"snippet\"][\"title\"]\n",
    "\n",
    "FR[\"category_id\"]=FR[\"category_id\"].astype(\"str\")\n",
    "FR['category_id']=FR['category_id'].replace(FR_dict1)\n",
    "FR[\"category_id\"].value_counts()"
   ]
  },
  {
   "cell_type": "code",
   "execution_count": 114,
   "metadata": {},
   "outputs": [
    {
     "data": {
      "text/plain": [
       "Index(['video_id', 'trending_date', 'title', 'channel_title', 'category_name',\n",
       "       'publish_time', 'tags', 'views', 'likes', 'dislikes', 'comment_count',\n",
       "       'thumbnail_link', 'comments_disabled', 'ratings_disabled',\n",
       "       'video_error_or_removed', 'description'],\n",
       "      dtype='object')"
      ]
     },
     "execution_count": 114,
     "metadata": {},
     "output_type": "execute_result"
    }
   ],
   "source": [
    "FR['category_id']=FR['category_id'].str.replace(\"29\",\"Other\")\n",
    "FR.rename(columns={\"category_id\" : \"category_name\"}, inplace=True)\n",
    "FR.columns"
   ]
  },
  {
   "cell_type": "code",
   "execution_count": null,
   "metadata": {},
   "outputs": [],
   "source": [
    "# Apply the same method to GB"
   ]
  },
  {
   "cell_type": "code",
   "execution_count": 115,
   "metadata": {},
   "outputs": [
    {
     "data": {
      "text/plain": [
       "Music                   13754\n",
       "Entertainment            9124\n",
       "People & Blogs           2926\n",
       "Film & Animation         2577\n",
       "Howto & Style            1928\n",
       "Sports                   1907\n",
       "Comedy                   1828\n",
       "Gaming                   1788\n",
       "News & Politics          1225\n",
       "Pets & Animals            534\n",
       "Science & Technology      518\n",
       "Education                 457\n",
       "Autos & Vehicles          144\n",
       "Travel & Events            96\n",
       "29                         90\n",
       "Shows                      20\n",
       "Name: category_id, dtype: int64"
      ]
     },
     "execution_count": 115,
     "metadata": {},
     "output_type": "execute_result"
    }
   ],
   "source": [
    "GB_list=GB_dict[\"items\"]\n",
    "GB_dict1={}\n",
    "for i in range(len(GB_list)):\n",
    "    GB_dict1[GB_list[i][\"id\"]]=GB_list[i][\"snippet\"][\"title\"]\n",
    "\n",
    "GB[\"category_id\"]=GB[\"category_id\"].astype(\"str\")\n",
    "GB['category_id']=GB['category_id'].replace(GB_dict1)\n",
    "GB[\"category_id\"].value_counts()"
   ]
  },
  {
   "cell_type": "code",
   "execution_count": 116,
   "metadata": {},
   "outputs": [
    {
     "data": {
      "text/plain": [
       "Index(['video_id', 'trending_date', 'title', 'channel_title', 'category_name',\n",
       "       'publish_time', 'tags', 'views', 'likes', 'dislikes', 'comment_count',\n",
       "       'thumbnail_link', 'comments_disabled', 'ratings_disabled',\n",
       "       'video_error_or_removed', 'description'],\n",
       "      dtype='object')"
      ]
     },
     "execution_count": 116,
     "metadata": {},
     "output_type": "execute_result"
    }
   ],
   "source": [
    "GB['category_id']=GB['category_id'].str.replace(\"29\",\"Other\")\n",
    "GB.rename(columns={\"category_id\" : \"category_name\"}, inplace=True)\n",
    "GB.columns"
   ]
  },
  {
   "cell_type": "code",
   "execution_count": null,
   "metadata": {},
   "outputs": [],
   "source": [
    "# Apply the same method to IN"
   ]
  },
  {
   "cell_type": "code",
   "execution_count": 117,
   "metadata": {},
   "outputs": [
    {
     "data": {
      "text/plain": [
       "Entertainment           16712\n",
       "News & Politics          5241\n",
       "Music                    3858\n",
       "Comedy                   3429\n",
       "People & Blogs           2624\n",
       "Film & Animation         1658\n",
       "Education                1227\n",
       "Howto & Style             845\n",
       "Sports                    731\n",
       "Science & Technology      552\n",
       "Shows                     205\n",
       "29                        105\n",
       "Autos & Vehicles           72\n",
       "Gaming                     66\n",
       "Movies                     16\n",
       "Travel & Events             8\n",
       "Pets & Animals              3\n",
       "Name: category_id, dtype: int64"
      ]
     },
     "execution_count": 117,
     "metadata": {},
     "output_type": "execute_result"
    }
   ],
   "source": [
    "IN_list=IN_dict[\"items\"]\n",
    "IN_dict1={}\n",
    "for i in range(len(IN_list)):\n",
    "    IN_dict1[DE_list[i][\"id\"]]=IN_list[i][\"snippet\"][\"title\"]\n",
    "\n",
    "IN[\"category_id\"]=IN[\"category_id\"].astype(\"str\")\n",
    "IN['category_id']=IN['category_id'].replace(IN_dict1)\n",
    "IN[\"category_id\"].value_counts()"
   ]
  },
  {
   "cell_type": "code",
   "execution_count": 118,
   "metadata": {},
   "outputs": [
    {
     "data": {
      "text/plain": [
       "Index(['video_id', 'trending_date', 'title', 'channel_title', 'category_name',\n",
       "       'publish_time', 'tags', 'views', 'likes', 'dislikes', 'comment_count',\n",
       "       'thumbnail_link', 'comments_disabled', 'ratings_disabled',\n",
       "       'video_error_or_removed', 'description'],\n",
       "      dtype='object')"
      ]
     },
     "execution_count": 118,
     "metadata": {},
     "output_type": "execute_result"
    }
   ],
   "source": [
    "IN['category_id']=IN['category_id'].str.replace(\"29\",\"Other\")\n",
    "IN.rename(columns={\"category_id\" : \"category_name\"}, inplace=True)\n",
    "IN.columns"
   ]
  }
 ],
 "metadata": {
  "kernelspec": {
   "display_name": "Python 3",
   "language": "python",
   "name": "python3"
  },
  "language_info": {
   "codemirror_mode": {
    "name": "ipython",
    "version": 3
   },
   "file_extension": ".py",
   "mimetype": "text/x-python",
   "name": "python",
   "nbconvert_exporter": "python",
   "pygments_lexer": "ipython3",
   "version": "3.7.4"
  }
 },
 "nbformat": 4,
 "nbformat_minor": 2
}
