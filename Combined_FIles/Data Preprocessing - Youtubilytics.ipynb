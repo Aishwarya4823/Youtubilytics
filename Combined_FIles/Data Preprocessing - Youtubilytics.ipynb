{
 "cells": [
  {
   "cell_type": "markdown",
   "metadata": {},
   "source": [
    "### Team : Group 6 (0501)\n"
   ]
  },
  {
   "cell_type": "markdown",
   "metadata": {},
   "source": [
    "# Project Overview"
   ]
  },
  {
   "cell_type": "code",
   "execution_count": null,
   "metadata": {},
   "outputs": [],
   "source": []
  },
  {
   "cell_type": "code",
   "execution_count": null,
   "metadata": {},
   "outputs": [],
   "source": []
  },
  {
   "cell_type": "code",
   "execution_count": null,
   "metadata": {},
   "outputs": [],
   "source": []
  },
  {
   "cell_type": "markdown",
   "metadata": {},
   "source": [
    "# Milestones and Progress"
   ]
  },
  {
   "cell_type": "code",
   "execution_count": null,
   "metadata": {},
   "outputs": [],
   "source": []
  },
  {
   "cell_type": "code",
   "execution_count": null,
   "metadata": {},
   "outputs": [],
   "source": []
  },
  {
   "cell_type": "code",
   "execution_count": null,
   "metadata": {},
   "outputs": [],
   "source": []
  },
  {
   "cell_type": "code",
   "execution_count": null,
   "metadata": {},
   "outputs": [],
   "source": []
  },
  {
   "cell_type": "markdown",
   "metadata": {},
   "source": [
    "# Data Acquisition and Cleaning (Code + Markdown)"
   ]
  },
  {
   "cell_type": "code",
   "execution_count": null,
   "metadata": {},
   "outputs": [],
   "source": []
  },
  {
   "cell_type": "markdown",
   "metadata": {},
   "source": [
    "## 1. Load file data into a dataframe"
   ]
  },
  {
   "cell_type": "markdown",
   "metadata": {},
   "source": [
    "First, we will import the relevant libraries"
   ]
  },
  {
   "cell_type": "code",
   "execution_count": 109,
   "metadata": {},
   "outputs": [],
   "source": [
    "#importing the relevant libraries\n",
    "from numpy import nan as NA\n",
    "import numpy as np\n",
    "import pandas as pd\n",
    "import re\n",
    "import matplotlib.pyplot as plt\n",
    "import sys\n",
    "from wordcloud import WordCloud\n",
    "import json"
   ]
  },
  {
   "cell_type": "markdown",
   "metadata": {},
   "source": [
    "In the following lines of code, we have described how we used the presence of duplicates to pre-process data to acquire the videos trending the most in our dataset. Eventually, we have removed these duplicates to work with only the trending data."
   ]
  },
  {
   "cell_type": "code",
   "execution_count": 28,
   "metadata": {},
   "outputs": [],
   "source": [
    "# Importing USvideos.csv which contains trending video content in the US\n",
    "df=pd.read_csv(\"USvideos.csv\", usecols=[items for items in range(16)], sep=\",\")"
   ]
  },
  {
   "cell_type": "code",
   "execution_count": 29,
   "metadata": {},
   "outputs": [
    {
     "data": {
      "text/plain": [
       "(40949, 16)"
      ]
     },
     "execution_count": 29,
     "metadata": {},
     "output_type": "execute_result"
    }
   ],
   "source": [
    "#We first study the shape of this dataset\n",
    "df.shape"
   ]
  },
  {
   "cell_type": "markdown",
   "metadata": {},
   "source": [
    "Let's have a look at the first five rows of the data and check whether there are any columns that have null/missing values."
   ]
  },
  {
   "cell_type": "code",
   "execution_count": 30,
   "metadata": {},
   "outputs": [
    {
     "data": {
      "text/html": [
       "<div>\n",
       "<style scoped>\n",
       "    .dataframe tbody tr th:only-of-type {\n",
       "        vertical-align: middle;\n",
       "    }\n",
       "\n",
       "    .dataframe tbody tr th {\n",
       "        vertical-align: top;\n",
       "    }\n",
       "\n",
       "    .dataframe thead th {\n",
       "        text-align: right;\n",
       "    }\n",
       "</style>\n",
       "<table border=\"1\" class=\"dataframe\">\n",
       "  <thead>\n",
       "    <tr style=\"text-align: right;\">\n",
       "      <th></th>\n",
       "      <th>video_id</th>\n",
       "      <th>trending_date</th>\n",
       "      <th>title</th>\n",
       "      <th>channel_title</th>\n",
       "      <th>category_id</th>\n",
       "      <th>publish_time</th>\n",
       "      <th>tags</th>\n",
       "      <th>views</th>\n",
       "      <th>likes</th>\n",
       "      <th>dislikes</th>\n",
       "      <th>comment_count</th>\n",
       "      <th>thumbnail_link</th>\n",
       "      <th>comments_disabled</th>\n",
       "      <th>ratings_disabled</th>\n",
       "      <th>video_error_or_removed</th>\n",
       "      <th>description</th>\n",
       "    </tr>\n",
       "  </thead>\n",
       "  <tbody>\n",
       "    <tr>\n",
       "      <td>0</td>\n",
       "      <td>2kyS6SvSYSE</td>\n",
       "      <td>17.14.11</td>\n",
       "      <td>WE WANT TO TALK ABOUT OUR MARRIAGE</td>\n",
       "      <td>CaseyNeistat</td>\n",
       "      <td>22</td>\n",
       "      <td>2017-11-13T17:13:01.000Z</td>\n",
       "      <td>SHANtell martin</td>\n",
       "      <td>748374</td>\n",
       "      <td>57527</td>\n",
       "      <td>2966</td>\n",
       "      <td>15954</td>\n",
       "      <td>https://i.ytimg.com/vi/2kyS6SvSYSE/default.jpg</td>\n",
       "      <td>False</td>\n",
       "      <td>False</td>\n",
       "      <td>False</td>\n",
       "      <td>SHANTELL'S CHANNEL - https://www.youtube.com/s...</td>\n",
       "    </tr>\n",
       "    <tr>\n",
       "      <td>1</td>\n",
       "      <td>1ZAPwfrtAFY</td>\n",
       "      <td>17.14.11</td>\n",
       "      <td>The Trump Presidency: Last Week Tonight with J...</td>\n",
       "      <td>LastWeekTonight</td>\n",
       "      <td>24</td>\n",
       "      <td>2017-11-13T07:30:00.000Z</td>\n",
       "      <td>last week tonight trump presidency|\"last week ...</td>\n",
       "      <td>2418783</td>\n",
       "      <td>97185</td>\n",
       "      <td>6146</td>\n",
       "      <td>12703</td>\n",
       "      <td>https://i.ytimg.com/vi/1ZAPwfrtAFY/default.jpg</td>\n",
       "      <td>False</td>\n",
       "      <td>False</td>\n",
       "      <td>False</td>\n",
       "      <td>One year after the presidential election, John...</td>\n",
       "    </tr>\n",
       "    <tr>\n",
       "      <td>2</td>\n",
       "      <td>5qpjK5DgCt4</td>\n",
       "      <td>17.14.11</td>\n",
       "      <td>Racist Superman | Rudy Mancuso, King Bach &amp; Le...</td>\n",
       "      <td>Rudy Mancuso</td>\n",
       "      <td>23</td>\n",
       "      <td>2017-11-12T19:05:24.000Z</td>\n",
       "      <td>racist superman|\"rudy\"|\"mancuso\"|\"king\"|\"bach\"...</td>\n",
       "      <td>3191434</td>\n",
       "      <td>146033</td>\n",
       "      <td>5339</td>\n",
       "      <td>8181</td>\n",
       "      <td>https://i.ytimg.com/vi/5qpjK5DgCt4/default.jpg</td>\n",
       "      <td>False</td>\n",
       "      <td>False</td>\n",
       "      <td>False</td>\n",
       "      <td>WATCH MY PREVIOUS VIDEO ▶ \\n\\nSUBSCRIBE ► http...</td>\n",
       "    </tr>\n",
       "    <tr>\n",
       "      <td>3</td>\n",
       "      <td>puqaWrEC7tY</td>\n",
       "      <td>17.14.11</td>\n",
       "      <td>Nickelback Lyrics: Real or Fake?</td>\n",
       "      <td>Good Mythical Morning</td>\n",
       "      <td>24</td>\n",
       "      <td>2017-11-13T11:00:04.000Z</td>\n",
       "      <td>rhett and link|\"gmm\"|\"good mythical morning\"|\"...</td>\n",
       "      <td>343168</td>\n",
       "      <td>10172</td>\n",
       "      <td>666</td>\n",
       "      <td>2146</td>\n",
       "      <td>https://i.ytimg.com/vi/puqaWrEC7tY/default.jpg</td>\n",
       "      <td>False</td>\n",
       "      <td>False</td>\n",
       "      <td>False</td>\n",
       "      <td>Today we find out if Link is a Nickelback amat...</td>\n",
       "    </tr>\n",
       "    <tr>\n",
       "      <td>4</td>\n",
       "      <td>d380meD0W0M</td>\n",
       "      <td>17.14.11</td>\n",
       "      <td>I Dare You: GOING BALD!?</td>\n",
       "      <td>nigahiga</td>\n",
       "      <td>24</td>\n",
       "      <td>2017-11-12T18:01:41.000Z</td>\n",
       "      <td>ryan|\"higa\"|\"higatv\"|\"nigahiga\"|\"i dare you\"|\"...</td>\n",
       "      <td>2095731</td>\n",
       "      <td>132235</td>\n",
       "      <td>1989</td>\n",
       "      <td>17518</td>\n",
       "      <td>https://i.ytimg.com/vi/d380meD0W0M/default.jpg</td>\n",
       "      <td>False</td>\n",
       "      <td>False</td>\n",
       "      <td>False</td>\n",
       "      <td>I know it's been a while since we did this sho...</td>\n",
       "    </tr>\n",
       "  </tbody>\n",
       "</table>\n",
       "</div>"
      ],
      "text/plain": [
       "      video_id trending_date  \\\n",
       "0  2kyS6SvSYSE      17.14.11   \n",
       "1  1ZAPwfrtAFY      17.14.11   \n",
       "2  5qpjK5DgCt4      17.14.11   \n",
       "3  puqaWrEC7tY      17.14.11   \n",
       "4  d380meD0W0M      17.14.11   \n",
       "\n",
       "                                               title          channel_title  \\\n",
       "0                 WE WANT TO TALK ABOUT OUR MARRIAGE           CaseyNeistat   \n",
       "1  The Trump Presidency: Last Week Tonight with J...        LastWeekTonight   \n",
       "2  Racist Superman | Rudy Mancuso, King Bach & Le...           Rudy Mancuso   \n",
       "3                   Nickelback Lyrics: Real or Fake?  Good Mythical Morning   \n",
       "4                           I Dare You: GOING BALD!?               nigahiga   \n",
       "\n",
       "   category_id              publish_time  \\\n",
       "0           22  2017-11-13T17:13:01.000Z   \n",
       "1           24  2017-11-13T07:30:00.000Z   \n",
       "2           23  2017-11-12T19:05:24.000Z   \n",
       "3           24  2017-11-13T11:00:04.000Z   \n",
       "4           24  2017-11-12T18:01:41.000Z   \n",
       "\n",
       "                                                tags    views   likes  \\\n",
       "0                                    SHANtell martin   748374   57527   \n",
       "1  last week tonight trump presidency|\"last week ...  2418783   97185   \n",
       "2  racist superman|\"rudy\"|\"mancuso\"|\"king\"|\"bach\"...  3191434  146033   \n",
       "3  rhett and link|\"gmm\"|\"good mythical morning\"|\"...   343168   10172   \n",
       "4  ryan|\"higa\"|\"higatv\"|\"nigahiga\"|\"i dare you\"|\"...  2095731  132235   \n",
       "\n",
       "   dislikes  comment_count                                  thumbnail_link  \\\n",
       "0      2966          15954  https://i.ytimg.com/vi/2kyS6SvSYSE/default.jpg   \n",
       "1      6146          12703  https://i.ytimg.com/vi/1ZAPwfrtAFY/default.jpg   \n",
       "2      5339           8181  https://i.ytimg.com/vi/5qpjK5DgCt4/default.jpg   \n",
       "3       666           2146  https://i.ytimg.com/vi/puqaWrEC7tY/default.jpg   \n",
       "4      1989          17518  https://i.ytimg.com/vi/d380meD0W0M/default.jpg   \n",
       "\n",
       "   comments_disabled  ratings_disabled  video_error_or_removed  \\\n",
       "0              False             False                   False   \n",
       "1              False             False                   False   \n",
       "2              False             False                   False   \n",
       "3              False             False                   False   \n",
       "4              False             False                   False   \n",
       "\n",
       "                                         description  \n",
       "0  SHANTELL'S CHANNEL - https://www.youtube.com/s...  \n",
       "1  One year after the presidential election, John...  \n",
       "2  WATCH MY PREVIOUS VIDEO ▶ \\n\\nSUBSCRIBE ► http...  \n",
       "3  Today we find out if Link is a Nickelback amat...  \n",
       "4  I know it's been a while since we did this sho...  "
      ]
     },
     "execution_count": 30,
     "metadata": {},
     "output_type": "execute_result"
    }
   ],
   "source": [
    "# Have a look at the first five rows of the data\n",
    "df.head(5)"
   ]
  },
  {
   "cell_type": "markdown",
   "metadata": {},
   "source": [
    "## 2 Handling missing/duplicate data"
   ]
  },
  {
   "cell_type": "code",
   "execution_count": 31,
   "metadata": {},
   "outputs": [
    {
     "data": {
      "text/plain": [
       "video_id                    0\n",
       "trending_date               0\n",
       "title                       0\n",
       "channel_title               0\n",
       "category_id                 0\n",
       "publish_time                0\n",
       "tags                        0\n",
       "views                       0\n",
       "likes                       0\n",
       "dislikes                    0\n",
       "comment_count               0\n",
       "thumbnail_link              0\n",
       "comments_disabled           0\n",
       "ratings_disabled            0\n",
       "video_error_or_removed      0\n",
       "description               570\n",
       "dtype: int64"
      ]
     },
     "execution_count": 31,
     "metadata": {},
     "output_type": "execute_result"
    }
   ],
   "source": [
    "# check whether there are any columns that have null/missing values.\n",
    "df.isna().sum()"
   ]
  },
  {
   "cell_type": "markdown",
   "metadata": {},
   "source": [
    "Only column \"description\" has missing values. The data in this column is mostly about additional information that the publishers want the audiences know about the video. Therefore, we do not need to fill out data in this column or do any missing value treatment."
   ]
  },
  {
   "cell_type": "markdown",
   "metadata": {},
   "source": [
    "Now we will search if there are any rows in the dataset that are entirely duplicate"
   ]
  },
  {
   "cell_type": "code",
   "execution_count": 32,
   "metadata": {},
   "outputs": [
    {
     "data": {
      "text/plain": [
       "48"
      ]
     },
     "execution_count": 32,
     "metadata": {},
     "output_type": "execute_result"
    }
   ],
   "source": [
    "df.duplicated().sum()"
   ]
  },
  {
   "cell_type": "code",
   "execution_count": 34,
   "metadata": {},
   "outputs": [],
   "source": [
    "df.drop_duplicates(inplace=True)"
   ]
  },
  {
   "cell_type": "markdown",
   "metadata": {},
   "source": [
    "Next, we want to analyze the data based on video's ids, so we need to make sure that all video's ids are unique. The other columns do not need to be unique"
   ]
  },
  {
   "cell_type": "code",
   "execution_count": 35,
   "metadata": {},
   "outputs": [
    {
     "data": {
      "text/plain": [
       "34619"
      ]
     },
     "execution_count": 35,
     "metadata": {},
     "output_type": "execute_result"
    }
   ],
   "source": [
    "df.duplicated(subset='video_id').sum()"
   ]
  },
  {
   "cell_type": "code",
   "execution_count": null,
   "metadata": {},
   "outputs": [],
   "source": []
  },
  {
   "cell_type": "markdown",
   "metadata": {},
   "source": [
    "We can see that there are a lot of duplicates in the \"video_id\" column. We choose randomly any one video's id that have duplicates to find the reason"
   ]
  },
  {
   "cell_type": "code",
   "execution_count": 36,
   "metadata": {},
   "outputs": [
    {
     "data": {
      "text/html": [
       "<div>\n",
       "<style scoped>\n",
       "    .dataframe tbody tr th:only-of-type {\n",
       "        vertical-align: middle;\n",
       "    }\n",
       "\n",
       "    .dataframe tbody tr th {\n",
       "        vertical-align: top;\n",
       "    }\n",
       "\n",
       "    .dataframe thead th {\n",
       "        text-align: right;\n",
       "    }\n",
       "</style>\n",
       "<table border=\"1\" class=\"dataframe\">\n",
       "  <thead>\n",
       "    <tr style=\"text-align: right;\">\n",
       "      <th></th>\n",
       "      <th>video_id</th>\n",
       "      <th>trending_date</th>\n",
       "      <th>title</th>\n",
       "      <th>channel_title</th>\n",
       "      <th>category_id</th>\n",
       "      <th>publish_time</th>\n",
       "      <th>tags</th>\n",
       "      <th>views</th>\n",
       "      <th>likes</th>\n",
       "      <th>dislikes</th>\n",
       "      <th>comment_count</th>\n",
       "      <th>thumbnail_link</th>\n",
       "      <th>comments_disabled</th>\n",
       "      <th>ratings_disabled</th>\n",
       "      <th>video_error_or_removed</th>\n",
       "      <th>description</th>\n",
       "    </tr>\n",
       "  </thead>\n",
       "  <tbody>\n",
       "    <tr>\n",
       "      <td>34152</td>\n",
       "      <td>uxbQATBAXf8</td>\n",
       "      <td>18.12.05</td>\n",
       "      <td>Deadpool 2 | With Apologies to David Beckham</td>\n",
       "      <td>20th Century Fox</td>\n",
       "      <td>1</td>\n",
       "      <td>2018-05-10T14:24:29.000Z</td>\n",
       "      <td>Trailer|\"Deadpool\"|\"20th Century Fox (Producti...</td>\n",
       "      <td>9399654</td>\n",
       "      <td>268143</td>\n",
       "      <td>2399</td>\n",
       "      <td>6739</td>\n",
       "      <td>https://i.ytimg.com/vi/uxbQATBAXf8/default.jpg</td>\n",
       "      <td>False</td>\n",
       "      <td>False</td>\n",
       "      <td>False</td>\n",
       "      <td>Get your Deadpool 2 tickets at http://www.Dead...</td>\n",
       "    </tr>\n",
       "    <tr>\n",
       "      <td>34362</td>\n",
       "      <td>uxbQATBAXf8</td>\n",
       "      <td>18.13.05</td>\n",
       "      <td>Deadpool 2 | With Apologies to David Beckham</td>\n",
       "      <td>20th Century Fox</td>\n",
       "      <td>1</td>\n",
       "      <td>2018-05-10T14:24:29.000Z</td>\n",
       "      <td>Trailer|\"Deadpool\"|\"20th Century Fox (Producti...</td>\n",
       "      <td>13293647</td>\n",
       "      <td>334533</td>\n",
       "      <td>3302</td>\n",
       "      <td>8333</td>\n",
       "      <td>https://i.ytimg.com/vi/uxbQATBAXf8/default.jpg</td>\n",
       "      <td>False</td>\n",
       "      <td>False</td>\n",
       "      <td>False</td>\n",
       "      <td>Get your Deadpool 2 tickets at http://www.Dead...</td>\n",
       "    </tr>\n",
       "    <tr>\n",
       "      <td>34792</td>\n",
       "      <td>uxbQATBAXf8</td>\n",
       "      <td>18.15.05</td>\n",
       "      <td>Deadpool 2 | With Apologies to David Beckham</td>\n",
       "      <td>20th Century Fox</td>\n",
       "      <td>1</td>\n",
       "      <td>2018-05-10T14:24:29.000Z</td>\n",
       "      <td>Trailer|\"Deadpool\"|\"20th Century Fox (Producti...</td>\n",
       "      <td>15960127</td>\n",
       "      <td>374825</td>\n",
       "      <td>3823</td>\n",
       "      <td>9059</td>\n",
       "      <td>https://i.ytimg.com/vi/uxbQATBAXf8/default.jpg</td>\n",
       "      <td>False</td>\n",
       "      <td>False</td>\n",
       "      <td>False</td>\n",
       "      <td>Get your Deadpool 2 tickets at http://www.Dead...</td>\n",
       "    </tr>\n",
       "  </tbody>\n",
       "</table>\n",
       "</div>"
      ],
      "text/plain": [
       "          video_id trending_date  \\\n",
       "34152  uxbQATBAXf8      18.12.05   \n",
       "34362  uxbQATBAXf8      18.13.05   \n",
       "34792  uxbQATBAXf8      18.15.05   \n",
       "\n",
       "                                              title     channel_title  \\\n",
       "34152  Deadpool 2 | With Apologies to David Beckham  20th Century Fox   \n",
       "34362  Deadpool 2 | With Apologies to David Beckham  20th Century Fox   \n",
       "34792  Deadpool 2 | With Apologies to David Beckham  20th Century Fox   \n",
       "\n",
       "       category_id              publish_time  \\\n",
       "34152            1  2018-05-10T14:24:29.000Z   \n",
       "34362            1  2018-05-10T14:24:29.000Z   \n",
       "34792            1  2018-05-10T14:24:29.000Z   \n",
       "\n",
       "                                                    tags     views   likes  \\\n",
       "34152  Trailer|\"Deadpool\"|\"20th Century Fox (Producti...   9399654  268143   \n",
       "34362  Trailer|\"Deadpool\"|\"20th Century Fox (Producti...  13293647  334533   \n",
       "34792  Trailer|\"Deadpool\"|\"20th Century Fox (Producti...  15960127  374825   \n",
       "\n",
       "       dislikes  comment_count  \\\n",
       "34152      2399           6739   \n",
       "34362      3302           8333   \n",
       "34792      3823           9059   \n",
       "\n",
       "                                       thumbnail_link  comments_disabled  \\\n",
       "34152  https://i.ytimg.com/vi/uxbQATBAXf8/default.jpg              False   \n",
       "34362  https://i.ytimg.com/vi/uxbQATBAXf8/default.jpg              False   \n",
       "34792  https://i.ytimg.com/vi/uxbQATBAXf8/default.jpg              False   \n",
       "\n",
       "       ratings_disabled  video_error_or_removed  \\\n",
       "34152             False                   False   \n",
       "34362             False                   False   \n",
       "34792             False                   False   \n",
       "\n",
       "                                             description  \n",
       "34152  Get your Deadpool 2 tickets at http://www.Dead...  \n",
       "34362  Get your Deadpool 2 tickets at http://www.Dead...  \n",
       "34792  Get your Deadpool 2 tickets at http://www.Dead...  "
      ]
     },
     "execution_count": 36,
     "metadata": {},
     "output_type": "execute_result"
    }
   ],
   "source": [
    "df[df.video_id == 'uxbQATBAXf8']"
   ]
  },
  {
   "cell_type": "markdown",
   "metadata": {},
   "source": [
    "The result above shows that one video can be trending many times (many days). Of all records with the same video's id, columns \"trending date\", \"views\", \"like\", \"dislikes\", and \"comment_count\" have different values. We will create a column named 'trending_date_count' that indicates the number of time that video is on trending. After that, we will keep the latest record with the latest number of views, like, dislikes, and comment_count, and remove the other rows with the same video_id and older statistical numbers."
   ]
  },
  {
   "cell_type": "markdown",
   "metadata": {},
   "source": [
    "We want to capture this information, as knowing the number of times a video trended at the top provides meaningful information in how many times it reached the top"
   ]
  },
  {
   "cell_type": "code",
   "execution_count": 37,
   "metadata": {},
   "outputs": [],
   "source": [
    "# Create a column named 'trending_date_counts' that indicates the number of time that video is on trending.\n",
    "df['trending_date_count'] = df.groupby(['video_id'])['trending_date'].transform('count')"
   ]
  },
  {
   "cell_type": "code",
   "execution_count": 40,
   "metadata": {},
   "outputs": [
    {
     "data": {
      "text/plain": [
       "0    7\n",
       "1    7\n",
       "2    7\n",
       "3    7\n",
       "4    6\n",
       "5    7\n",
       "6    5\n",
       "7    6\n",
       "8    2\n",
       "9    2\n",
       "Name: trending_date_count, dtype: int64"
      ]
     },
     "execution_count": 40,
     "metadata": {},
     "output_type": "execute_result"
    }
   ],
   "source": [
    "# Now, we will visualise a few lines of this new column\n",
    "df['trending_date_count'].head(10)"
   ]
  },
  {
   "cell_type": "markdown",
   "metadata": {},
   "source": [
    "Now, we will remove the other rows with the same video_id and non-updated numbers of likes, shares and comments"
   ]
  },
  {
   "cell_type": "code",
   "execution_count": 41,
   "metadata": {},
   "outputs": [],
   "source": [
    "# remove the other rows with the same video_id and older numbers.\n",
    "df.drop_duplicates(subset='video_id', keep='last', inplace=True)"
   ]
  },
  {
   "cell_type": "code",
   "execution_count": 43,
   "metadata": {},
   "outputs": [
    {
     "data": {
      "text/html": [
       "<div>\n",
       "<style scoped>\n",
       "    .dataframe tbody tr th:only-of-type {\n",
       "        vertical-align: middle;\n",
       "    }\n",
       "\n",
       "    .dataframe tbody tr th {\n",
       "        vertical-align: top;\n",
       "    }\n",
       "\n",
       "    .dataframe thead th {\n",
       "        text-align: right;\n",
       "    }\n",
       "</style>\n",
       "<table border=\"1\" class=\"dataframe\">\n",
       "  <thead>\n",
       "    <tr style=\"text-align: right;\">\n",
       "      <th></th>\n",
       "      <th>video_id</th>\n",
       "      <th>trending_date</th>\n",
       "      <th>title</th>\n",
       "      <th>channel_title</th>\n",
       "      <th>category_id</th>\n",
       "      <th>publish_time</th>\n",
       "      <th>tags</th>\n",
       "      <th>views</th>\n",
       "      <th>likes</th>\n",
       "      <th>dislikes</th>\n",
       "      <th>comment_count</th>\n",
       "      <th>thumbnail_link</th>\n",
       "      <th>comments_disabled</th>\n",
       "      <th>ratings_disabled</th>\n",
       "      <th>video_error_or_removed</th>\n",
       "      <th>description</th>\n",
       "      <th>trending_date_count</th>\n",
       "    </tr>\n",
       "  </thead>\n",
       "  <tbody>\n",
       "    <tr>\n",
       "      <td>34792</td>\n",
       "      <td>uxbQATBAXf8</td>\n",
       "      <td>18.15.05</td>\n",
       "      <td>Deadpool 2 | With Apologies to David Beckham</td>\n",
       "      <td>20th Century Fox</td>\n",
       "      <td>1</td>\n",
       "      <td>2018-05-10T14:24:29.000Z</td>\n",
       "      <td>Trailer|\"Deadpool\"|\"20th Century Fox (Producti...</td>\n",
       "      <td>15960127</td>\n",
       "      <td>374825</td>\n",
       "      <td>3823</td>\n",
       "      <td>9059</td>\n",
       "      <td>https://i.ytimg.com/vi/uxbQATBAXf8/default.jpg</td>\n",
       "      <td>False</td>\n",
       "      <td>False</td>\n",
       "      <td>False</td>\n",
       "      <td>Get your Deadpool 2 tickets at http://www.Dead...</td>\n",
       "      <td>3</td>\n",
       "    </tr>\n",
       "  </tbody>\n",
       "</table>\n",
       "</div>"
      ],
      "text/plain": [
       "          video_id trending_date  \\\n",
       "34792  uxbQATBAXf8      18.15.05   \n",
       "\n",
       "                                              title     channel_title  \\\n",
       "34792  Deadpool 2 | With Apologies to David Beckham  20th Century Fox   \n",
       "\n",
       "       category_id              publish_time  \\\n",
       "34792            1  2018-05-10T14:24:29.000Z   \n",
       "\n",
       "                                                    tags     views   likes  \\\n",
       "34792  Trailer|\"Deadpool\"|\"20th Century Fox (Producti...  15960127  374825   \n",
       "\n",
       "       dislikes  comment_count  \\\n",
       "34792      3823           9059   \n",
       "\n",
       "                                       thumbnail_link  comments_disabled  \\\n",
       "34792  https://i.ytimg.com/vi/uxbQATBAXf8/default.jpg              False   \n",
       "\n",
       "       ratings_disabled  video_error_or_removed  \\\n",
       "34792             False                   False   \n",
       "\n",
       "                                             description  trending_date_count  \n",
       "34792  Get your Deadpool 2 tickets at http://www.Dead...                    3  "
      ]
     },
     "execution_count": 43,
     "metadata": {},
     "output_type": "execute_result"
    }
   ],
   "source": [
    "# Re-verifying that our non-duplicate row now has only one unique row in the dataframe\n",
    "df[df.video_id == 'uxbQATBAXf8']"
   ]
  },
  {
   "cell_type": "code",
   "execution_count": 45,
   "metadata": {},
   "outputs": [
    {
     "data": {
      "text/html": [
       "<div>\n",
       "<style scoped>\n",
       "    .dataframe tbody tr th:only-of-type {\n",
       "        vertical-align: middle;\n",
       "    }\n",
       "\n",
       "    .dataframe tbody tr th {\n",
       "        vertical-align: top;\n",
       "    }\n",
       "\n",
       "    .dataframe thead th {\n",
       "        text-align: right;\n",
       "    }\n",
       "</style>\n",
       "<table border=\"1\" class=\"dataframe\">\n",
       "  <thead>\n",
       "    <tr style=\"text-align: right;\">\n",
       "      <th></th>\n",
       "      <th>video_id</th>\n",
       "      <th>trending_date</th>\n",
       "      <th>title</th>\n",
       "      <th>channel_title</th>\n",
       "      <th>category_id</th>\n",
       "      <th>publish_time</th>\n",
       "      <th>tags</th>\n",
       "      <th>views</th>\n",
       "      <th>likes</th>\n",
       "      <th>dislikes</th>\n",
       "      <th>comment_count</th>\n",
       "      <th>thumbnail_link</th>\n",
       "      <th>comments_disabled</th>\n",
       "      <th>ratings_disabled</th>\n",
       "      <th>video_error_or_removed</th>\n",
       "      <th>description</th>\n",
       "      <th>trending_date_count</th>\n",
       "    </tr>\n",
       "  </thead>\n",
       "  <tbody>\n",
       "    <tr>\n",
       "      <td>10</td>\n",
       "      <td>9wRQljFNDW8</td>\n",
       "      <td>17.14.11</td>\n",
       "      <td>Dion Lewis' 103-Yd Kick Return TD vs. Denver! ...</td>\n",
       "      <td>NFL</td>\n",
       "      <td>17</td>\n",
       "      <td>2017-11-13T02:05:26.000Z</td>\n",
       "      <td>NFL|\"Football\"|\"offense\"|\"defense\"|\"afc\"|\"nfc\"...</td>\n",
       "      <td>81377</td>\n",
       "      <td>655</td>\n",
       "      <td>25</td>\n",
       "      <td>177</td>\n",
       "      <td>https://i.ytimg.com/vi/9wRQljFNDW8/default.jpg</td>\n",
       "      <td>False</td>\n",
       "      <td>False</td>\n",
       "      <td>False</td>\n",
       "      <td>New England Patriots returner Dion Lewis blast...</td>\n",
       "      <td>1</td>\n",
       "    </tr>\n",
       "    <tr>\n",
       "      <td>36</td>\n",
       "      <td>Om_zGhJLZ5U</td>\n",
       "      <td>17.14.11</td>\n",
       "      <td>TL;DW - Every DCEU Movie Before Justice League</td>\n",
       "      <td>Screen Junkies</td>\n",
       "      <td>1</td>\n",
       "      <td>2017-11-12T18:00:03.000Z</td>\n",
       "      <td>screenjunkies|\"screen junkies\"|\"sj news\"|\"hone...</td>\n",
       "      <td>288922</td>\n",
       "      <td>7515</td>\n",
       "      <td>792</td>\n",
       "      <td>2111</td>\n",
       "      <td>https://i.ytimg.com/vi/Om_zGhJLZ5U/default.jpg</td>\n",
       "      <td>False</td>\n",
       "      <td>False</td>\n",
       "      <td>False</td>\n",
       "      <td>With Justice League approaching fast we rewatc...</td>\n",
       "      <td>1</td>\n",
       "    </tr>\n",
       "    <tr>\n",
       "      <td>41</td>\n",
       "      <td>goP4Z5wyOlM</td>\n",
       "      <td>17.14.11</td>\n",
       "      <td>Iraq-Iran earthquake: Deadly tremor hits borde...</td>\n",
       "      <td>BBC News</td>\n",
       "      <td>25</td>\n",
       "      <td>2017-11-12T21:16:40.000Z</td>\n",
       "      <td>bbc|\"bbc news\"|\"news\"|\"iran\"|\"iran news\"|\"iraq...</td>\n",
       "      <td>34785</td>\n",
       "      <td>308</td>\n",
       "      <td>26</td>\n",
       "      <td>413</td>\n",
       "      <td>https://i.ytimg.com/vi/goP4Z5wyOlM/default.jpg</td>\n",
       "      <td>False</td>\n",
       "      <td>False</td>\n",
       "      <td>False</td>\n",
       "      <td>A strong 7.2-magnitude earthquake has rattled ...</td>\n",
       "      <td>1</td>\n",
       "    </tr>\n",
       "  </tbody>\n",
       "</table>\n",
       "</div>"
      ],
      "text/plain": [
       "       video_id trending_date  \\\n",
       "10  9wRQljFNDW8      17.14.11   \n",
       "36  Om_zGhJLZ5U      17.14.11   \n",
       "41  goP4Z5wyOlM      17.14.11   \n",
       "\n",
       "                                                title   channel_title  \\\n",
       "10  Dion Lewis' 103-Yd Kick Return TD vs. Denver! ...             NFL   \n",
       "36     TL;DW - Every DCEU Movie Before Justice League  Screen Junkies   \n",
       "41  Iraq-Iran earthquake: Deadly tremor hits borde...        BBC News   \n",
       "\n",
       "    category_id              publish_time  \\\n",
       "10           17  2017-11-13T02:05:26.000Z   \n",
       "36            1  2017-11-12T18:00:03.000Z   \n",
       "41           25  2017-11-12T21:16:40.000Z   \n",
       "\n",
       "                                                 tags   views  likes  \\\n",
       "10  NFL|\"Football\"|\"offense\"|\"defense\"|\"afc\"|\"nfc\"...   81377    655   \n",
       "36  screenjunkies|\"screen junkies\"|\"sj news\"|\"hone...  288922   7515   \n",
       "41  bbc|\"bbc news\"|\"news\"|\"iran\"|\"iran news\"|\"iraq...   34785    308   \n",
       "\n",
       "    dislikes  comment_count                                  thumbnail_link  \\\n",
       "10        25            177  https://i.ytimg.com/vi/9wRQljFNDW8/default.jpg   \n",
       "36       792           2111  https://i.ytimg.com/vi/Om_zGhJLZ5U/default.jpg   \n",
       "41        26            413  https://i.ytimg.com/vi/goP4Z5wyOlM/default.jpg   \n",
       "\n",
       "    comments_disabled  ratings_disabled  video_error_or_removed  \\\n",
       "10              False             False                   False   \n",
       "36              False             False                   False   \n",
       "41              False             False                   False   \n",
       "\n",
       "                                          description  trending_date_count  \n",
       "10  New England Patriots returner Dion Lewis blast...                    1  \n",
       "36  With Justice League approaching fast we rewatc...                    1  \n",
       "41  A strong 7.2-magnitude earthquake has rattled ...                    1  "
      ]
     },
     "execution_count": 45,
     "metadata": {},
     "output_type": "execute_result"
    }
   ],
   "source": [
    "df.head(3)"
   ]
  },
  {
   "cell_type": "markdown",
   "metadata": {},
   "source": [
    "We can clearly see that we need to reset the index of the dataset after pre-processing"
   ]
  },
  {
   "cell_type": "code",
   "execution_count": 46,
   "metadata": {},
   "outputs": [],
   "source": [
    "df.reset_index(drop = True, inplace = True)"
   ]
  },
  {
   "cell_type": "code",
   "execution_count": 47,
   "metadata": {},
   "outputs": [
    {
     "data": {
      "text/html": [
       "<div>\n",
       "<style scoped>\n",
       "    .dataframe tbody tr th:only-of-type {\n",
       "        vertical-align: middle;\n",
       "    }\n",
       "\n",
       "    .dataframe tbody tr th {\n",
       "        vertical-align: top;\n",
       "    }\n",
       "\n",
       "    .dataframe thead th {\n",
       "        text-align: right;\n",
       "    }\n",
       "</style>\n",
       "<table border=\"1\" class=\"dataframe\">\n",
       "  <thead>\n",
       "    <tr style=\"text-align: right;\">\n",
       "      <th></th>\n",
       "      <th>video_id</th>\n",
       "      <th>trending_date</th>\n",
       "      <th>title</th>\n",
       "      <th>channel_title</th>\n",
       "      <th>category_id</th>\n",
       "      <th>publish_time</th>\n",
       "      <th>tags</th>\n",
       "      <th>views</th>\n",
       "      <th>likes</th>\n",
       "      <th>dislikes</th>\n",
       "      <th>comment_count</th>\n",
       "      <th>thumbnail_link</th>\n",
       "      <th>comments_disabled</th>\n",
       "      <th>ratings_disabled</th>\n",
       "      <th>video_error_or_removed</th>\n",
       "      <th>description</th>\n",
       "      <th>trending_date_count</th>\n",
       "    </tr>\n",
       "  </thead>\n",
       "  <tbody>\n",
       "    <tr>\n",
       "      <td>0</td>\n",
       "      <td>9wRQljFNDW8</td>\n",
       "      <td>17.14.11</td>\n",
       "      <td>Dion Lewis' 103-Yd Kick Return TD vs. Denver! ...</td>\n",
       "      <td>NFL</td>\n",
       "      <td>17</td>\n",
       "      <td>2017-11-13T02:05:26.000Z</td>\n",
       "      <td>NFL|\"Football\"|\"offense\"|\"defense\"|\"afc\"|\"nfc\"...</td>\n",
       "      <td>81377</td>\n",
       "      <td>655</td>\n",
       "      <td>25</td>\n",
       "      <td>177</td>\n",
       "      <td>https://i.ytimg.com/vi/9wRQljFNDW8/default.jpg</td>\n",
       "      <td>False</td>\n",
       "      <td>False</td>\n",
       "      <td>False</td>\n",
       "      <td>New England Patriots returner Dion Lewis blast...</td>\n",
       "      <td>1</td>\n",
       "    </tr>\n",
       "    <tr>\n",
       "      <td>1</td>\n",
       "      <td>Om_zGhJLZ5U</td>\n",
       "      <td>17.14.11</td>\n",
       "      <td>TL;DW - Every DCEU Movie Before Justice League</td>\n",
       "      <td>Screen Junkies</td>\n",
       "      <td>1</td>\n",
       "      <td>2017-11-12T18:00:03.000Z</td>\n",
       "      <td>screenjunkies|\"screen junkies\"|\"sj news\"|\"hone...</td>\n",
       "      <td>288922</td>\n",
       "      <td>7515</td>\n",
       "      <td>792</td>\n",
       "      <td>2111</td>\n",
       "      <td>https://i.ytimg.com/vi/Om_zGhJLZ5U/default.jpg</td>\n",
       "      <td>False</td>\n",
       "      <td>False</td>\n",
       "      <td>False</td>\n",
       "      <td>With Justice League approaching fast we rewatc...</td>\n",
       "      <td>1</td>\n",
       "    </tr>\n",
       "  </tbody>\n",
       "</table>\n",
       "</div>"
      ],
      "text/plain": [
       "      video_id trending_date  \\\n",
       "0  9wRQljFNDW8      17.14.11   \n",
       "1  Om_zGhJLZ5U      17.14.11   \n",
       "\n",
       "                                               title   channel_title  \\\n",
       "0  Dion Lewis' 103-Yd Kick Return TD vs. Denver! ...             NFL   \n",
       "1     TL;DW - Every DCEU Movie Before Justice League  Screen Junkies   \n",
       "\n",
       "   category_id              publish_time  \\\n",
       "0           17  2017-11-13T02:05:26.000Z   \n",
       "1            1  2017-11-12T18:00:03.000Z   \n",
       "\n",
       "                                                tags   views  likes  dislikes  \\\n",
       "0  NFL|\"Football\"|\"offense\"|\"defense\"|\"afc\"|\"nfc\"...   81377    655        25   \n",
       "1  screenjunkies|\"screen junkies\"|\"sj news\"|\"hone...  288922   7515       792   \n",
       "\n",
       "   comment_count                                  thumbnail_link  \\\n",
       "0            177  https://i.ytimg.com/vi/9wRQljFNDW8/default.jpg   \n",
       "1           2111  https://i.ytimg.com/vi/Om_zGhJLZ5U/default.jpg   \n",
       "\n",
       "   comments_disabled  ratings_disabled  video_error_or_removed  \\\n",
       "0              False             False                   False   \n",
       "1              False             False                   False   \n",
       "\n",
       "                                         description  trending_date_count  \n",
       "0  New England Patriots returner Dion Lewis blast...                    1  \n",
       "1  With Justice League approaching fast we rewatc...                    1  "
      ]
     },
     "execution_count": 47,
     "metadata": {},
     "output_type": "execute_result"
    }
   ],
   "source": [
    "df.head(2)"
   ]
  },
  {
   "cell_type": "markdown",
   "metadata": {},
   "source": [
    "## 3. Url Text Data Preprocessing"
   ]
  },
  {
   "cell_type": "markdown",
   "metadata": {},
   "source": [
    "In the following few lines of code, we have used the text present in the \"description\" column to extract meaningful urls, and store them as a different column altogether. To do this, we have used the concept of regular expressions "
   ]
  },
  {
   "cell_type": "code",
   "execution_count": 54,
   "metadata": {},
   "outputs": [],
   "source": [
    "df['description_url']=df[\"description\"].str.findall(r'http[s]?://(?:[a-zA-Z]|[0-9]|[$-_@.&+]|[!*\\(\\),]|(?:%[0-9a-fA-F][0-9a-fA-F]))+')"
   ]
  },
  {
   "cell_type": "markdown",
   "metadata": {},
   "source": [
    "Now, we see what errors persist in the \"description\" column"
   ]
  },
  {
   "cell_type": "code",
   "execution_count": 56,
   "metadata": {},
   "outputs": [
    {
     "data": {
      "text/plain": [
       "0       [https://www.nfl.com/gamepass?campaign=sp-nf-g...\n",
       "1       [http://twitter.com/screenjunkies\\nLike, http:...\n",
       "2       [http://bit.ly/1rbfUog\\n\\nWorld, https://www.y...\n",
       "3       [http://www.youtube.com/subscription_center?ad...\n",
       "4                                                      []\n",
       "                              ...                        \n",
       "6277                                                   []\n",
       "6278                                                  NaN\n",
       "6279    [https://goo.gl/C92AmbSHOP, https://goo.gl/VN6...\n",
       "6280    [https://bit.ly/HISHEPlaylistSubscribe, https:...\n",
       "6281    [https://www.callofduty.com/blackops4/buyFollo...\n",
       "Name: description_url, Length: 6282, dtype: object"
      ]
     },
     "execution_count": 56,
     "metadata": {},
     "output_type": "execute_result"
    }
   ],
   "source": [
    "df['description_url']"
   ]
  },
  {
   "cell_type": "markdown",
   "metadata": {},
   "source": [
    "1) NaN values exist\n"
   ]
  },
  {
   "cell_type": "markdown",
   "metadata": {},
   "source": [
    "2) Some urls contain |n which should be removed\n"
   ]
  },
  {
   "cell_type": "markdown",
   "metadata": {},
   "source": [
    "3) Some urls are combined together with \"\\\\n\" as connection"
   ]
  },
  {
   "cell_type": "code",
   "execution_count": 57,
   "metadata": {},
   "outputs": [
    {
     "data": {
      "text/plain": [
       "99"
      ]
     },
     "execution_count": 57,
     "metadata": {},
     "output_type": "execute_result"
    }
   ],
   "source": [
    "df['description_url'].isnull().sum()"
   ]
  },
  {
   "cell_type": "code",
   "execution_count": 59,
   "metadata": {},
   "outputs": [
    {
     "data": {
      "text/plain": [
       "(6282, 19)"
      ]
     },
     "execution_count": 59,
     "metadata": {},
     "output_type": "execute_result"
    }
   ],
   "source": [
    "df.shape"
   ]
  },
  {
   "cell_type": "markdown",
   "metadata": {},
   "source": [
    "We observe that approximately, 1.57% of the rows have missing values for the \"description\" column. Thus, we decide to add 0 in those rows for the \"description\" variable, instead of losing the data."
   ]
  },
  {
   "cell_type": "code",
   "execution_count": 60,
   "metadata": {},
   "outputs": [],
   "source": [
    "df['description_url']=df['description_url'].fillna(0)"
   ]
  },
  {
   "cell_type": "markdown",
   "metadata": {},
   "source": [
    "Now, we further clean this column by removing \"\\n(newline token) from its string value"
   ]
  },
  {
   "cell_type": "code",
   "execution_count": 61,
   "metadata": {},
   "outputs": [],
   "source": [
    "# Calculate the length of each observation of description_url column\n",
    "df['len']=df['description_url'].apply(lambda x: len(x) if x!=0 else 0)"
   ]
  },
  {
   "cell_type": "code",
   "execution_count": 63,
   "metadata": {},
   "outputs": [],
   "source": [
    "# Remove \"\\\\n\" in description_url column\n",
    "urls=[]\n",
    "for i in range(len(df)):\n",
    "    if df['len'][i]!=0:\n",
    "        url=[]\n",
    "        for j in df['description_url'][i]:\n",
    "            suburl=0\n",
    "            suburl=j.split('\\\\n')\n",
    "            for item in range(len(suburl)):\n",
    "                if suburl[item].find('http')!=-1:\n",
    "                    url.append(suburl[item])\n",
    "        urls.append(url)\n",
    "    else:\n",
    "        urls.append(0)"
   ]
  },
  {
   "cell_type": "code",
   "execution_count": 64,
   "metadata": {},
   "outputs": [],
   "source": [
    "# Create a column to save the pure urls\n",
    "df['pure_description_url']=urls"
   ]
  },
  {
   "cell_type": "code",
   "execution_count": 67,
   "metadata": {},
   "outputs": [
    {
     "data": {
      "text/plain": [
       "['https://www.nfl.com/gamepass?campaign=sp-nf-gd-ot-yt-3000342',\n",
       " 'http://www.nfl.com/fantasyfootball',\n",
       " 'http://j.mp/1L0bVBu',\n",
       " 'http://www.youtube.com/nflnetwork',\n",
       " 'http://www.youtube.com/nflfilms',\n",
       " 'http://www.nfl.com/',\n",
       " 'https://www.nfl.com/now',\n",
       " 'http://www.nfl.com/podcasts',\n",
       " 'http://nflnonline.nfl.com/',\n",
       " 'https://www.nfl.com/apps',\n",
       " 'http://www.nfl.com/schedules',\n",
       " 'http://www.nfl.com/tickets',\n",
       " 'http://www.nflshop.com/source/bm-nflcom-Header-Shop-Tab',\n",
       " 'https://www.facebook.com/NFL',\n",
       " 'https://twitter.com/NFL',\n",
       " 'https://instagram.com/nfl/']"
      ]
     },
     "execution_count": 67,
     "metadata": {},
     "output_type": "execute_result"
    }
   ],
   "source": [
    "# Now, we see a few lines of this newly created column\n",
    "df['pure_description_url'][0]"
   ]
  },
  {
   "cell_type": "markdown",
   "metadata": {},
   "source": [
    "Since we have cleaned and stored these urls into a new column entirely, we will now remove this text data from the \"description\" column in order to ensure that text data does not repeat itself in our dataset"
   ]
  },
  {
   "cell_type": "code",
   "execution_count": 68,
   "metadata": {},
   "outputs": [],
   "source": [
    "df['description_text']=df['description']"
   ]
  },
  {
   "cell_type": "code",
   "execution_count": 69,
   "metadata": {},
   "outputs": [
    {
     "name": "stderr",
     "output_type": "stream",
     "text": [
      "C:\\Users\\Aishwarya\\Anaconda3\\lib\\site-packages\\ipykernel_launcher.py:4: SettingWithCopyWarning: \n",
      "A value is trying to be set on a copy of a slice from a DataFrame\n",
      "\n",
      "See the caveats in the documentation: http://pandas.pydata.org/pandas-docs/stable/user_guide/indexing.html#returning-a-view-versus-a-copy\n",
      "  after removing the cwd from sys.path.\n"
     ]
    }
   ],
   "source": [
    "for i in range(len(df)):\n",
    "    if df['len'][i]!=0:\n",
    "        for j in range(df['len'][i]):\n",
    "            df['description_text'][i]=df['description_text'][i].replace(df['description_url'][i][j],'')"
   ]
  },
  {
   "cell_type": "code",
   "execution_count": 70,
   "metadata": {},
   "outputs": [
    {
     "data": {
      "text/plain": [
       "\"With Justice League approaching fast we rewatched all four movies in the DCEU so that you don't have too. Spencer Gilbert breaks down the plot and things that will be important going forward!\\\\n\\\\nGot a tip? Email us ► tips@screenjunkies.com\\\\nFollow us on Twitter ►  us on Facebook ►  Screen Junkies Gear! ►► \""
      ]
     },
     "execution_count": 70,
     "metadata": {},
     "output_type": "execute_result"
    }
   ],
   "source": [
    "# Once done, we verify if the description text is truly free of its urls\n",
    "df['description_text'][1]"
   ]
  },
  {
   "cell_type": "markdown",
   "metadata": {},
   "source": [
    "As we can see, the new text description of the first video record contains no url within it."
   ]
  },
  {
   "cell_type": "markdown",
   "metadata": {},
   "source": [
    "## 4. Date Pre-processing"
   ]
  },
  {
   "cell_type": "markdown",
   "metadata": {},
   "source": [
    "In the following lines of code, we have used the  \"CA videos\" data to perform data cleaning and processing.Here, we have changed the trending date into a well-perfected format and then cast it into the datetime type. For the lengthy publish time, we have split it into two columns - publish date and exact time(hour-miniute-seconds) for better readable data. For other columns, some data still needs to be changed into right type.For future analysis, we have normalised some of our key variable data (likes, dislikes and comment count) to reduce the skewness when coping with a large data pool.Furthermore, we have used a bar chart  and  a wordcloud to find out the frequency of different words that occur in \"title name\" which is title of the video. Finally, we have presented the distribution between 'like' and 'dislike' columns."
   ]
  },
  {
   "cell_type": "code",
   "execution_count": 6,
   "metadata": {},
   "outputs": [
    {
     "data": {
      "text/html": [
       "<div>\n",
       "<style scoped>\n",
       "    .dataframe tbody tr th:only-of-type {\n",
       "        vertical-align: middle;\n",
       "    }\n",
       "\n",
       "    .dataframe tbody tr th {\n",
       "        vertical-align: top;\n",
       "    }\n",
       "\n",
       "    .dataframe thead th {\n",
       "        text-align: right;\n",
       "    }\n",
       "</style>\n",
       "<table border=\"1\" class=\"dataframe\">\n",
       "  <thead>\n",
       "    <tr style=\"text-align: right;\">\n",
       "      <th></th>\n",
       "      <th>video_id</th>\n",
       "      <th>trending_date</th>\n",
       "      <th>title</th>\n",
       "      <th>channel_title</th>\n",
       "      <th>category_id</th>\n",
       "      <th>publish_time</th>\n",
       "      <th>tags</th>\n",
       "      <th>views</th>\n",
       "      <th>likes</th>\n",
       "      <th>dislikes</th>\n",
       "      <th>comment_count</th>\n",
       "      <th>thumbnail_link</th>\n",
       "      <th>comments_disabled</th>\n",
       "      <th>ratings_disabled</th>\n",
       "      <th>video_error_or_removed</th>\n",
       "      <th>description</th>\n",
       "    </tr>\n",
       "  </thead>\n",
       "  <tbody>\n",
       "    <tr>\n",
       "      <td>0</td>\n",
       "      <td>n1WpP7iowLc</td>\n",
       "      <td>17.14.11</td>\n",
       "      <td>Eminem - Walk On Water (Audio) ft. Beyoncé</td>\n",
       "      <td>EminemVEVO</td>\n",
       "      <td>10</td>\n",
       "      <td>2017-11-10T17:00:03.000Z</td>\n",
       "      <td>Eminem|\"Walk\"|\"On\"|\"Water\"|\"Aftermath/Shady/In...</td>\n",
       "      <td>17158579</td>\n",
       "      <td>787425</td>\n",
       "      <td>43420</td>\n",
       "      <td>125882</td>\n",
       "      <td>https://i.ytimg.com/vi/n1WpP7iowLc/default.jpg</td>\n",
       "      <td>False</td>\n",
       "      <td>False</td>\n",
       "      <td>False</td>\n",
       "      <td>Eminem's new track Walk on Water ft. Beyoncé i...</td>\n",
       "    </tr>\n",
       "    <tr>\n",
       "      <td>1</td>\n",
       "      <td>0dBIkQ4Mz1M</td>\n",
       "      <td>17.14.11</td>\n",
       "      <td>PLUSH - Bad Unboxing Fan Mail</td>\n",
       "      <td>iDubbbzTV</td>\n",
       "      <td>23</td>\n",
       "      <td>2017-11-13T17:00:00.000Z</td>\n",
       "      <td>plush|\"bad unboxing\"|\"unboxing\"|\"fan mail\"|\"id...</td>\n",
       "      <td>1014651</td>\n",
       "      <td>127794</td>\n",
       "      <td>1688</td>\n",
       "      <td>13030</td>\n",
       "      <td>https://i.ytimg.com/vi/0dBIkQ4Mz1M/default.jpg</td>\n",
       "      <td>False</td>\n",
       "      <td>False</td>\n",
       "      <td>False</td>\n",
       "      <td>STill got a lot of packages. Probably will las...</td>\n",
       "    </tr>\n",
       "    <tr>\n",
       "      <td>2</td>\n",
       "      <td>5qpjK5DgCt4</td>\n",
       "      <td>17.14.11</td>\n",
       "      <td>Racist Superman | Rudy Mancuso, King Bach &amp; Le...</td>\n",
       "      <td>Rudy Mancuso</td>\n",
       "      <td>23</td>\n",
       "      <td>2017-11-12T19:05:24.000Z</td>\n",
       "      <td>racist superman|\"rudy\"|\"mancuso\"|\"king\"|\"bach\"...</td>\n",
       "      <td>3191434</td>\n",
       "      <td>146035</td>\n",
       "      <td>5339</td>\n",
       "      <td>8181</td>\n",
       "      <td>https://i.ytimg.com/vi/5qpjK5DgCt4/default.jpg</td>\n",
       "      <td>False</td>\n",
       "      <td>False</td>\n",
       "      <td>False</td>\n",
       "      <td>WATCH MY PREVIOUS VIDEO ▶ \\n\\nSUBSCRIBE ► http...</td>\n",
       "    </tr>\n",
       "  </tbody>\n",
       "</table>\n",
       "</div>"
      ],
      "text/plain": [
       "      video_id trending_date  \\\n",
       "0  n1WpP7iowLc      17.14.11   \n",
       "1  0dBIkQ4Mz1M      17.14.11   \n",
       "2  5qpjK5DgCt4      17.14.11   \n",
       "\n",
       "                                               title channel_title  \\\n",
       "0         Eminem - Walk On Water (Audio) ft. Beyoncé    EminemVEVO   \n",
       "1                      PLUSH - Bad Unboxing Fan Mail     iDubbbzTV   \n",
       "2  Racist Superman | Rudy Mancuso, King Bach & Le...  Rudy Mancuso   \n",
       "\n",
       "   category_id              publish_time  \\\n",
       "0           10  2017-11-10T17:00:03.000Z   \n",
       "1           23  2017-11-13T17:00:00.000Z   \n",
       "2           23  2017-11-12T19:05:24.000Z   \n",
       "\n",
       "                                                tags     views   likes  \\\n",
       "0  Eminem|\"Walk\"|\"On\"|\"Water\"|\"Aftermath/Shady/In...  17158579  787425   \n",
       "1  plush|\"bad unboxing\"|\"unboxing\"|\"fan mail\"|\"id...   1014651  127794   \n",
       "2  racist superman|\"rudy\"|\"mancuso\"|\"king\"|\"bach\"...   3191434  146035   \n",
       "\n",
       "   dislikes  comment_count                                  thumbnail_link  \\\n",
       "0     43420         125882  https://i.ytimg.com/vi/n1WpP7iowLc/default.jpg   \n",
       "1      1688          13030  https://i.ytimg.com/vi/0dBIkQ4Mz1M/default.jpg   \n",
       "2      5339           8181  https://i.ytimg.com/vi/5qpjK5DgCt4/default.jpg   \n",
       "\n",
       "   comments_disabled  ratings_disabled  video_error_or_removed  \\\n",
       "0              False             False                   False   \n",
       "1              False             False                   False   \n",
       "2              False             False                   False   \n",
       "\n",
       "                                         description  \n",
       "0  Eminem's new track Walk on Water ft. Beyoncé i...  \n",
       "1  STill got a lot of packages. Probably will las...  \n",
       "2  WATCH MY PREVIOUS VIDEO ▶ \\n\\nSUBSCRIBE ► http...  "
      ]
     },
     "execution_count": 6,
     "metadata": {},
     "output_type": "execute_result"
    }
   ],
   "source": [
    "#/Users/apple/Desktop/youtube-new/CAvideos.csv \n",
    "# Import data\n",
    "path = \"C:\\\\Users\\\\Aishwarya\\\\Downloads\\\\Acads\\\\Semester 2\\\\Prof Bono\\\\Bono Project\"\n",
    "df=pd.read_csv(path+\"/CAvideos.csv\", usecols=[items for items in range(16)], sep=\",\")\n",
    "df.head(3)"
   ]
  },
  {
   "cell_type": "markdown",
   "metadata": {},
   "source": [
    "In the following few lines of code, we have changed the trending_date format to a more readable form"
   ]
  },
  {
   "cell_type": "code",
   "execution_count": 7,
   "metadata": {},
   "outputs": [],
   "source": [
    "#change the trending_date\n",
    "df['trending_date'].replace('\\.','-',regex=True,inplace=True) #'-' no regular expression\n",
    "type(df['trending_date'][0])\n",
    "df['new_column']='20'\n",
    "df['trending_date'] = df.agg(lambda x: f\"{x['new_column']}{x['trending_date']}\", axis=1)\n",
    "df['trending_date'] = pd.to_datetime(df['trending_date'],format='%Y-%d-%m')         \n",
    "del df['new_column']                            \n",
    "#type(df['trending_date'][0])"
   ]
  },
  {
   "cell_type": "code",
   "execution_count": 9,
   "metadata": {},
   "outputs": [
    {
     "data": {
      "text/plain": [
       "0   2017-11-14\n",
       "1   2017-11-14\n",
       "2   2017-11-14\n",
       "Name: trending_date, dtype: datetime64[ns]"
      ]
     },
     "execution_count": 9,
     "metadata": {},
     "output_type": "execute_result"
    }
   ],
   "source": [
    "#Now, we view the result\n",
    "df['trending_date'].head(3)"
   ]
  },
  {
   "cell_type": "markdown",
   "metadata": {},
   "source": [
    "Now, we split the publish_time column into publish date and exact time to have more specific information about the same"
   ]
  },
  {
   "cell_type": "code",
   "execution_count": 10,
   "metadata": {},
   "outputs": [],
   "source": [
    "#change the publish_time column to a better, readable format\n",
    "df.insert(5,'publish_date',df['publish_time'].map(lambda name:name.split('T')[0])) \n",
    "df['publish_time']=df['publish_time'].map(lambda name:name.split('T')[1])\n",
    "df['publish_date'] = pd.to_datetime(df['publish_date']) \n",
    "df['publish_time'] = pd.to_datetime(df['publish_time']) "
   ]
  },
  {
   "cell_type": "code",
   "execution_count": 14,
   "metadata": {},
   "outputs": [
    {
     "name": "stdout",
     "output_type": "stream",
     "text": [
      "<class 'pandas.core.frame.DataFrame'>\n",
      "RangeIndex: 40881 entries, 0 to 40880\n",
      "Data columns (total 17 columns):\n",
      "video_id                  40881 non-null object\n",
      "trending_date             40881 non-null datetime64[ns]\n",
      "title                     40881 non-null object\n",
      "channel_title             40881 non-null object\n",
      "category_id               40881 non-null int64\n",
      "publish_date              40881 non-null datetime64[ns]\n",
      "publish_time              40881 non-null datetime64[ns, UTC]\n",
      "tags                      40881 non-null object\n",
      "views                     40881 non-null int64\n",
      "likes                     40881 non-null int64\n",
      "dislikes                  40881 non-null int64\n",
      "comment_count             40881 non-null int64\n",
      "thumbnail_link            40881 non-null object\n",
      "comments_disabled         40881 non-null bool\n",
      "ratings_disabled          40881 non-null bool\n",
      "video_error_or_removed    40881 non-null bool\n",
      "description               39585 non-null object\n",
      "dtypes: bool(3), datetime64[ns, UTC](1), datetime64[ns](2), int64(5), object(6)\n",
      "memory usage: 4.5+ MB\n"
     ]
    },
    {
     "data": {
      "text/plain": [
       "Index(['video_id', 'trending_date', 'title', 'channel_title', 'category_id',\n",
       "       'publish_date', 'publish_time', 'tags', 'views', 'likes', 'dislikes',\n",
       "       'comment_count', 'thumbnail_link', 'comments_disabled',\n",
       "       'ratings_disabled', 'video_error_or_removed', 'description'],\n",
       "      dtype='object')"
      ]
     },
     "execution_count": 14,
     "metadata": {},
     "output_type": "execute_result"
    }
   ],
   "source": [
    "#Now, we will study the data-types of each column\n",
    "df.info() #df.dtypes\n",
    "df.columns"
   ]
  },
  {
   "cell_type": "code",
   "execution_count": 15,
   "metadata": {},
   "outputs": [],
   "source": [
    "# Translate the boolean values into numeric values\n",
    "df[\"comments_disabled\"]=df[\"comments_disabled\"].astype(int)\n",
    "df[\"ratings_disabled\"]=df[\"ratings_disabled\"].astype(int)\n",
    "df[\"video_error_or_removed\"]=df[\"video_error_or_removed\"].astype(int)"
   ]
  },
  {
   "cell_type": "code",
   "execution_count": 16,
   "metadata": {},
   "outputs": [
    {
     "data": {
      "text/plain": [
       "numpy.int32"
      ]
     },
     "execution_count": 16,
     "metadata": {},
     "output_type": "execute_result"
    }
   ],
   "source": [
    "type(df['comments_disabled'][9]) # confirming that our conversion was successful"
   ]
  },
  {
   "cell_type": "markdown",
   "metadata": {},
   "source": [
    "## 5. Normalization of data"
   ]
  },
  {
   "cell_type": "markdown",
   "metadata": {},
   "source": [
    "Oftentime, when we are seeking for relations between variables, we tend to normalize them, which refers to bringing them down to a scale which is comparable between variables. This helps us reduce the skewness present withing the variable data, which is the one-sided majority accumulation of the variable data when a histogram of the same is plotted."
   ]
  },
  {
   "cell_type": "code",
   "execution_count": 17,
   "metadata": {},
   "outputs": [],
   "source": [
    "# Use normalization to reduce skewness of the data if necessary\n",
    "from sklearn import preprocessing\n",
    "import numpy as np\n",
    "# Normalize views\n",
    "x_array = np.array(df['views'])\n",
    "normalized_X = preprocessing.normalize([x_array])\n",
    "normalized_X_dataframe = pd.DataFrame(normalized_X)   \n",
    "df['views']=normalized_X_dataframe.T\n",
    "#display(df['views'])\n",
    "\n",
    "# Normalize likes\n",
    "x_array = np.array(df['likes'])\n",
    "normalized_Y = preprocessing.normalize([x_array])\n",
    "normalized_Y_dataframe = pd.DataFrame(normalized_Y)   \n",
    "df['likes']=normalized_Y_dataframe.T\n",
    "\n",
    "\n",
    "# Normalize dislikes\n",
    "x_array = np.array(df['dislikes'])\n",
    "normalized_Z = preprocessing.normalize([x_array])\n",
    "normalized_Z_dataframe = pd.DataFrame(normalized_Z)   \n",
    "df['dislikes']=normalized_Z_dataframe.T\n",
    "\n",
    "\n",
    "# Normalize comment_count\n",
    "x_array = np.array(df['comment_count'])\n",
    "normalized_C = preprocessing.normalize([x_array])\n",
    "normalized_C_dataframe = pd.DataFrame(normalized_C)   \n",
    "df['comment_count']=normalized_C_dataframe.T"
   ]
  },
  {
   "cell_type": "markdown",
   "metadata": {},
   "source": [
    "Now, we will visualise how our normalised variables look"
   ]
  },
  {
   "cell_type": "code",
   "execution_count": 18,
   "metadata": {},
   "outputs": [
    {
     "data": {
      "image/png": "[encoded data removed]",
      "text/plain": [
       "<Figure size 432x288 with 1 Axes>"
      ]
     },
     "metadata": {
      "needs_background": "light"
     },
     "output_type": "display_data"
    }
   ],
   "source": [
    "# draw the graph from the distribution between 'likes' and 'dislikes'\n",
    "means = df['likes'].mean(), df['dislikes'].mean()\n",
    "stdevs = df['likes'].std(axis = 0, skipna = True), df['dislikes'].std(axis = 0, skipna = True)\n",
    "dist = pd.DataFrame(\n",
    "np.random.normal(loc=means, scale=stdevs, size=(1000, 2)),\n",
    "columns=['Likes', 'Dislikes'])\n",
    "dist.agg(['min', 'max', 'mean', 'std']).round(decimals=2)\n",
    "\n",
    "fig, ax = plt.subplots()\n",
    "dist.plot.kde(ax=ax, legend=False, title='Histogram: likes vs. dislikes')\n",
    "dist.plot.hist(density=True, ax=ax)\n",
    "ax.set_ylabel('Probability')\n",
    "ax.grid(axis='y')\n",
    "ax.set_facecolor('#d8dcd6')"
   ]
  },
  {
   "cell_type": "markdown",
   "metadata": {},
   "source": [
    "From the above visualisation, we can see that the skewness of these variables has been removed"
   ]
  },
  {
   "cell_type": "markdown",
   "metadata": {},
   "source": [
    "## 6.Title Text Processing"
   ]
  },
  {
   "cell_type": "markdown",
   "metadata": {},
   "source": [
    "Now, we will try to see which are the most common words used while giving a title to a video"
   ]
  },
  {
   "cell_type": "code",
   "execution_count": 19,
   "metadata": {},
   "outputs": [],
   "source": [
    "# present the frenquency of trendy title\n",
    "df[\"title\"]=df[\"title\"].astype(str)\n",
    "df_new = df[df['title'].notnull()]"
   ]
  },
  {
   "cell_type": "code",
   "execution_count": 26,
   "metadata": {},
   "outputs": [
    {
     "data": {
      "image/png": "[encoded data removed]",
      "text/plain": [
       "<Figure size 432x288 with 1 Axes>"
      ]
     },
     "metadata": {
      "needs_background": "light"
     },
     "output_type": "display_data"
    }
   ],
   "source": [
    "def my_tokenizer(text):\n",
    "    return text.split() if text!= None else []\n",
    "tokens=df_new.title.map(my_tokenizer).sum()\n",
    "#create token list\n",
    "from collections import Counter\n",
    "\n",
    "counter=Counter(tokens)\n",
    "counter.most_common(20)\n",
    "\n",
    "#remove stop words\n",
    "from spacy.lang.en.stop_words import STOP_WORDS\n",
    "\n",
    "def remove_stopwords(tokens):\n",
    "    '''remove stopwords from a list of tokens.'''\n",
    "    return [t for t in tokens if t not in STOP_WORDS]\n",
    "#rebuild counter\n",
    "counter=Counter(remove_stopwords(tokens))\n",
    "counter.most_common(30)\n",
    "\n",
    "freq_df=pd.DataFrame.from_records(counter.most_common(30),\n",
    "                                  columns=['token','count'])\n",
    "#create bar plot\n",
    "freq_df.plot(kind='bar',x='token');"
   ]
  },
  {
   "cell_type": "markdown",
   "metadata": {},
   "source": [
    "In the above bar graph, we can see how from left to right the most common tokens/words become less common as their frequency of occurence decreases"
   ]
  },
  {
   "cell_type": "code",
   "execution_count": 27,
   "metadata": {},
   "outputs": [
    {
     "data": {
      "image/png": "[encoded data removed]",
      "text/plain": [
       "<Figure size 432x288 with 1 Axes>"
      ]
     },
     "metadata": {
      "needs_background": "light"
     },
     "output_type": "display_data"
    }
   ],
   "source": [
    "def my_tokenizer(text):\n",
    "    return text.split() if text!= None else []\n",
    "tokens=df_new.title.map(my_tokenizer).sum()\n",
    "#create token list\n",
    "from collections import Counter\n",
    "\n",
    "counter=Counter(tokens)\n",
    "counter.most_common(20)\n",
    "\n",
    "#remove stop words\n",
    "from spacy.lang.en.stop_words import STOP_WORDS\n",
    "\n",
    "def remove_stopwords(tokens):\n",
    "    '''remove stopwords from a list of tokens.'''\n",
    "    return [t for t in tokens if t not in STOP_WORDS]\n",
    "#rebuild counter\n",
    "counter=Counter(remove_stopwords(tokens))\n",
    "\n",
    "#covert list of tuples onto wordcloud\n",
    "from wordcloud import WordCloud\n",
    "\n",
    "def wordcloud(counter):\n",
    "    wc=WordCloud(width=1200,height=800,\n",
    "                 background_color='white',\n",
    "                 max_words=200)\n",
    "    wc.generate_from_frequencies(counter)\n",
    "\n",
    "    #plot\n",
    "    fig=plt.figure(figsize=(6,4))\n",
    "    plt.imshow(wc,interpolation='bilinear')\n",
    "    plt.axis('off')\n",
    "    plt.tight_layout(pad=0)\n",
    "    plt.show()\n",
    "\n",
    "#create wordcloud\n",
    "wordcloud(counter)"
   ]
  },
  {
   "cell_type": "markdown",
   "metadata": {},
   "source": [
    "We see from the above word cloud, that words such as \"The\",\"2018\" and \"Episode\" appear a huge number of times. We can thus infer that a lot of the videos may have trended in the year \"2018\""
   ]
  },
  {
   "cell_type": "markdown",
   "metadata": {},
   "source": [
    "## 7. Json Data Mapping (Category)"
   ]
  },
  {
   "cell_type": "markdown",
   "metadata": {},
   "source": [
    "Our data along with csv files, has associated json files with it which contains information about the type of video present in the corresponding csv files. In the following few lines of code, we have used information from this json file and mapped into onto our csv file to store the name of the video category corresponding to each video"
   ]
  },
  {
   "cell_type": "code",
   "execution_count": 86,
   "metadata": {},
   "outputs": [],
   "source": [
    "#reading the required dataset\n",
    "df_US = pd.read_csv(\"USvideos.csv\")"
   ]
  },
  {
   "cell_type": "code",
   "execution_count": 87,
   "metadata": {},
   "outputs": [],
   "source": [
    "with open('US_category_id.json') as json_data:\n",
    "    d = json.load(json_data)\n",
    "    json_data.close()\n",
    "\n",
    "#creating a list of dictionary of json objects    \n",
    "list_of_json_objects = (d['items'])"
   ]
  },
  {
   "cell_type": "code",
   "execution_count": 88,
   "metadata": {},
   "outputs": [],
   "source": [
    "#creating a dictionary to store category ids as keys and category names as values\n",
    "catid_names = {}\n",
    "\n",
    "for i in range(len(list_of_json_objects)):\n",
    "    catid_names[i] = list_of_json_objects[i]['snippet']['title']"
   ]
  },
  {
   "cell_type": "code",
   "execution_count": 89,
   "metadata": {},
   "outputs": [
    {
     "data": {
      "text/plain": [
       "{0: 'Film & Animation',\n",
       " 1: 'Autos & Vehicles',\n",
       " 2: 'Music',\n",
       " 3: 'Pets & Animals',\n",
       " 4: 'Sports',\n",
       " 5: 'Short Movies',\n",
       " 6: 'Travel & Events',\n",
       " 7: 'Gaming',\n",
       " 8: 'Videoblogging',\n",
       " 9: 'People & Blogs',\n",
       " 10: 'Comedy',\n",
       " 11: 'Entertainment',\n",
       " 12: 'News & Politics',\n",
       " 13: 'Howto & Style',\n",
       " 14: 'Education',\n",
       " 15: 'Science & Technology',\n",
       " 16: 'Nonprofits & Activism',\n",
       " 17: 'Movies',\n",
       " 18: 'Anime/Animation',\n",
       " 19: 'Action/Adventure',\n",
       " 20: 'Classics',\n",
       " 21: 'Comedy',\n",
       " 22: 'Documentary',\n",
       " 23: 'Drama',\n",
       " 24: 'Family',\n",
       " 25: 'Foreign',\n",
       " 26: 'Horror',\n",
       " 27: 'Sci-Fi/Fantasy',\n",
       " 28: 'Thriller',\n",
       " 29: 'Shorts',\n",
       " 30: 'Shows',\n",
       " 31: 'Trailers'}"
      ]
     },
     "execution_count": 89,
     "metadata": {},
     "output_type": "execute_result"
    }
   ],
   "source": [
    "#printing the dictionary\n",
    "catid_names"
   ]
  },
  {
   "cell_type": "code",
   "execution_count": 90,
   "metadata": {},
   "outputs": [
    {
     "name": "stderr",
     "output_type": "stream",
     "text": [
      "C:\\Users\\Aishwarya\\Anaconda3\\lib\\site-packages\\ipykernel_launcher.py:7: SettingWithCopyWarning: \n",
      "A value is trying to be set on a copy of a slice from a DataFrame\n",
      "\n",
      "See the caveats in the documentation: http://pandas.pydata.org/pandas-docs/stable/user_guide/indexing.html#returning-a-view-versus-a-copy\n",
      "  import sys\n",
      "C:\\Users\\Aishwarya\\Anaconda3\\lib\\site-packages\\ipykernel_launcher.py:5: SettingWithCopyWarning: \n",
      "A value is trying to be set on a copy of a slice from a DataFrame\n",
      "\n",
      "See the caveats in the documentation: http://pandas.pydata.org/pandas-docs/stable/user_guide/indexing.html#returning-a-view-versus-a-copy\n",
      "  \"\"\"\n"
     ]
    }
   ],
   "source": [
    "#replacing category_id column with category_name column\n",
    "for i in range(len(df_US)):\n",
    "    category = df_US['category_id'][i]\n",
    "    if category not in catid_names.keys():\n",
    "        df_US['category_id'][i] = \"Other\"\n",
    "    else:\n",
    "        df_US['category_id'][i] = catid_names[category]"
   ]
  },
  {
   "cell_type": "code",
   "execution_count": 91,
   "metadata": {},
   "outputs": [
    {
     "data": {
      "text/plain": [
       "0    Documentary\n",
       "1         Family\n",
       "2          Drama\n",
       "3         Family\n",
       "4         Family\n",
       "5       Thriller\n",
       "Name: category_id, dtype: object"
      ]
     },
     "execution_count": 91,
     "metadata": {},
     "output_type": "execute_result"
    }
   ],
   "source": [
    "df_US['category_id'].head(6)"
   ]
  },
  {
   "cell_type": "code",
   "execution_count": 92,
   "metadata": {},
   "outputs": [],
   "source": [
    "df_US.rename(columns={'category_id':'category_name'},inplace=True)"
   ]
  },
  {
   "cell_type": "markdown",
   "metadata": {},
   "source": [
    "## 8. Video Tag Data Cleaning"
   ]
  },
  {
   "cell_type": "markdown",
   "metadata": {},
   "source": [
    "Now we will deal with the \"tags\" column and try to convert it to a list as well as store the number of tags associated with a video in a new column"
   ]
  },
  {
   "cell_type": "code",
   "execution_count": 93,
   "metadata": {},
   "outputs": [],
   "source": [
    "df_US['Tags'] = df_US['tags'].map(lambda tags:tags.split('|'))"
   ]
  },
  {
   "cell_type": "code",
   "execution_count": 95,
   "metadata": {},
   "outputs": [
    {
     "data": {
      "text/plain": [
       "0                                    [SHANtell martin]\n",
       "1    [last week tonight trump presidency, \"last wee...\n",
       "2    [racist superman, \"rudy\", \"mancuso\", \"king\", \"...\n",
       "3    [rhett and link, \"gmm\", \"good mythical morning...\n",
       "Name: Tags, dtype: object"
      ]
     },
     "execution_count": 95,
     "metadata": {},
     "output_type": "execute_result"
    }
   ],
   "source": [
    "# We now view a few lines of the Tags column to see the list created\n",
    "df_US['Tags'].head(4)"
   ]
  },
  {
   "cell_type": "markdown",
   "metadata": {},
   "source": [
    "From the content of these Tag lists, we can see that some of the list elements are quoted in double-inverted commas, which is unnecesary. Thus, we will eliminate these characters"
   ]
  },
  {
   "cell_type": "code",
   "execution_count": 96,
   "metadata": {},
   "outputs": [],
   "source": [
    "for i in range(len(df_US['Tags'])):\n",
    "    #k = df_US['Tags'][i]\n",
    "    for k in range(len(df_US['Tags'][i])):\n",
    "        df_US['Tags'][i][k] = df_US['Tags'][i][k].replace('\\\"','').rstrip().lstrip()"
   ]
  },
  {
   "cell_type": "code",
   "execution_count": 97,
   "metadata": {},
   "outputs": [
    {
     "data": {
      "text/plain": [
       "0                                    [SHANtell martin]\n",
       "1    [last week tonight trump presidency, last week...\n",
       "2    [racist superman, rudy, mancuso, king, bach, r...\n",
       "Name: Tags, dtype: object"
      ]
     },
     "execution_count": 97,
     "metadata": {},
     "output_type": "execute_result"
    }
   ],
   "source": [
    "#Now, we will view our results of the clean column df_US['Tags']\n",
    "df_US['Tags'].head(3)"
   ]
  },
  {
   "cell_type": "markdown",
   "metadata": {},
   "source": [
    "Thus, we have gotten rid of the \" characters. Now, we will calculate the count of tags for each video and store it in a new column"
   ]
  },
  {
   "cell_type": "code",
   "execution_count": 98,
   "metadata": {},
   "outputs": [],
   "source": [
    "df_US['TagCount'] = df_US['Tags'].map(lambda x:len(x))"
   ]
  },
  {
   "cell_type": "code",
   "execution_count": 99,
   "metadata": {},
   "outputs": [
    {
     "data": {
      "text/plain": [
       "0     1\n",
       "1     4\n",
       "2    23\n",
       "3    27\n",
       "4    14\n",
       "Name: TagCount, dtype: int64"
      ]
     },
     "execution_count": 99,
     "metadata": {},
     "output_type": "execute_result"
    }
   ],
   "source": [
    "#Viewing the results of the new column \"TagCount\"\n",
    "df_US['TagCount'].head()"
   ]
  },
  {
   "cell_type": "markdown",
   "metadata": {},
   "source": [
    "## 9. Dataset Merging"
   ]
  },
  {
   "cell_type": "markdown",
   "metadata": {},
   "source": [
    "Now, we will shift gears to assign each video record to one country, the country that it belongs to. Since we have over 5 different data files, each belonging to a different country, we have used the following code on only 3 of them for demonstration purpose"
   ]
  },
  {
   "cell_type": "code",
   "execution_count": 101,
   "metadata": {},
   "outputs": [],
   "source": [
    "df_CA = pd.read_csv(r\"C:\\\\Users\\\\Aishwarya\\\\Downloads\\\\Acads\\\\Semester 2\\\\Prof Bono\\\\Bono Project\\\\CAvideos.csv\", encoding='utf-8')\n",
    "df_DE = pd.read_csv(r\"C:\\\\Users\\\\Aishwarya\\\\Downloads\\\\Acads\\\\Semester 2\\\\Prof Bono\\\\Bono Project\\\\DEvideos.csv\", encoding='utf-8')\n",
    "df_FR = pd.read_csv(r\"C:\\\\Users\\\\Aishwarya\\\\Downloads\\\\Acads\\\\Semester 2\\\\Prof Bono\\\\Bono Project\\\\FRvideos.csv\", encoding='utf-8')"
   ]
  },
  {
   "cell_type": "code",
   "execution_count": 102,
   "metadata": {},
   "outputs": [],
   "source": [
    "#adding the \"Country\" column for all datasets\n",
    "names_of_countries = ['CA','DE','FR']\n",
    "names_of_dataframes = [df_CA,df_DE,df_FR]\n",
    "for i in range(len(names_of_countries)):\n",
    "    names_of_dataframes[i]['Country'] = names_of_countries[i]"
   ]
  },
  {
   "cell_type": "code",
   "execution_count": 103,
   "metadata": {},
   "outputs": [],
   "source": [
    "#Creating a list of all the datasets\n",
    "final_df = []\n",
    "\n",
    "for i in range(len(names_of_dataframes)):\n",
    "    final_df.append(names_of_dataframes[i])"
   ]
  },
  {
   "cell_type": "code",
   "execution_count": 105,
   "metadata": {},
   "outputs": [],
   "source": [
    "#combining all datasets into one\n",
    "jumbo_df = pd.DataFrame(final_df[0])\n",
    "for i in range(0,3):\n",
    "    jumbo_df = jumbo_df.append(final_df[i])"
   ]
  },
  {
   "cell_type": "code",
   "execution_count": 106,
   "metadata": {},
   "outputs": [
    {
     "data": {
      "text/plain": [
       "array(['CA', 'DE', 'FR'], dtype=object)"
      ]
     },
     "execution_count": 106,
     "metadata": {},
     "output_type": "execute_result"
    }
   ],
   "source": [
    "# checking all unique values of the column \"Country\" to verify if the dataframes have been successfully merged\n",
    "jumbo_df['Country'].unique()"
   ]
  },
  {
   "cell_type": "code",
   "execution_count": 107,
   "metadata": {},
   "outputs": [
    {
     "data": {
      "text/plain": [
       "163326"
      ]
     },
     "execution_count": 107,
     "metadata": {},
     "output_type": "execute_result"
    }
   ],
   "source": [
    "#checking the length of the new merged dataset\n",
    "len(jumbo_df)"
   ]
  },
  {
   "cell_type": "markdown",
   "metadata": {},
   "source": [
    "Thus, we can see that we have added a new column \"Country\" that stores the abbreviated Country form for each video in our final combined dataframe"
   ]
  },
  {
   "cell_type": "code",
   "execution_count": null,
   "metadata": {},
   "outputs": [],
   "source": []
  }
 ],
 "metadata": {
  "kernelspec": {
   "display_name": "Python 3",
   "language": "python",
   "name": "python3"
  },
  "language_info": {
   "codemirror_mode": {
    "name": "ipython",
    "version": 3
   },
   "file_extension": ".py",
   "mimetype": "text/x-python",
   "name": "python",
   "nbconvert_exporter": "python",
   "pygments_lexer": "ipython3",
   "version": "3.7.4"
  }
 },
 "nbformat": 4,
 "nbformat_minor": 2
}
