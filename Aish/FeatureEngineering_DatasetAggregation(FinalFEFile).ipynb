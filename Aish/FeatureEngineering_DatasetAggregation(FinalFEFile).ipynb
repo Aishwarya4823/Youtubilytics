{
 "cells": [
  {
   "cell_type": "code",
   "execution_count": 1,
   "metadata": {},
   "outputs": [],
   "source": [
    "import pandas as pd\n",
    "import numpy as np\n",
    "import os\n",
    "import random\n",
    "import spacy\n",
    "from textblob import TextBlob\n",
    "import re\n",
    "import matplotlib.pyplot as plt\n",
    "import sys\n",
    "from wordcloud import WordCloud\n",
    "import json"
   ]
  },
  {
   "cell_type": "code",
   "execution_count": 2,
   "metadata": {},
   "outputs": [],
   "source": [
    "# reading into python all csv files\n",
    "df_CA = pd.read_csv(r\"C:\\Users\\Aishwarya\\Downloads\\Acads\\Semester 2\\Prof Bono\\Bono Project\\CA.csv\", encoding='utf-8')\n",
    "df_DE = pd.read_csv(r\"C:\\Users\\Aishwarya\\Downloads\\Acads\\Semester 2\\Prof Bono\\Bono Project\\DE.csv\", encoding='utf-8')\n",
    "df_FR = pd.read_csv(r\"C:\\Users\\Aishwarya\\Downloads\\Acads\\Semester 2\\Prof Bono\\Bono Project\\FR.csv\", encoding='utf-8')\n",
    "df_GB = pd.read_csv(r\"C:\\Users\\Aishwarya\\Downloads\\Acads\\Semester 2\\Prof Bono\\Bono Project\\GB.csv\", encoding='utf-8')\n",
    "df_IN = pd.read_csv(r\"C:\\Users\\Aishwarya\\Downloads\\Acads\\Semester 2\\Prof Bono\\Bono Project\\IN.csv\", encoding='utf-8')\n",
    "df_JP = pd.read_csv(r\"C:\\Users\\Aishwarya\\Downloads\\Acads\\Semester 2\\Prof Bono\\Bono Project\\JP.csv\", encoding='utf-8')\n",
    "df_KR = pd.read_csv(r\"C:\\Users\\Aishwarya\\Downloads\\Acads\\Semester 2\\Prof Bono\\Bono Project\\KR.csv\", encoding='utf-8')\n",
    "df_MX = pd.read_csv(r\"C:\\Users\\Aishwarya\\Downloads\\Acads\\Semester 2\\Prof Bono\\Bono Project\\MX.csv\", encoding='utf-8')\n",
    "df_RU = pd.read_csv(r\"C:\\Users\\Aishwarya\\Downloads\\Acads\\Semester 2\\Prof Bono\\Bono Project\\RU.csv\", encoding='utf-8')\n",
    "df_US = pd.read_csv(r\"C:\\Users\\Aishwarya\\Downloads\\Acads\\Semester 2\\Prof Bono\\Bono Project\\US.csv\", encoding='utf-8')"
   ]
  },
  {
   "cell_type": "code",
   "execution_count": 3,
   "metadata": {},
   "outputs": [],
   "source": [
    "names_of_dataframes = [df_CA,df_DE,df_FR,df_GB,df_IN,df_JP,df_KR,df_MX,df_RU,df_US]\n",
    "langlist = []\n",
    "for i in names_of_dataframes:\n",
    "    if (TextBlob(i['description'][0]).detect_language() == 'en'):\n",
    "        langlist.append('en')\n",
    "    else:\n",
    "        langlist.append('not_en')"
   ]
  },
  {
   "cell_type": "code",
   "execution_count": 4,
   "metadata": {},
   "outputs": [
    {
     "data": {
      "text/plain": [
       "['en',\n",
       " 'not_en',\n",
       " 'not_en',\n",
       " 'en',\n",
       " 'en',\n",
       " 'not_en',\n",
       " 'not_en',\n",
       " 'not_en',\n",
       " 'not_en',\n",
       " 'en']"
      ]
     },
     "execution_count": 4,
     "metadata": {},
     "output_type": "execute_result"
    }
   ],
   "source": [
    "langlist"
   ]
  },
  {
   "cell_type": "code",
   "execution_count": 5,
   "metadata": {},
   "outputs": [],
   "source": [
    "#adding the \"Country\" column for all datasets\n",
    "names_of_countries = ['CA','DE','FR','GB','IN','JP','KR','MX','RU','US']\n",
    "names_of_dataframes = [df_CA,df_DE,df_FR,df_GB,df_IN,df_JP,df_KR,df_MX,df_RU,df_US]\n",
    "for i in range(len(names_of_countries)):\n",
    "    names_of_dataframes[i]['Country'] = names_of_countries[i]"
   ]
  },
  {
   "cell_type": "code",
   "execution_count": null,
   "metadata": {},
   "outputs": [],
   "source": []
  },
  {
   "cell_type": "code",
   "execution_count": 6,
   "metadata": {},
   "outputs": [],
   "source": [
    "#combining all dataframes into one dataframe\n",
    "names_of_dataframes = [df_DE,df_FR,df_GB,df_IN,df_JP,df_KR,df_MX,df_RU,df_US]\n",
    "#textproc_df = pd.DataFrame(df_CA)\n",
    "final_df = pd.DataFrame(df_CA)\n",
    "for i in names_of_dataframes:\n",
    "    #if (TextBlob(i['title'][random.randint(1,10)]).detect_language() == 'en'):\n",
    "       # textproc_df = textproc_df.append(i)\n",
    "    final_df = final_df.append(i)"
   ]
  },
  {
   "cell_type": "markdown",
   "metadata": {},
   "source": [
    "# Final_df Analysis "
   ]
  },
  {
   "cell_type": "markdown",
   "metadata": {},
   "source": [
    "Feature engineering on only numerical variables"
   ]
  },
  {
   "cell_type": "code",
   "execution_count": 7,
   "metadata": {},
   "outputs": [
    {
     "data": {
      "text/plain": [
       "(375942, 18)"
      ]
     },
     "execution_count": 7,
     "metadata": {},
     "output_type": "execute_result"
    }
   ],
   "source": [
    "#We first study the shape of this dataset\n",
    "final_df.shape"
   ]
  },
  {
   "cell_type": "code",
   "execution_count": 8,
   "metadata": {},
   "outputs": [
    {
     "data": {
      "text/html": [
       "<div>\n",
       "<style scoped>\n",
       "    .dataframe tbody tr th:only-of-type {\n",
       "        vertical-align: middle;\n",
       "    }\n",
       "\n",
       "    .dataframe tbody tr th {\n",
       "        vertical-align: top;\n",
       "    }\n",
       "\n",
       "    .dataframe thead th {\n",
       "        text-align: right;\n",
       "    }\n",
       "</style>\n",
       "<table border=\"1\" class=\"dataframe\">\n",
       "  <thead>\n",
       "    <tr style=\"text-align: right;\">\n",
       "      <th></th>\n",
       "      <th>Unnamed: 0</th>\n",
       "      <th>video_id</th>\n",
       "      <th>trending_date</th>\n",
       "      <th>title</th>\n",
       "      <th>channel_title</th>\n",
       "      <th>category_name</th>\n",
       "      <th>publish_time</th>\n",
       "      <th>tags</th>\n",
       "      <th>views</th>\n",
       "      <th>likes</th>\n",
       "      <th>dislikes</th>\n",
       "      <th>comment_count</th>\n",
       "      <th>thumbnail_link</th>\n",
       "      <th>comments_disabled</th>\n",
       "      <th>ratings_disabled</th>\n",
       "      <th>video_error_or_removed</th>\n",
       "      <th>description</th>\n",
       "      <th>Country</th>\n",
       "    </tr>\n",
       "  </thead>\n",
       "  <tbody>\n",
       "    <tr>\n",
       "      <td>0</td>\n",
       "      <td>0</td>\n",
       "      <td>n1WpP7iowLc</td>\n",
       "      <td>17.14.11</td>\n",
       "      <td>Eminem - Walk On Water (Audio) ft. Beyoncé</td>\n",
       "      <td>EminemVEVO</td>\n",
       "      <td>Comedy</td>\n",
       "      <td>2017-11-10T17:00:03.000Z</td>\n",
       "      <td>Eminem|\"Walk\"|\"On\"|\"Water\"|\"Aftermath/Shady/In...</td>\n",
       "      <td>17158579</td>\n",
       "      <td>787425</td>\n",
       "      <td>43420</td>\n",
       "      <td>125882</td>\n",
       "      <td>https://i.ytimg.com/vi/n1WpP7iowLc/default.jpg</td>\n",
       "      <td>False</td>\n",
       "      <td>False</td>\n",
       "      <td>False</td>\n",
       "      <td>Eminem's new track Walk on Water ft. Beyoncé i...</td>\n",
       "      <td>CA</td>\n",
       "    </tr>\n",
       "    <tr>\n",
       "      <td>1</td>\n",
       "      <td>1</td>\n",
       "      <td>0dBIkQ4Mz1M</td>\n",
       "      <td>17.14.11</td>\n",
       "      <td>PLUSH - Bad Unboxing Fan Mail</td>\n",
       "      <td>iDubbbzTV</td>\n",
       "      <td>Family</td>\n",
       "      <td>2017-11-13T17:00:00.000Z</td>\n",
       "      <td>plush|\"bad unboxing\"|\"unboxing\"|\"fan mail\"|\"id...</td>\n",
       "      <td>1014651</td>\n",
       "      <td>127794</td>\n",
       "      <td>1688</td>\n",
       "      <td>13030</td>\n",
       "      <td>https://i.ytimg.com/vi/0dBIkQ4Mz1M/default.jpg</td>\n",
       "      <td>False</td>\n",
       "      <td>False</td>\n",
       "      <td>False</td>\n",
       "      <td>STill got a lot of packages. Probably will las...</td>\n",
       "      <td>CA</td>\n",
       "    </tr>\n",
       "    <tr>\n",
       "      <td>2</td>\n",
       "      <td>2</td>\n",
       "      <td>5qpjK5DgCt4</td>\n",
       "      <td>17.14.11</td>\n",
       "      <td>Racist Superman | Rudy Mancuso, King Bach &amp; Le...</td>\n",
       "      <td>Rudy Mancuso</td>\n",
       "      <td>Family</td>\n",
       "      <td>2017-11-12T19:05:24.000Z</td>\n",
       "      <td>racist superman|\"rudy\"|\"mancuso\"|\"king\"|\"bach\"...</td>\n",
       "      <td>3191434</td>\n",
       "      <td>146035</td>\n",
       "      <td>5339</td>\n",
       "      <td>8181</td>\n",
       "      <td>https://i.ytimg.com/vi/5qpjK5DgCt4/default.jpg</td>\n",
       "      <td>False</td>\n",
       "      <td>False</td>\n",
       "      <td>False</td>\n",
       "      <td>WATCH MY PREVIOUS VIDEO ▶ \\n\\nSUBSCRIBE ► http...</td>\n",
       "      <td>CA</td>\n",
       "    </tr>\n",
       "    <tr>\n",
       "      <td>3</td>\n",
       "      <td>3</td>\n",
       "      <td>d380meD0W0M</td>\n",
       "      <td>17.14.11</td>\n",
       "      <td>I Dare You: GOING BALD!?</td>\n",
       "      <td>nigahiga</td>\n",
       "      <td>Foreign</td>\n",
       "      <td>2017-11-12T18:01:41.000Z</td>\n",
       "      <td>ryan|\"higa\"|\"higatv\"|\"nigahiga\"|\"i dare you\"|\"...</td>\n",
       "      <td>2095828</td>\n",
       "      <td>132239</td>\n",
       "      <td>1989</td>\n",
       "      <td>17518</td>\n",
       "      <td>https://i.ytimg.com/vi/d380meD0W0M/default.jpg</td>\n",
       "      <td>False</td>\n",
       "      <td>False</td>\n",
       "      <td>False</td>\n",
       "      <td>I know it's been a while since we did this sho...</td>\n",
       "      <td>CA</td>\n",
       "    </tr>\n",
       "    <tr>\n",
       "      <td>4</td>\n",
       "      <td>4</td>\n",
       "      <td>2Vv-BfVoq4g</td>\n",
       "      <td>17.14.11</td>\n",
       "      <td>Ed Sheeran - Perfect (Official Music Video)</td>\n",
       "      <td>Ed Sheeran</td>\n",
       "      <td>Comedy</td>\n",
       "      <td>2017-11-09T11:04:14.000Z</td>\n",
       "      <td>edsheeran|\"ed sheeran\"|\"acoustic\"|\"live\"|\"cove...</td>\n",
       "      <td>33523622</td>\n",
       "      <td>1634130</td>\n",
       "      <td>21082</td>\n",
       "      <td>85067</td>\n",
       "      <td>https://i.ytimg.com/vi/2Vv-BfVoq4g/default.jpg</td>\n",
       "      <td>False</td>\n",
       "      <td>False</td>\n",
       "      <td>False</td>\n",
       "      <td>🎧: https://ad.gt/yt-perfect\\n💰: https://atlant...</td>\n",
       "      <td>CA</td>\n",
       "    </tr>\n",
       "  </tbody>\n",
       "</table>\n",
       "</div>"
      ],
      "text/plain": [
       "   Unnamed: 0     video_id trending_date  \\\n",
       "0           0  n1WpP7iowLc      17.14.11   \n",
       "1           1  0dBIkQ4Mz1M      17.14.11   \n",
       "2           2  5qpjK5DgCt4      17.14.11   \n",
       "3           3  d380meD0W0M      17.14.11   \n",
       "4           4  2Vv-BfVoq4g      17.14.11   \n",
       "\n",
       "                                               title channel_title  \\\n",
       "0         Eminem - Walk On Water (Audio) ft. Beyoncé    EminemVEVO   \n",
       "1                      PLUSH - Bad Unboxing Fan Mail     iDubbbzTV   \n",
       "2  Racist Superman | Rudy Mancuso, King Bach & Le...  Rudy Mancuso   \n",
       "3                           I Dare You: GOING BALD!?      nigahiga   \n",
       "4        Ed Sheeran - Perfect (Official Music Video)    Ed Sheeran   \n",
       "\n",
       "  category_name              publish_time  \\\n",
       "0        Comedy  2017-11-10T17:00:03.000Z   \n",
       "1        Family  2017-11-13T17:00:00.000Z   \n",
       "2        Family  2017-11-12T19:05:24.000Z   \n",
       "3       Foreign  2017-11-12T18:01:41.000Z   \n",
       "4        Comedy  2017-11-09T11:04:14.000Z   \n",
       "\n",
       "                                                tags     views    likes  \\\n",
       "0  Eminem|\"Walk\"|\"On\"|\"Water\"|\"Aftermath/Shady/In...  17158579   787425   \n",
       "1  plush|\"bad unboxing\"|\"unboxing\"|\"fan mail\"|\"id...   1014651   127794   \n",
       "2  racist superman|\"rudy\"|\"mancuso\"|\"king\"|\"bach\"...   3191434   146035   \n",
       "3  ryan|\"higa\"|\"higatv\"|\"nigahiga\"|\"i dare you\"|\"...   2095828   132239   \n",
       "4  edsheeran|\"ed sheeran\"|\"acoustic\"|\"live\"|\"cove...  33523622  1634130   \n",
       "\n",
       "   dislikes  comment_count                                  thumbnail_link  \\\n",
       "0     43420         125882  https://i.ytimg.com/vi/n1WpP7iowLc/default.jpg   \n",
       "1      1688          13030  https://i.ytimg.com/vi/0dBIkQ4Mz1M/default.jpg   \n",
       "2      5339           8181  https://i.ytimg.com/vi/5qpjK5DgCt4/default.jpg   \n",
       "3      1989          17518  https://i.ytimg.com/vi/d380meD0W0M/default.jpg   \n",
       "4     21082          85067  https://i.ytimg.com/vi/2Vv-BfVoq4g/default.jpg   \n",
       "\n",
       "   comments_disabled  ratings_disabled  video_error_or_removed  \\\n",
       "0              False             False                   False   \n",
       "1              False             False                   False   \n",
       "2              False             False                   False   \n",
       "3              False             False                   False   \n",
       "4              False             False                   False   \n",
       "\n",
       "                                         description Country  \n",
       "0  Eminem's new track Walk on Water ft. Beyoncé i...      CA  \n",
       "1  STill got a lot of packages. Probably will las...      CA  \n",
       "2  WATCH MY PREVIOUS VIDEO ▶ \\n\\nSUBSCRIBE ► http...      CA  \n",
       "3  I know it's been a while since we did this sho...      CA  \n",
       "4  🎧: https://ad.gt/yt-perfect\\n💰: https://atlant...      CA  "
      ]
     },
     "execution_count": 8,
     "metadata": {},
     "output_type": "execute_result"
    }
   ],
   "source": [
    "final_df.head()"
   ]
  },
  {
   "cell_type": "code",
   "execution_count": 9,
   "metadata": {},
   "outputs": [
    {
     "data": {
      "text/plain": [
       "Unnamed: 0                    0\n",
       "video_id                      0\n",
       "trending_date                 0\n",
       "title                         0\n",
       "channel_title                 0\n",
       "category_name                 0\n",
       "publish_time                  0\n",
       "tags                          0\n",
       "views                         0\n",
       "likes                         0\n",
       "dislikes                      0\n",
       "comment_count                 0\n",
       "thumbnail_link                0\n",
       "comments_disabled             0\n",
       "ratings_disabled              0\n",
       "video_error_or_removed        0\n",
       "description               19478\n",
       "Country                       0\n",
       "dtype: int64"
      ]
     },
     "execution_count": 9,
     "metadata": {},
     "output_type": "execute_result"
    }
   ],
   "source": [
    "# check whether there are any columns that have null/missing values.\n",
    "final_df.isna().sum()"
   ]
  },
  {
   "cell_type": "code",
   "execution_count": 10,
   "metadata": {},
   "outputs": [
    {
     "data": {
      "text/plain": [
       "0"
      ]
     },
     "execution_count": 10,
     "metadata": {},
     "output_type": "execute_result"
    }
   ],
   "source": [
    "final_df.duplicated().sum()"
   ]
  },
  {
   "cell_type": "code",
   "execution_count": 11,
   "metadata": {},
   "outputs": [],
   "source": [
    "final_df.drop_duplicates(inplace=True)"
   ]
  },
  {
   "cell_type": "code",
   "execution_count": 12,
   "metadata": {},
   "outputs": [
    {
     "data": {
      "text/plain": [
       "191693"
      ]
     },
     "execution_count": 12,
     "metadata": {},
     "output_type": "execute_result"
    }
   ],
   "source": [
    "final_df.duplicated(subset='video_id').sum()"
   ]
  },
  {
   "cell_type": "code",
   "execution_count": 13,
   "metadata": {},
   "outputs": [
    {
     "data": {
      "text/html": [
       "<div>\n",
       "<style scoped>\n",
       "    .dataframe tbody tr th:only-of-type {\n",
       "        vertical-align: middle;\n",
       "    }\n",
       "\n",
       "    .dataframe tbody tr th {\n",
       "        vertical-align: top;\n",
       "    }\n",
       "\n",
       "    .dataframe thead th {\n",
       "        text-align: right;\n",
       "    }\n",
       "</style>\n",
       "<table border=\"1\" class=\"dataframe\">\n",
       "  <thead>\n",
       "    <tr style=\"text-align: right;\">\n",
       "      <th></th>\n",
       "      <th>Unnamed: 0</th>\n",
       "      <th>video_id</th>\n",
       "      <th>trending_date</th>\n",
       "      <th>title</th>\n",
       "      <th>channel_title</th>\n",
       "      <th>category_name</th>\n",
       "      <th>publish_time</th>\n",
       "      <th>tags</th>\n",
       "      <th>views</th>\n",
       "      <th>likes</th>\n",
       "      <th>dislikes</th>\n",
       "      <th>comment_count</th>\n",
       "      <th>thumbnail_link</th>\n",
       "      <th>comments_disabled</th>\n",
       "      <th>ratings_disabled</th>\n",
       "      <th>video_error_or_removed</th>\n",
       "      <th>description</th>\n",
       "      <th>Country</th>\n",
       "    </tr>\n",
       "  </thead>\n",
       "  <tbody>\n",
       "    <tr>\n",
       "      <td>34120</td>\n",
       "      <td>34120</td>\n",
       "      <td>uxbQATBAXf8</td>\n",
       "      <td>18.12.05</td>\n",
       "      <td>Deadpool 2 | With Apologies to David Beckham</td>\n",
       "      <td>20th Century Fox</td>\n",
       "      <td>Autos &amp; Vehicles</td>\n",
       "      <td>2018-05-10T14:24:29.000Z</td>\n",
       "      <td>Trailer|\"Deadpool\"|\"20th Century Fox (Producti...</td>\n",
       "      <td>9399654</td>\n",
       "      <td>268149</td>\n",
       "      <td>2400</td>\n",
       "      <td>6739</td>\n",
       "      <td>https://i.ytimg.com/vi/uxbQATBAXf8/default.jpg</td>\n",
       "      <td>False</td>\n",
       "      <td>False</td>\n",
       "      <td>False</td>\n",
       "      <td>Get your Deadpool 2 tickets at http://www.Dead...</td>\n",
       "      <td>CA</td>\n",
       "    </tr>\n",
       "    <tr>\n",
       "      <td>34327</td>\n",
       "      <td>34327</td>\n",
       "      <td>uxbQATBAXf8</td>\n",
       "      <td>18.13.05</td>\n",
       "      <td>Deadpool 2 | With Apologies to David Beckham</td>\n",
       "      <td>20th Century Fox</td>\n",
       "      <td>Autos &amp; Vehicles</td>\n",
       "      <td>2018-05-10T14:24:29.000Z</td>\n",
       "      <td>Trailer|\"Deadpool\"|\"20th Century Fox (Producti...</td>\n",
       "      <td>13293647</td>\n",
       "      <td>334533</td>\n",
       "      <td>3302</td>\n",
       "      <td>8333</td>\n",
       "      <td>https://i.ytimg.com/vi/uxbQATBAXf8/default.jpg</td>\n",
       "      <td>False</td>\n",
       "      <td>False</td>\n",
       "      <td>False</td>\n",
       "      <td>Get your Deadpool 2 tickets at http://www.Dead...</td>\n",
       "      <td>CA</td>\n",
       "    </tr>\n",
       "    <tr>\n",
       "      <td>34821</td>\n",
       "      <td>34821</td>\n",
       "      <td>uxbQATBAXf8</td>\n",
       "      <td>18.15.05</td>\n",
       "      <td>Deadpool 2 | With Apologies to David Beckham</td>\n",
       "      <td>20th Century Fox</td>\n",
       "      <td>Autos &amp; Vehicles</td>\n",
       "      <td>2018-05-10T14:24:29.000Z</td>\n",
       "      <td>Trailer|\"Deadpool\"|\"20th Century Fox (Producti...</td>\n",
       "      <td>15960127</td>\n",
       "      <td>374827</td>\n",
       "      <td>3823</td>\n",
       "      <td>9059</td>\n",
       "      <td>https://i.ytimg.com/vi/uxbQATBAXf8/default.jpg</td>\n",
       "      <td>False</td>\n",
       "      <td>False</td>\n",
       "      <td>False</td>\n",
       "      <td>Get your Deadpool 2 tickets at http://www.Dead...</td>\n",
       "      <td>CA</td>\n",
       "    </tr>\n",
       "    <tr>\n",
       "      <td>33980</td>\n",
       "      <td>33980</td>\n",
       "      <td>uxbQATBAXf8</td>\n",
       "      <td>18.11.05</td>\n",
       "      <td>Deadpool 2 | With Apologies to David Beckham</td>\n",
       "      <td>20th Century Fox</td>\n",
       "      <td>Autos &amp; Vehicles</td>\n",
       "      <td>2018-05-10T14:24:29.000Z</td>\n",
       "      <td>Trailer|\"Deadpool\"|\"20th Century Fox (Producti...</td>\n",
       "      <td>4369014</td>\n",
       "      <td>147238</td>\n",
       "      <td>997</td>\n",
       "      <td>3929</td>\n",
       "      <td>https://i.ytimg.com/vi/uxbQATBAXf8/default.jpg</td>\n",
       "      <td>False</td>\n",
       "      <td>False</td>\n",
       "      <td>False</td>\n",
       "      <td>Get your Deadpool 2 tickets at http://www.Dead...</td>\n",
       "      <td>DE</td>\n",
       "    </tr>\n",
       "    <tr>\n",
       "      <td>34145</td>\n",
       "      <td>34145</td>\n",
       "      <td>uxbQATBAXf8</td>\n",
       "      <td>18.12.05</td>\n",
       "      <td>Deadpool 2 | With Apologies to David Beckham</td>\n",
       "      <td>20th Century Fox</td>\n",
       "      <td>Autos &amp; Vehicles</td>\n",
       "      <td>2018-05-10T14:24:29.000Z</td>\n",
       "      <td>Trailer|\"Deadpool\"|\"20th Century Fox (Producti...</td>\n",
       "      <td>9399654</td>\n",
       "      <td>268149</td>\n",
       "      <td>2400</td>\n",
       "      <td>6739</td>\n",
       "      <td>https://i.ytimg.com/vi/uxbQATBAXf8/default.jpg</td>\n",
       "      <td>False</td>\n",
       "      <td>False</td>\n",
       "      <td>False</td>\n",
       "      <td>Get your Deadpool 2 tickets at http://www.Dead...</td>\n",
       "      <td>DE</td>\n",
       "    </tr>\n",
       "    <tr>\n",
       "      <td>34404</td>\n",
       "      <td>34404</td>\n",
       "      <td>uxbQATBAXf8</td>\n",
       "      <td>18.13.05</td>\n",
       "      <td>Deadpool 2 | With Apologies to David Beckham</td>\n",
       "      <td>20th Century Fox</td>\n",
       "      <td>Autos &amp; Vehicles</td>\n",
       "      <td>2018-05-10T14:24:29.000Z</td>\n",
       "      <td>Trailer|\"Deadpool\"|\"20th Century Fox (Producti...</td>\n",
       "      <td>13293647</td>\n",
       "      <td>334533</td>\n",
       "      <td>3302</td>\n",
       "      <td>8333</td>\n",
       "      <td>https://i.ytimg.com/vi/uxbQATBAXf8/default.jpg</td>\n",
       "      <td>False</td>\n",
       "      <td>False</td>\n",
       "      <td>False</td>\n",
       "      <td>Get your Deadpool 2 tickets at http://www.Dead...</td>\n",
       "      <td>DE</td>\n",
       "    </tr>\n",
       "    <tr>\n",
       "      <td>33993</td>\n",
       "      <td>33993</td>\n",
       "      <td>uxbQATBAXf8</td>\n",
       "      <td>18.11.05</td>\n",
       "      <td>Deadpool 2 | With Apologies to David Beckham</td>\n",
       "      <td>20th Century Fox</td>\n",
       "      <td>Autos &amp; Vehicles</td>\n",
       "      <td>2018-05-10T14:24:29.000Z</td>\n",
       "      <td>Trailer|\"Deadpool\"|\"20th Century Fox (Producti...</td>\n",
       "      <td>4369014</td>\n",
       "      <td>147238</td>\n",
       "      <td>997</td>\n",
       "      <td>3929</td>\n",
       "      <td>https://i.ytimg.com/vi/uxbQATBAXf8/default.jpg</td>\n",
       "      <td>False</td>\n",
       "      <td>False</td>\n",
       "      <td>False</td>\n",
       "      <td>Get your Deadpool 2 tickets at http://www.Dead...</td>\n",
       "      <td>FR</td>\n",
       "    </tr>\n",
       "    <tr>\n",
       "      <td>34203</td>\n",
       "      <td>34203</td>\n",
       "      <td>uxbQATBAXf8</td>\n",
       "      <td>18.12.05</td>\n",
       "      <td>Deadpool 2 | With Apologies to David Beckham</td>\n",
       "      <td>20th Century Fox</td>\n",
       "      <td>Autos &amp; Vehicles</td>\n",
       "      <td>2018-05-10T14:24:29.000Z</td>\n",
       "      <td>Trailer|\"Deadpool\"|\"20th Century Fox (Producti...</td>\n",
       "      <td>9399654</td>\n",
       "      <td>268149</td>\n",
       "      <td>2400</td>\n",
       "      <td>6739</td>\n",
       "      <td>https://i.ytimg.com/vi/uxbQATBAXf8/default.jpg</td>\n",
       "      <td>False</td>\n",
       "      <td>False</td>\n",
       "      <td>False</td>\n",
       "      <td>Get your Deadpool 2 tickets at http://www.Dead...</td>\n",
       "      <td>FR</td>\n",
       "    </tr>\n",
       "    <tr>\n",
       "      <td>33137</td>\n",
       "      <td>33137</td>\n",
       "      <td>uxbQATBAXf8</td>\n",
       "      <td>18.11.05</td>\n",
       "      <td>Deadpool 2 | With Apologies to David Beckham</td>\n",
       "      <td>20th Century Fox</td>\n",
       "      <td>Autos &amp; Vehicles</td>\n",
       "      <td>2018-05-10T14:24:29.000Z</td>\n",
       "      <td>Trailer|\"Deadpool\"|\"20th Century Fox (Producti...</td>\n",
       "      <td>4369014</td>\n",
       "      <td>147238</td>\n",
       "      <td>997</td>\n",
       "      <td>3929</td>\n",
       "      <td>https://i.ytimg.com/vi/uxbQATBAXf8/default.jpg</td>\n",
       "      <td>False</td>\n",
       "      <td>False</td>\n",
       "      <td>False</td>\n",
       "      <td>Get your Deadpool 2 tickets at http://www.Dead...</td>\n",
       "      <td>GB</td>\n",
       "    </tr>\n",
       "    <tr>\n",
       "      <td>33297</td>\n",
       "      <td>33297</td>\n",
       "      <td>uxbQATBAXf8</td>\n",
       "      <td>18.12.05</td>\n",
       "      <td>Deadpool 2 | With Apologies to David Beckham</td>\n",
       "      <td>20th Century Fox</td>\n",
       "      <td>Autos &amp; Vehicles</td>\n",
       "      <td>2018-05-10T14:24:29.000Z</td>\n",
       "      <td>Trailer|\"Deadpool\"|\"20th Century Fox (Producti...</td>\n",
       "      <td>9399654</td>\n",
       "      <td>268143</td>\n",
       "      <td>2399</td>\n",
       "      <td>6739</td>\n",
       "      <td>https://i.ytimg.com/vi/uxbQATBAXf8/default.jpg</td>\n",
       "      <td>False</td>\n",
       "      <td>False</td>\n",
       "      <td>False</td>\n",
       "      <td>Get your Deadpool 2 tickets at http://www.Dead...</td>\n",
       "      <td>GB</td>\n",
       "    </tr>\n",
       "    <tr>\n",
       "      <td>33468</td>\n",
       "      <td>33468</td>\n",
       "      <td>uxbQATBAXf8</td>\n",
       "      <td>18.13.05</td>\n",
       "      <td>Deadpool 2 | With Apologies to David Beckham</td>\n",
       "      <td>20th Century Fox</td>\n",
       "      <td>Autos &amp; Vehicles</td>\n",
       "      <td>2018-05-10T14:24:29.000Z</td>\n",
       "      <td>Trailer|\"Deadpool\"|\"20th Century Fox (Producti...</td>\n",
       "      <td>13293647</td>\n",
       "      <td>334533</td>\n",
       "      <td>3302</td>\n",
       "      <td>8333</td>\n",
       "      <td>https://i.ytimg.com/vi/uxbQATBAXf8/default.jpg</td>\n",
       "      <td>False</td>\n",
       "      <td>False</td>\n",
       "      <td>False</td>\n",
       "      <td>Get your Deadpool 2 tickets at http://www.Dead...</td>\n",
       "      <td>GB</td>\n",
       "    </tr>\n",
       "    <tr>\n",
       "      <td>33808</td>\n",
       "      <td>33808</td>\n",
       "      <td>uxbQATBAXf8</td>\n",
       "      <td>18.15.05</td>\n",
       "      <td>Deadpool 2 | With Apologies to David Beckham</td>\n",
       "      <td>20th Century Fox</td>\n",
       "      <td>Autos &amp; Vehicles</td>\n",
       "      <td>2018-05-10T14:24:29.000Z</td>\n",
       "      <td>Trailer|\"Deadpool\"|\"20th Century Fox (Producti...</td>\n",
       "      <td>15960127</td>\n",
       "      <td>374825</td>\n",
       "      <td>3823</td>\n",
       "      <td>9059</td>\n",
       "      <td>https://i.ytimg.com/vi/uxbQATBAXf8/default.jpg</td>\n",
       "      <td>False</td>\n",
       "      <td>False</td>\n",
       "      <td>False</td>\n",
       "      <td>Get your Deadpool 2 tickets at http://www.Dead...</td>\n",
       "      <td>GB</td>\n",
       "    </tr>\n",
       "    <tr>\n",
       "      <td>33882</td>\n",
       "      <td>33882</td>\n",
       "      <td>uxbQATBAXf8</td>\n",
       "      <td>18.15.05</td>\n",
       "      <td>Deadpool 2 | With Apologies to David Beckham</td>\n",
       "      <td>20th Century Fox</td>\n",
       "      <td>Autos &amp; Vehicles</td>\n",
       "      <td>2018-05-10T14:24:29.000Z</td>\n",
       "      <td>Trailer|\"Deadpool\"|\"20th Century Fox (Producti...</td>\n",
       "      <td>15960127</td>\n",
       "      <td>374825</td>\n",
       "      <td>3823</td>\n",
       "      <td>9059</td>\n",
       "      <td>https://i.ytimg.com/vi/uxbQATBAXf8/default.jpg</td>\n",
       "      <td>False</td>\n",
       "      <td>False</td>\n",
       "      <td>False</td>\n",
       "      <td>Get your Deadpool 2 tickets at http://www.Dead...</td>\n",
       "      <td>GB</td>\n",
       "    </tr>\n",
       "    <tr>\n",
       "      <td>31089</td>\n",
       "      <td>31089</td>\n",
       "      <td>uxbQATBAXf8</td>\n",
       "      <td>18.11.05</td>\n",
       "      <td>Deadpool 2 | With Apologies to David Beckham</td>\n",
       "      <td>20th Century Fox</td>\n",
       "      <td>Autos &amp; Vehicles</td>\n",
       "      <td>2018-05-10T14:24:29.000Z</td>\n",
       "      <td>Trailer|\"Deadpool\"|\"20th Century Fox (Producti...</td>\n",
       "      <td>4369014</td>\n",
       "      <td>147238</td>\n",
       "      <td>997</td>\n",
       "      <td>3929</td>\n",
       "      <td>https://i.ytimg.com/vi/uxbQATBAXf8/default.jpg</td>\n",
       "      <td>False</td>\n",
       "      <td>False</td>\n",
       "      <td>False</td>\n",
       "      <td>Get your Deadpool 2 tickets at http://www.Dead...</td>\n",
       "      <td>IN</td>\n",
       "    </tr>\n",
       "    <tr>\n",
       "      <td>31223</td>\n",
       "      <td>31223</td>\n",
       "      <td>uxbQATBAXf8</td>\n",
       "      <td>18.11.05</td>\n",
       "      <td>Deadpool 2 | With Apologies to David Beckham</td>\n",
       "      <td>20th Century Fox</td>\n",
       "      <td>Autos &amp; Vehicles</td>\n",
       "      <td>2018-05-10T14:24:29.000Z</td>\n",
       "      <td>Trailer|\"Deadpool\"|\"20th Century Fox (Producti...</td>\n",
       "      <td>4369014</td>\n",
       "      <td>147238</td>\n",
       "      <td>997</td>\n",
       "      <td>3929</td>\n",
       "      <td>https://i.ytimg.com/vi/uxbQATBAXf8/default.jpg</td>\n",
       "      <td>False</td>\n",
       "      <td>False</td>\n",
       "      <td>False</td>\n",
       "      <td>Get your Deadpool 2 tickets at http://www.Dead...</td>\n",
       "      <td>IN</td>\n",
       "    </tr>\n",
       "    <tr>\n",
       "      <td>31243</td>\n",
       "      <td>31243</td>\n",
       "      <td>uxbQATBAXf8</td>\n",
       "      <td>18.12.05</td>\n",
       "      <td>Deadpool 2 | With Apologies to David Beckham</td>\n",
       "      <td>20th Century Fox</td>\n",
       "      <td>Autos &amp; Vehicles</td>\n",
       "      <td>2018-05-10T14:24:29.000Z</td>\n",
       "      <td>Trailer|\"Deadpool\"|\"20th Century Fox (Producti...</td>\n",
       "      <td>9399654</td>\n",
       "      <td>268149</td>\n",
       "      <td>2400</td>\n",
       "      <td>6739</td>\n",
       "      <td>https://i.ytimg.com/vi/uxbQATBAXf8/default.jpg</td>\n",
       "      <td>False</td>\n",
       "      <td>False</td>\n",
       "      <td>False</td>\n",
       "      <td>Get your Deadpool 2 tickets at http://www.Dead...</td>\n",
       "      <td>IN</td>\n",
       "    </tr>\n",
       "    <tr>\n",
       "      <td>31384</td>\n",
       "      <td>31384</td>\n",
       "      <td>uxbQATBAXf8</td>\n",
       "      <td>18.12.05</td>\n",
       "      <td>Deadpool 2 | With Apologies to David Beckham</td>\n",
       "      <td>20th Century Fox</td>\n",
       "      <td>Autos &amp; Vehicles</td>\n",
       "      <td>2018-05-10T14:24:29.000Z</td>\n",
       "      <td>Trailer|\"Deadpool\"|\"20th Century Fox (Producti...</td>\n",
       "      <td>9399654</td>\n",
       "      <td>268149</td>\n",
       "      <td>2400</td>\n",
       "      <td>6739</td>\n",
       "      <td>https://i.ytimg.com/vi/uxbQATBAXf8/default.jpg</td>\n",
       "      <td>False</td>\n",
       "      <td>False</td>\n",
       "      <td>False</td>\n",
       "      <td>Get your Deadpool 2 tickets at http://www.Dead...</td>\n",
       "      <td>IN</td>\n",
       "    </tr>\n",
       "    <tr>\n",
       "      <td>31448</td>\n",
       "      <td>31448</td>\n",
       "      <td>uxbQATBAXf8</td>\n",
       "      <td>18.13.05</td>\n",
       "      <td>Deadpool 2 | With Apologies to David Beckham</td>\n",
       "      <td>20th Century Fox</td>\n",
       "      <td>Autos &amp; Vehicles</td>\n",
       "      <td>2018-05-10T14:24:29.000Z</td>\n",
       "      <td>Trailer|\"Deadpool\"|\"20th Century Fox (Producti...</td>\n",
       "      <td>13293647</td>\n",
       "      <td>334533</td>\n",
       "      <td>3302</td>\n",
       "      <td>8333</td>\n",
       "      <td>https://i.ytimg.com/vi/uxbQATBAXf8/default.jpg</td>\n",
       "      <td>False</td>\n",
       "      <td>False</td>\n",
       "      <td>False</td>\n",
       "      <td>Get your Deadpool 2 tickets at http://www.Dead...</td>\n",
       "      <td>IN</td>\n",
       "    </tr>\n",
       "    <tr>\n",
       "      <td>31582</td>\n",
       "      <td>31582</td>\n",
       "      <td>uxbQATBAXf8</td>\n",
       "      <td>18.13.05</td>\n",
       "      <td>Deadpool 2 | With Apologies to David Beckham</td>\n",
       "      <td>20th Century Fox</td>\n",
       "      <td>Autos &amp; Vehicles</td>\n",
       "      <td>2018-05-10T14:24:29.000Z</td>\n",
       "      <td>Trailer|\"Deadpool\"|\"20th Century Fox (Producti...</td>\n",
       "      <td>13293647</td>\n",
       "      <td>334533</td>\n",
       "      <td>3302</td>\n",
       "      <td>8333</td>\n",
       "      <td>https://i.ytimg.com/vi/uxbQATBAXf8/default.jpg</td>\n",
       "      <td>False</td>\n",
       "      <td>False</td>\n",
       "      <td>False</td>\n",
       "      <td>Get your Deadpool 2 tickets at http://www.Dead...</td>\n",
       "      <td>IN</td>\n",
       "    </tr>\n",
       "    <tr>\n",
       "      <td>31881</td>\n",
       "      <td>31881</td>\n",
       "      <td>uxbQATBAXf8</td>\n",
       "      <td>18.15.05</td>\n",
       "      <td>Deadpool 2 | With Apologies to David Beckham</td>\n",
       "      <td>20th Century Fox</td>\n",
       "      <td>Autos &amp; Vehicles</td>\n",
       "      <td>2018-05-10T14:24:29.000Z</td>\n",
       "      <td>Trailer|\"Deadpool\"|\"20th Century Fox (Producti...</td>\n",
       "      <td>15960127</td>\n",
       "      <td>374827</td>\n",
       "      <td>3823</td>\n",
       "      <td>9059</td>\n",
       "      <td>https://i.ytimg.com/vi/uxbQATBAXf8/default.jpg</td>\n",
       "      <td>False</td>\n",
       "      <td>False</td>\n",
       "      <td>False</td>\n",
       "      <td>Get your Deadpool 2 tickets at http://www.Dead...</td>\n",
       "      <td>IN</td>\n",
       "    </tr>\n",
       "    <tr>\n",
       "      <td>31974</td>\n",
       "      <td>31974</td>\n",
       "      <td>uxbQATBAXf8</td>\n",
       "      <td>18.15.05</td>\n",
       "      <td>Deadpool 2 | With Apologies to David Beckham</td>\n",
       "      <td>20th Century Fox</td>\n",
       "      <td>Autos &amp; Vehicles</td>\n",
       "      <td>2018-05-10T14:24:29.000Z</td>\n",
       "      <td>Trailer|\"Deadpool\"|\"20th Century Fox (Producti...</td>\n",
       "      <td>15960127</td>\n",
       "      <td>374827</td>\n",
       "      <td>3823</td>\n",
       "      <td>9059</td>\n",
       "      <td>https://i.ytimg.com/vi/uxbQATBAXf8/default.jpg</td>\n",
       "      <td>False</td>\n",
       "      <td>False</td>\n",
       "      <td>False</td>\n",
       "      <td>Get your Deadpool 2 tickets at http://www.Dead...</td>\n",
       "      <td>IN</td>\n",
       "    </tr>\n",
       "    <tr>\n",
       "      <td>33918</td>\n",
       "      <td>33918</td>\n",
       "      <td>uxbQATBAXf8</td>\n",
       "      <td>18.11.05</td>\n",
       "      <td>Deadpool 2 | With Apologies to David Beckham</td>\n",
       "      <td>20th Century Fox</td>\n",
       "      <td>Autos &amp; Vehicles</td>\n",
       "      <td>2018-05-10T14:24:29.000Z</td>\n",
       "      <td>Trailer|\"Deadpool\"|\"20th Century Fox (Producti...</td>\n",
       "      <td>4369014</td>\n",
       "      <td>147248</td>\n",
       "      <td>997</td>\n",
       "      <td>3929</td>\n",
       "      <td>https://i.ytimg.com/vi/uxbQATBAXf8/default.jpg</td>\n",
       "      <td>False</td>\n",
       "      <td>False</td>\n",
       "      <td>False</td>\n",
       "      <td>Get your Deadpool 2 tickets at http://www.Dead...</td>\n",
       "      <td>MX</td>\n",
       "    </tr>\n",
       "    <tr>\n",
       "      <td>34145</td>\n",
       "      <td>34145</td>\n",
       "      <td>uxbQATBAXf8</td>\n",
       "      <td>18.12.05</td>\n",
       "      <td>Deadpool 2 | With Apologies to David Beckham</td>\n",
       "      <td>20th Century Fox</td>\n",
       "      <td>Autos &amp; Vehicles</td>\n",
       "      <td>2018-05-10T14:24:29.000Z</td>\n",
       "      <td>Trailer|\"Deadpool\"|\"20th Century Fox (Producti...</td>\n",
       "      <td>9399654</td>\n",
       "      <td>268153</td>\n",
       "      <td>2401</td>\n",
       "      <td>6739</td>\n",
       "      <td>https://i.ytimg.com/vi/uxbQATBAXf8/default.jpg</td>\n",
       "      <td>False</td>\n",
       "      <td>False</td>\n",
       "      <td>False</td>\n",
       "      <td>Get your Deadpool 2 tickets at http://www.Dead...</td>\n",
       "      <td>MX</td>\n",
       "    </tr>\n",
       "    <tr>\n",
       "      <td>33977</td>\n",
       "      <td>33977</td>\n",
       "      <td>uxbQATBAXf8</td>\n",
       "      <td>18.11.05</td>\n",
       "      <td>Deadpool 2 | With Apologies to David Beckham</td>\n",
       "      <td>20th Century Fox</td>\n",
       "      <td>Autos &amp; Vehicles</td>\n",
       "      <td>2018-05-10T14:24:29.000Z</td>\n",
       "      <td>Trailer|\"Deadpool\"|\"20th Century Fox (Producti...</td>\n",
       "      <td>4369014</td>\n",
       "      <td>147247</td>\n",
       "      <td>997</td>\n",
       "      <td>3929</td>\n",
       "      <td>https://i.ytimg.com/vi/uxbQATBAXf8/default.jpg</td>\n",
       "      <td>False</td>\n",
       "      <td>False</td>\n",
       "      <td>False</td>\n",
       "      <td>Get your Deadpool 2 tickets at http://www.Dead...</td>\n",
       "      <td>RU</td>\n",
       "    </tr>\n",
       "    <tr>\n",
       "      <td>34152</td>\n",
       "      <td>34152</td>\n",
       "      <td>uxbQATBAXf8</td>\n",
       "      <td>18.12.05</td>\n",
       "      <td>Deadpool 2 | With Apologies to David Beckham</td>\n",
       "      <td>20th Century Fox</td>\n",
       "      <td>Autos &amp; Vehicles</td>\n",
       "      <td>2018-05-10T14:24:29.000Z</td>\n",
       "      <td>Trailer|\"Deadpool\"|\"20th Century Fox (Producti...</td>\n",
       "      <td>9399654</td>\n",
       "      <td>268143</td>\n",
       "      <td>2399</td>\n",
       "      <td>6739</td>\n",
       "      <td>https://i.ytimg.com/vi/uxbQATBAXf8/default.jpg</td>\n",
       "      <td>False</td>\n",
       "      <td>False</td>\n",
       "      <td>False</td>\n",
       "      <td>Get your Deadpool 2 tickets at http://www.Dead...</td>\n",
       "      <td>US</td>\n",
       "    </tr>\n",
       "    <tr>\n",
       "      <td>34362</td>\n",
       "      <td>34362</td>\n",
       "      <td>uxbQATBAXf8</td>\n",
       "      <td>18.13.05</td>\n",
       "      <td>Deadpool 2 | With Apologies to David Beckham</td>\n",
       "      <td>20th Century Fox</td>\n",
       "      <td>Autos &amp; Vehicles</td>\n",
       "      <td>2018-05-10T14:24:29.000Z</td>\n",
       "      <td>Trailer|\"Deadpool\"|\"20th Century Fox (Producti...</td>\n",
       "      <td>13293647</td>\n",
       "      <td>334533</td>\n",
       "      <td>3302</td>\n",
       "      <td>8333</td>\n",
       "      <td>https://i.ytimg.com/vi/uxbQATBAXf8/default.jpg</td>\n",
       "      <td>False</td>\n",
       "      <td>False</td>\n",
       "      <td>False</td>\n",
       "      <td>Get your Deadpool 2 tickets at http://www.Dead...</td>\n",
       "      <td>US</td>\n",
       "    </tr>\n",
       "    <tr>\n",
       "      <td>34792</td>\n",
       "      <td>34792</td>\n",
       "      <td>uxbQATBAXf8</td>\n",
       "      <td>18.15.05</td>\n",
       "      <td>Deadpool 2 | With Apologies to David Beckham</td>\n",
       "      <td>20th Century Fox</td>\n",
       "      <td>Autos &amp; Vehicles</td>\n",
       "      <td>2018-05-10T14:24:29.000Z</td>\n",
       "      <td>Trailer|\"Deadpool\"|\"20th Century Fox (Producti...</td>\n",
       "      <td>15960127</td>\n",
       "      <td>374825</td>\n",
       "      <td>3823</td>\n",
       "      <td>9059</td>\n",
       "      <td>https://i.ytimg.com/vi/uxbQATBAXf8/default.jpg</td>\n",
       "      <td>False</td>\n",
       "      <td>False</td>\n",
       "      <td>False</td>\n",
       "      <td>Get your Deadpool 2 tickets at http://www.Dead...</td>\n",
       "      <td>US</td>\n",
       "    </tr>\n",
       "    <tr>\n",
       "      <td>34941</td>\n",
       "      <td>34941</td>\n",
       "      <td>uxbQATBAXf8</td>\n",
       "      <td>18.15.05</td>\n",
       "      <td>Deadpool 2 | With Apologies to David Beckham</td>\n",
       "      <td>20th Century Fox</td>\n",
       "      <td>Autos &amp; Vehicles</td>\n",
       "      <td>2018-05-10T14:24:29.000Z</td>\n",
       "      <td>Trailer|\"Deadpool\"|\"20th Century Fox (Producti...</td>\n",
       "      <td>15960127</td>\n",
       "      <td>374825</td>\n",
       "      <td>3823</td>\n",
       "      <td>9059</td>\n",
       "      <td>https://i.ytimg.com/vi/uxbQATBAXf8/default.jpg</td>\n",
       "      <td>False</td>\n",
       "      <td>False</td>\n",
       "      <td>False</td>\n",
       "      <td>Get your Deadpool 2 tickets at http://www.Dead...</td>\n",
       "      <td>US</td>\n",
       "    </tr>\n",
       "  </tbody>\n",
       "</table>\n",
       "</div>"
      ],
      "text/plain": [
       "       Unnamed: 0     video_id trending_date  \\\n",
       "34120       34120  uxbQATBAXf8      18.12.05   \n",
       "34327       34327  uxbQATBAXf8      18.13.05   \n",
       "34821       34821  uxbQATBAXf8      18.15.05   \n",
       "33980       33980  uxbQATBAXf8      18.11.05   \n",
       "34145       34145  uxbQATBAXf8      18.12.05   \n",
       "34404       34404  uxbQATBAXf8      18.13.05   \n",
       "33993       33993  uxbQATBAXf8      18.11.05   \n",
       "34203       34203  uxbQATBAXf8      18.12.05   \n",
       "33137       33137  uxbQATBAXf8      18.11.05   \n",
       "33297       33297  uxbQATBAXf8      18.12.05   \n",
       "33468       33468  uxbQATBAXf8      18.13.05   \n",
       "33808       33808  uxbQATBAXf8      18.15.05   \n",
       "33882       33882  uxbQATBAXf8      18.15.05   \n",
       "31089       31089  uxbQATBAXf8      18.11.05   \n",
       "31223       31223  uxbQATBAXf8      18.11.05   \n",
       "31243       31243  uxbQATBAXf8      18.12.05   \n",
       "31384       31384  uxbQATBAXf8      18.12.05   \n",
       "31448       31448  uxbQATBAXf8      18.13.05   \n",
       "31582       31582  uxbQATBAXf8      18.13.05   \n",
       "31881       31881  uxbQATBAXf8      18.15.05   \n",
       "31974       31974  uxbQATBAXf8      18.15.05   \n",
       "33918       33918  uxbQATBAXf8      18.11.05   \n",
       "34145       34145  uxbQATBAXf8      18.12.05   \n",
       "33977       33977  uxbQATBAXf8      18.11.05   \n",
       "34152       34152  uxbQATBAXf8      18.12.05   \n",
       "34362       34362  uxbQATBAXf8      18.13.05   \n",
       "34792       34792  uxbQATBAXf8      18.15.05   \n",
       "34941       34941  uxbQATBAXf8      18.15.05   \n",
       "\n",
       "                                              title     channel_title  \\\n",
       "34120  Deadpool 2 | With Apologies to David Beckham  20th Century Fox   \n",
       "34327  Deadpool 2 | With Apologies to David Beckham  20th Century Fox   \n",
       "34821  Deadpool 2 | With Apologies to David Beckham  20th Century Fox   \n",
       "33980  Deadpool 2 | With Apologies to David Beckham  20th Century Fox   \n",
       "34145  Deadpool 2 | With Apologies to David Beckham  20th Century Fox   \n",
       "34404  Deadpool 2 | With Apologies to David Beckham  20th Century Fox   \n",
       "33993  Deadpool 2 | With Apologies to David Beckham  20th Century Fox   \n",
       "34203  Deadpool 2 | With Apologies to David Beckham  20th Century Fox   \n",
       "33137  Deadpool 2 | With Apologies to David Beckham  20th Century Fox   \n",
       "33297  Deadpool 2 | With Apologies to David Beckham  20th Century Fox   \n",
       "33468  Deadpool 2 | With Apologies to David Beckham  20th Century Fox   \n",
       "33808  Deadpool 2 | With Apologies to David Beckham  20th Century Fox   \n",
       "33882  Deadpool 2 | With Apologies to David Beckham  20th Century Fox   \n",
       "31089  Deadpool 2 | With Apologies to David Beckham  20th Century Fox   \n",
       "31223  Deadpool 2 | With Apologies to David Beckham  20th Century Fox   \n",
       "31243  Deadpool 2 | With Apologies to David Beckham  20th Century Fox   \n",
       "31384  Deadpool 2 | With Apologies to David Beckham  20th Century Fox   \n",
       "31448  Deadpool 2 | With Apologies to David Beckham  20th Century Fox   \n",
       "31582  Deadpool 2 | With Apologies to David Beckham  20th Century Fox   \n",
       "31881  Deadpool 2 | With Apologies to David Beckham  20th Century Fox   \n",
       "31974  Deadpool 2 | With Apologies to David Beckham  20th Century Fox   \n",
       "33918  Deadpool 2 | With Apologies to David Beckham  20th Century Fox   \n",
       "34145  Deadpool 2 | With Apologies to David Beckham  20th Century Fox   \n",
       "33977  Deadpool 2 | With Apologies to David Beckham  20th Century Fox   \n",
       "34152  Deadpool 2 | With Apologies to David Beckham  20th Century Fox   \n",
       "34362  Deadpool 2 | With Apologies to David Beckham  20th Century Fox   \n",
       "34792  Deadpool 2 | With Apologies to David Beckham  20th Century Fox   \n",
       "34941  Deadpool 2 | With Apologies to David Beckham  20th Century Fox   \n",
       "\n",
       "          category_name              publish_time  \\\n",
       "34120  Autos & Vehicles  2018-05-10T14:24:29.000Z   \n",
       "34327  Autos & Vehicles  2018-05-10T14:24:29.000Z   \n",
       "34821  Autos & Vehicles  2018-05-10T14:24:29.000Z   \n",
       "33980  Autos & Vehicles  2018-05-10T14:24:29.000Z   \n",
       "34145  Autos & Vehicles  2018-05-10T14:24:29.000Z   \n",
       "34404  Autos & Vehicles  2018-05-10T14:24:29.000Z   \n",
       "33993  Autos & Vehicles  2018-05-10T14:24:29.000Z   \n",
       "34203  Autos & Vehicles  2018-05-10T14:24:29.000Z   \n",
       "33137  Autos & Vehicles  2018-05-10T14:24:29.000Z   \n",
       "33297  Autos & Vehicles  2018-05-10T14:24:29.000Z   \n",
       "33468  Autos & Vehicles  2018-05-10T14:24:29.000Z   \n",
       "33808  Autos & Vehicles  2018-05-10T14:24:29.000Z   \n",
       "33882  Autos & Vehicles  2018-05-10T14:24:29.000Z   \n",
       "31089  Autos & Vehicles  2018-05-10T14:24:29.000Z   \n",
       "31223  Autos & Vehicles  2018-05-10T14:24:29.000Z   \n",
       "31243  Autos & Vehicles  2018-05-10T14:24:29.000Z   \n",
       "31384  Autos & Vehicles  2018-05-10T14:24:29.000Z   \n",
       "31448  Autos & Vehicles  2018-05-10T14:24:29.000Z   \n",
       "31582  Autos & Vehicles  2018-05-10T14:24:29.000Z   \n",
       "31881  Autos & Vehicles  2018-05-10T14:24:29.000Z   \n",
       "31974  Autos & Vehicles  2018-05-10T14:24:29.000Z   \n",
       "33918  Autos & Vehicles  2018-05-10T14:24:29.000Z   \n",
       "34145  Autos & Vehicles  2018-05-10T14:24:29.000Z   \n",
       "33977  Autos & Vehicles  2018-05-10T14:24:29.000Z   \n",
       "34152  Autos & Vehicles  2018-05-10T14:24:29.000Z   \n",
       "34362  Autos & Vehicles  2018-05-10T14:24:29.000Z   \n",
       "34792  Autos & Vehicles  2018-05-10T14:24:29.000Z   \n",
       "34941  Autos & Vehicles  2018-05-10T14:24:29.000Z   \n",
       "\n",
       "                                                    tags     views   likes  \\\n",
       "34120  Trailer|\"Deadpool\"|\"20th Century Fox (Producti...   9399654  268149   \n",
       "34327  Trailer|\"Deadpool\"|\"20th Century Fox (Producti...  13293647  334533   \n",
       "34821  Trailer|\"Deadpool\"|\"20th Century Fox (Producti...  15960127  374827   \n",
       "33980  Trailer|\"Deadpool\"|\"20th Century Fox (Producti...   4369014  147238   \n",
       "34145  Trailer|\"Deadpool\"|\"20th Century Fox (Producti...   9399654  268149   \n",
       "34404  Trailer|\"Deadpool\"|\"20th Century Fox (Producti...  13293647  334533   \n",
       "33993  Trailer|\"Deadpool\"|\"20th Century Fox (Producti...   4369014  147238   \n",
       "34203  Trailer|\"Deadpool\"|\"20th Century Fox (Producti...   9399654  268149   \n",
       "33137  Trailer|\"Deadpool\"|\"20th Century Fox (Producti...   4369014  147238   \n",
       "33297  Trailer|\"Deadpool\"|\"20th Century Fox (Producti...   9399654  268143   \n",
       "33468  Trailer|\"Deadpool\"|\"20th Century Fox (Producti...  13293647  334533   \n",
       "33808  Trailer|\"Deadpool\"|\"20th Century Fox (Producti...  15960127  374825   \n",
       "33882  Trailer|\"Deadpool\"|\"20th Century Fox (Producti...  15960127  374825   \n",
       "31089  Trailer|\"Deadpool\"|\"20th Century Fox (Producti...   4369014  147238   \n",
       "31223  Trailer|\"Deadpool\"|\"20th Century Fox (Producti...   4369014  147238   \n",
       "31243  Trailer|\"Deadpool\"|\"20th Century Fox (Producti...   9399654  268149   \n",
       "31384  Trailer|\"Deadpool\"|\"20th Century Fox (Producti...   9399654  268149   \n",
       "31448  Trailer|\"Deadpool\"|\"20th Century Fox (Producti...  13293647  334533   \n",
       "31582  Trailer|\"Deadpool\"|\"20th Century Fox (Producti...  13293647  334533   \n",
       "31881  Trailer|\"Deadpool\"|\"20th Century Fox (Producti...  15960127  374827   \n",
       "31974  Trailer|\"Deadpool\"|\"20th Century Fox (Producti...  15960127  374827   \n",
       "33918  Trailer|\"Deadpool\"|\"20th Century Fox (Producti...   4369014  147248   \n",
       "34145  Trailer|\"Deadpool\"|\"20th Century Fox (Producti...   9399654  268153   \n",
       "33977  Trailer|\"Deadpool\"|\"20th Century Fox (Producti...   4369014  147247   \n",
       "34152  Trailer|\"Deadpool\"|\"20th Century Fox (Producti...   9399654  268143   \n",
       "34362  Trailer|\"Deadpool\"|\"20th Century Fox (Producti...  13293647  334533   \n",
       "34792  Trailer|\"Deadpool\"|\"20th Century Fox (Producti...  15960127  374825   \n",
       "34941  Trailer|\"Deadpool\"|\"20th Century Fox (Producti...  15960127  374825   \n",
       "\n",
       "       dislikes  comment_count  \\\n",
       "34120      2400           6739   \n",
       "34327      3302           8333   \n",
       "34821      3823           9059   \n",
       "33980       997           3929   \n",
       "34145      2400           6739   \n",
       "34404      3302           8333   \n",
       "33993       997           3929   \n",
       "34203      2400           6739   \n",
       "33137       997           3929   \n",
       "33297      2399           6739   \n",
       "33468      3302           8333   \n",
       "33808      3823           9059   \n",
       "33882      3823           9059   \n",
       "31089       997           3929   \n",
       "31223       997           3929   \n",
       "31243      2400           6739   \n",
       "31384      2400           6739   \n",
       "31448      3302           8333   \n",
       "31582      3302           8333   \n",
       "31881      3823           9059   \n",
       "31974      3823           9059   \n",
       "33918       997           3929   \n",
       "34145      2401           6739   \n",
       "33977       997           3929   \n",
       "34152      2399           6739   \n",
       "34362      3302           8333   \n",
       "34792      3823           9059   \n",
       "34941      3823           9059   \n",
       "\n",
       "                                       thumbnail_link  comments_disabled  \\\n",
       "34120  https://i.ytimg.com/vi/uxbQATBAXf8/default.jpg              False   \n",
       "34327  https://i.ytimg.com/vi/uxbQATBAXf8/default.jpg              False   \n",
       "34821  https://i.ytimg.com/vi/uxbQATBAXf8/default.jpg              False   \n",
       "33980  https://i.ytimg.com/vi/uxbQATBAXf8/default.jpg              False   \n",
       "34145  https://i.ytimg.com/vi/uxbQATBAXf8/default.jpg              False   \n",
       "34404  https://i.ytimg.com/vi/uxbQATBAXf8/default.jpg              False   \n",
       "33993  https://i.ytimg.com/vi/uxbQATBAXf8/default.jpg              False   \n",
       "34203  https://i.ytimg.com/vi/uxbQATBAXf8/default.jpg              False   \n",
       "33137  https://i.ytimg.com/vi/uxbQATBAXf8/default.jpg              False   \n",
       "33297  https://i.ytimg.com/vi/uxbQATBAXf8/default.jpg              False   \n",
       "33468  https://i.ytimg.com/vi/uxbQATBAXf8/default.jpg              False   \n",
       "33808  https://i.ytimg.com/vi/uxbQATBAXf8/default.jpg              False   \n",
       "33882  https://i.ytimg.com/vi/uxbQATBAXf8/default.jpg              False   \n",
       "31089  https://i.ytimg.com/vi/uxbQATBAXf8/default.jpg              False   \n",
       "31223  https://i.ytimg.com/vi/uxbQATBAXf8/default.jpg              False   \n",
       "31243  https://i.ytimg.com/vi/uxbQATBAXf8/default.jpg              False   \n",
       "31384  https://i.ytimg.com/vi/uxbQATBAXf8/default.jpg              False   \n",
       "31448  https://i.ytimg.com/vi/uxbQATBAXf8/default.jpg              False   \n",
       "31582  https://i.ytimg.com/vi/uxbQATBAXf8/default.jpg              False   \n",
       "31881  https://i.ytimg.com/vi/uxbQATBAXf8/default.jpg              False   \n",
       "31974  https://i.ytimg.com/vi/uxbQATBAXf8/default.jpg              False   \n",
       "33918  https://i.ytimg.com/vi/uxbQATBAXf8/default.jpg              False   \n",
       "34145  https://i.ytimg.com/vi/uxbQATBAXf8/default.jpg              False   \n",
       "33977  https://i.ytimg.com/vi/uxbQATBAXf8/default.jpg              False   \n",
       "34152  https://i.ytimg.com/vi/uxbQATBAXf8/default.jpg              False   \n",
       "34362  https://i.ytimg.com/vi/uxbQATBAXf8/default.jpg              False   \n",
       "34792  https://i.ytimg.com/vi/uxbQATBAXf8/default.jpg              False   \n",
       "34941  https://i.ytimg.com/vi/uxbQATBAXf8/default.jpg              False   \n",
       "\n",
       "       ratings_disabled  video_error_or_removed  \\\n",
       "34120             False                   False   \n",
       "34327             False                   False   \n",
       "34821             False                   False   \n",
       "33980             False                   False   \n",
       "34145             False                   False   \n",
       "34404             False                   False   \n",
       "33993             False                   False   \n",
       "34203             False                   False   \n",
       "33137             False                   False   \n",
       "33297             False                   False   \n",
       "33468             False                   False   \n",
       "33808             False                   False   \n",
       "33882             False                   False   \n",
       "31089             False                   False   \n",
       "31223             False                   False   \n",
       "31243             False                   False   \n",
       "31384             False                   False   \n",
       "31448             False                   False   \n",
       "31582             False                   False   \n",
       "31881             False                   False   \n",
       "31974             False                   False   \n",
       "33918             False                   False   \n",
       "34145             False                   False   \n",
       "33977             False                   False   \n",
       "34152             False                   False   \n",
       "34362             False                   False   \n",
       "34792             False                   False   \n",
       "34941             False                   False   \n",
       "\n",
       "                                             description Country  \n",
       "34120  Get your Deadpool 2 tickets at http://www.Dead...      CA  \n",
       "34327  Get your Deadpool 2 tickets at http://www.Dead...      CA  \n",
       "34821  Get your Deadpool 2 tickets at http://www.Dead...      CA  \n",
       "33980  Get your Deadpool 2 tickets at http://www.Dead...      DE  \n",
       "34145  Get your Deadpool 2 tickets at http://www.Dead...      DE  \n",
       "34404  Get your Deadpool 2 tickets at http://www.Dead...      DE  \n",
       "33993  Get your Deadpool 2 tickets at http://www.Dead...      FR  \n",
       "34203  Get your Deadpool 2 tickets at http://www.Dead...      FR  \n",
       "33137  Get your Deadpool 2 tickets at http://www.Dead...      GB  \n",
       "33297  Get your Deadpool 2 tickets at http://www.Dead...      GB  \n",
       "33468  Get your Deadpool 2 tickets at http://www.Dead...      GB  \n",
       "33808  Get your Deadpool 2 tickets at http://www.Dead...      GB  \n",
       "33882  Get your Deadpool 2 tickets at http://www.Dead...      GB  \n",
       "31089  Get your Deadpool 2 tickets at http://www.Dead...      IN  \n",
       "31223  Get your Deadpool 2 tickets at http://www.Dead...      IN  \n",
       "31243  Get your Deadpool 2 tickets at http://www.Dead...      IN  \n",
       "31384  Get your Deadpool 2 tickets at http://www.Dead...      IN  \n",
       "31448  Get your Deadpool 2 tickets at http://www.Dead...      IN  \n",
       "31582  Get your Deadpool 2 tickets at http://www.Dead...      IN  \n",
       "31881  Get your Deadpool 2 tickets at http://www.Dead...      IN  \n",
       "31974  Get your Deadpool 2 tickets at http://www.Dead...      IN  \n",
       "33918  Get your Deadpool 2 tickets at http://www.Dead...      MX  \n",
       "34145  Get your Deadpool 2 tickets at http://www.Dead...      MX  \n",
       "33977  Get your Deadpool 2 tickets at http://www.Dead...      RU  \n",
       "34152  Get your Deadpool 2 tickets at http://www.Dead...      US  \n",
       "34362  Get your Deadpool 2 tickets at http://www.Dead...      US  \n",
       "34792  Get your Deadpool 2 tickets at http://www.Dead...      US  \n",
       "34941  Get your Deadpool 2 tickets at http://www.Dead...      US  "
      ]
     },
     "execution_count": 13,
     "metadata": {},
     "output_type": "execute_result"
    }
   ],
   "source": [
    "final_df[final_df.video_id == 'uxbQATBAXf8']"
   ]
  },
  {
   "cell_type": "code",
   "execution_count": 14,
   "metadata": {},
   "outputs": [],
   "source": [
    "# Create a column named 'trending_date_counts' that indicates the number of time that video is on trending.\n",
    "final_df['trending_date_count'] = final_df.groupby(['video_id'])['trending_date'].transform('count')"
   ]
  },
  {
   "cell_type": "code",
   "execution_count": 15,
   "metadata": {},
   "outputs": [
    {
     "data": {
      "text/plain": [
       "0    26\n",
       "1     9\n",
       "2    13\n",
       "3    13\n",
       "4    23\n",
       "5     3\n",
       "6     4\n",
       "7    18\n",
       "8     6\n",
       "9     3\n",
       "Name: trending_date_count, dtype: int64"
      ]
     },
     "execution_count": 15,
     "metadata": {},
     "output_type": "execute_result"
    }
   ],
   "source": [
    "# Now, we will visualise a few lines of this new column\n",
    "final_df['trending_date_count'].head(10)"
   ]
  },
  {
   "cell_type": "code",
   "execution_count": 16,
   "metadata": {},
   "outputs": [],
   "source": [
    "# remove the other rows with the same video_id and older numbers.\n",
    "final_df.drop_duplicates(subset='video_id', keep='last', inplace=True)"
   ]
  },
  {
   "cell_type": "code",
   "execution_count": 17,
   "metadata": {},
   "outputs": [
    {
     "data": {
      "text/html": [
       "<div>\n",
       "<style scoped>\n",
       "    .dataframe tbody tr th:only-of-type {\n",
       "        vertical-align: middle;\n",
       "    }\n",
       "\n",
       "    .dataframe tbody tr th {\n",
       "        vertical-align: top;\n",
       "    }\n",
       "\n",
       "    .dataframe thead th {\n",
       "        text-align: right;\n",
       "    }\n",
       "</style>\n",
       "<table border=\"1\" class=\"dataframe\">\n",
       "  <thead>\n",
       "    <tr style=\"text-align: right;\">\n",
       "      <th></th>\n",
       "      <th>Unnamed: 0</th>\n",
       "      <th>video_id</th>\n",
       "      <th>trending_date</th>\n",
       "      <th>title</th>\n",
       "      <th>channel_title</th>\n",
       "      <th>category_name</th>\n",
       "      <th>publish_time</th>\n",
       "      <th>tags</th>\n",
       "      <th>views</th>\n",
       "      <th>likes</th>\n",
       "      <th>dislikes</th>\n",
       "      <th>comment_count</th>\n",
       "      <th>thumbnail_link</th>\n",
       "      <th>comments_disabled</th>\n",
       "      <th>ratings_disabled</th>\n",
       "      <th>video_error_or_removed</th>\n",
       "      <th>description</th>\n",
       "      <th>Country</th>\n",
       "      <th>trending_date_count</th>\n",
       "    </tr>\n",
       "  </thead>\n",
       "  <tbody>\n",
       "    <tr>\n",
       "      <td>34941</td>\n",
       "      <td>34941</td>\n",
       "      <td>uxbQATBAXf8</td>\n",
       "      <td>18.15.05</td>\n",
       "      <td>Deadpool 2 | With Apologies to David Beckham</td>\n",
       "      <td>20th Century Fox</td>\n",
       "      <td>Autos &amp; Vehicles</td>\n",
       "      <td>2018-05-10T14:24:29.000Z</td>\n",
       "      <td>Trailer|\"Deadpool\"|\"20th Century Fox (Producti...</td>\n",
       "      <td>15960127</td>\n",
       "      <td>374825</td>\n",
       "      <td>3823</td>\n",
       "      <td>9059</td>\n",
       "      <td>https://i.ytimg.com/vi/uxbQATBAXf8/default.jpg</td>\n",
       "      <td>False</td>\n",
       "      <td>False</td>\n",
       "      <td>False</td>\n",
       "      <td>Get your Deadpool 2 tickets at http://www.Dead...</td>\n",
       "      <td>US</td>\n",
       "      <td>28</td>\n",
       "    </tr>\n",
       "  </tbody>\n",
       "</table>\n",
       "</div>"
      ],
      "text/plain": [
       "       Unnamed: 0     video_id trending_date  \\\n",
       "34941       34941  uxbQATBAXf8      18.15.05   \n",
       "\n",
       "                                              title     channel_title  \\\n",
       "34941  Deadpool 2 | With Apologies to David Beckham  20th Century Fox   \n",
       "\n",
       "          category_name              publish_time  \\\n",
       "34941  Autos & Vehicles  2018-05-10T14:24:29.000Z   \n",
       "\n",
       "                                                    tags     views   likes  \\\n",
       "34941  Trailer|\"Deadpool\"|\"20th Century Fox (Producti...  15960127  374825   \n",
       "\n",
       "       dislikes  comment_count  \\\n",
       "34941      3823           9059   \n",
       "\n",
       "                                       thumbnail_link  comments_disabled  \\\n",
       "34941  https://i.ytimg.com/vi/uxbQATBAXf8/default.jpg              False   \n",
       "\n",
       "       ratings_disabled  video_error_or_removed  \\\n",
       "34941             False                   False   \n",
       "\n",
       "                                             description Country  \\\n",
       "34941  Get your Deadpool 2 tickets at http://www.Dead...      US   \n",
       "\n",
       "       trending_date_count  \n",
       "34941                   28  "
      ]
     },
     "execution_count": 17,
     "metadata": {},
     "output_type": "execute_result"
    }
   ],
   "source": [
    "# Re-verifying that our non-duplicate row now has only one unique row in the dataframe\n",
    "final_df[final_df.video_id == 'uxbQATBAXf8']"
   ]
  },
  {
   "cell_type": "code",
   "execution_count": 18,
   "metadata": {},
   "outputs": [],
   "source": [
    "final_df.reset_index(drop = True, inplace = True)\n"
   ]
  },
  {
   "cell_type": "code",
   "execution_count": 19,
   "metadata": {},
   "outputs": [],
   "source": [
    "#change the trending_date\n",
    "final_df['trending_date'].replace('\\.','-',regex=True,inplace=True) #'-' no regular expression\n",
    "type(final_df['trending_date'][0])\n",
    "final_df['new_column']='20'\n",
    "final_df['trending_date'] = final_df.agg(lambda x: f\"{x['new_column']}{x['trending_date']}\", axis=1)\n",
    "final_df['trending_date'] = pd.to_datetime(final_df['trending_date'],format='%Y-%d-%m')         \n",
    "del final_df['new_column']                            \n",
    "#type(final_df['trending_date'][0])"
   ]
  },
  {
   "cell_type": "code",
   "execution_count": 20,
   "metadata": {},
   "outputs": [
    {
     "data": {
      "text/plain": [
       "0   2017-11-14\n",
       "1   2017-11-14\n",
       "2   2017-11-14\n",
       "Name: trending_date, dtype: datetime64[ns]"
      ]
     },
     "execution_count": 20,
     "metadata": {},
     "output_type": "execute_result"
    }
   ],
   "source": [
    "#Now, we view the result\n",
    "final_df['trending_date'].head(3)"
   ]
  },
  {
   "cell_type": "code",
   "execution_count": 21,
   "metadata": {},
   "outputs": [],
   "source": [
    "#change the publish_time column to a better, readable format\n",
    "final_df.insert(5,'publish_date',final_df['publish_time'].map(lambda name:name.split('T')[0])) \n",
    "final_df['publish_time']=final_df['publish_time'].map(lambda name:name.split('T')[1])\n",
    "final_df['publish_date'] = pd.to_datetime(final_df['publish_date']) \n",
    "final_df['publish_time'] = pd.to_datetime(final_df['publish_time']) "
   ]
  },
  {
   "cell_type": "code",
   "execution_count": 22,
   "metadata": {},
   "outputs": [
    {
     "name": "stdout",
     "output_type": "stream",
     "text": [
      "<class 'pandas.core.frame.DataFrame'>\n",
      "RangeIndex: 184249 entries, 0 to 184248\n",
      "Data columns (total 20 columns):\n",
      "Unnamed: 0                184249 non-null int64\n",
      "video_id                  184249 non-null object\n",
      "trending_date             184249 non-null datetime64[ns]\n",
      "title                     184249 non-null object\n",
      "channel_title             184249 non-null object\n",
      "publish_date              184249 non-null datetime64[ns]\n",
      "category_name             184249 non-null object\n",
      "publish_time              184249 non-null datetime64[ns, UTC]\n",
      "tags                      184249 non-null object\n",
      "views                     184249 non-null int64\n",
      "likes                     184249 non-null int64\n",
      "dislikes                  184249 non-null int64\n",
      "comment_count             184249 non-null int64\n",
      "thumbnail_link            184249 non-null object\n",
      "comments_disabled         184249 non-null bool\n",
      "ratings_disabled          184249 non-null bool\n",
      "video_error_or_removed    184249 non-null bool\n",
      "description               171143 non-null object\n",
      "Country                   184249 non-null object\n",
      "trending_date_count       184249 non-null int64\n",
      "dtypes: bool(3), datetime64[ns, UTC](1), datetime64[ns](2), int64(6), object(8)\n",
      "memory usage: 24.4+ MB\n"
     ]
    },
    {
     "data": {
      "text/plain": [
       "Index(['Unnamed: 0', 'video_id', 'trending_date', 'title', 'channel_title',\n",
       "       'publish_date', 'category_name', 'publish_time', 'tags', 'views',\n",
       "       'likes', 'dislikes', 'comment_count', 'thumbnail_link',\n",
       "       'comments_disabled', 'ratings_disabled', 'video_error_or_removed',\n",
       "       'description', 'Country', 'trending_date_count'],\n",
       "      dtype='object')"
      ]
     },
     "execution_count": 22,
     "metadata": {},
     "output_type": "execute_result"
    }
   ],
   "source": [
    "#Now, we will study the data-types of each column\n",
    "final_df.info() #df.dtypes\n",
    "final_df.columns"
   ]
  },
  {
   "cell_type": "code",
   "execution_count": 23,
   "metadata": {},
   "outputs": [],
   "source": [
    "# Translate the boolean values into numeric values\n",
    "final_df[\"comments_disabled\"]=final_df[\"comments_disabled\"].astype(int)\n",
    "final_df[\"ratings_disabled\"]=final_df[\"ratings_disabled\"].astype(int)\n",
    "final_df[\"video_error_or_removed\"]=final_df[\"video_error_or_removed\"].astype(int)"
   ]
  },
  {
   "cell_type": "code",
   "execution_count": 24,
   "metadata": {},
   "outputs": [
    {
     "data": {
      "text/plain": [
       "numpy.int32"
      ]
     },
     "execution_count": 24,
     "metadata": {},
     "output_type": "execute_result"
    }
   ],
   "source": [
    "type(final_df['comments_disabled'][9]) # confirming that our conversion was successful"
   ]
  },
  {
   "cell_type": "code",
   "execution_count": 25,
   "metadata": {},
   "outputs": [],
   "source": [
    "# Use normalization to reduce skewness of the data if necessary\n",
    "from sklearn import preprocessing\n",
    "import numpy as np\n",
    "# Normalize views\n",
    "x_array = np.array(final_df['views'])\n",
    "normalized_X = preprocessing.normalize([x_array])\n",
    "normalized_X_dataframe = pd.DataFrame(normalized_X)   \n",
    "final_df['views']=normalized_X_dataframe.T\n",
    "#display(df['views'])\n",
    "\n",
    "# Normalize likes\n",
    "x_array = np.array(final_df['likes'])\n",
    "normalized_Y = preprocessing.normalize([x_array])\n",
    "normalized_Y_dataframe = pd.DataFrame(normalized_Y)   \n",
    "final_df['likes']=normalized_Y_dataframe.T\n",
    "\n",
    "\n",
    "# Normalize dislikes\n",
    "x_array = np.array(final_df['dislikes'])\n",
    "normalized_Z = preprocessing.normalize([x_array])\n",
    "normalized_Z_dataframe = pd.DataFrame(normalized_Z)   \n",
    "final_df['dislikes']=normalized_Z_dataframe.T\n",
    "\n",
    "\n",
    "# Normalize comment_count\n",
    "x_array = np.array(final_df['comment_count'])\n",
    "normalized_C = preprocessing.normalize([x_array])\n",
    "normalized_C_dataframe = pd.DataFrame(normalized_C)   \n",
    "final_df['comment_count']=normalized_C_dataframe.T"
   ]
  },
  {
   "cell_type": "code",
   "execution_count": 26,
   "metadata": {},
   "outputs": [
    {
     "data": {
      "image/png": "[encoded data removed]",
      "text/plain": [
       "<Figure size 432x288 with 1 Axes>"
      ]
     },
     "metadata": {
      "needs_background": "light"
     },
     "output_type": "display_data"
    }
   ],
   "source": [
    "# draw the graph from the distribution between 'likes' and 'dislikes'\n",
    "means = final_df['likes'].mean(), final_df['dislikes'].mean()\n",
    "stdevs = final_df['likes'].std(axis = 0, skipna = True), final_df['dislikes'].std(axis = 0, skipna = True)\n",
    "dist = pd.DataFrame(\n",
    "np.random.normal(loc=means, scale=stdevs, size=(1000, 2)),\n",
    "columns=['Likes', 'Dislikes'])\n",
    "dist.agg(['min', 'max', 'mean', 'std']).round(decimals=2)\n",
    "\n",
    "fig, ax = plt.subplots()\n",
    "dist.plot.kde(ax=ax, legend=False, title='Histogram: likes vs. dislikes')\n",
    "dist.plot.hist(density=True, ax=ax)\n",
    "ax.set_ylabel('Probability')\n",
    "ax.grid(axis='y')\n",
    "ax.set_facecolor('#d8dcd6')"
   ]
  },
  {
   "cell_type": "code",
   "execution_count": 27,
   "metadata": {},
   "outputs": [],
   "source": [
    "final_df['Tags'] = final_df['tags'].map(lambda tags:tags.split('|'))"
   ]
  },
  {
   "cell_type": "code",
   "execution_count": 28,
   "metadata": {},
   "outputs": [
    {
     "data": {
      "text/plain": [
       "0    [電視劇, \"大陸電視劇\", \"猎场\", \"职场\", \"商战\", \"爱情\", \"都市\", \"...\n",
       "1    [prank, \"pranks\", \"nelk\", \"nelkfilmz\", \"nelkfi...\n",
       "2    [Rooster Teeth, \"RT\", \"animation\", \"television...\n",
       "3    [Industrial Fan, \"Industrial Fan Destruction\",...\n",
       "Name: Tags, dtype: object"
      ]
     },
     "execution_count": 28,
     "metadata": {},
     "output_type": "execute_result"
    }
   ],
   "source": [
    "# We now view a few lines of the Tags column to see the list created\n",
    "final_df['Tags'].head(4)"
   ]
  },
  {
   "cell_type": "code",
   "execution_count": 29,
   "metadata": {},
   "outputs": [],
   "source": [
    "for i in range(len(final_df['Tags'])):\n",
    "    #k = final_df['Tags'][i]\n",
    "    for k in range(len(final_df['Tags'][i])):\n",
    "        final_df['Tags'][i][k] = final_df['Tags'][i][k].replace('\\\"','').rstrip().lstrip()"
   ]
  },
  {
   "cell_type": "code",
   "execution_count": 30,
   "metadata": {},
   "outputs": [
    {
     "data": {
      "text/plain": [
       "0    [電視劇, 大陸電視劇, 猎场, 职场, 商战, 爱情, 都市, 胡歌, 陈龙, 孙红雷, ...\n",
       "1          [prank, pranks, nelk, nelkfilmz, nelkfilms]\n",
       "2    [Rooster Teeth, RT, animation, television, fil...\n",
       "Name: Tags, dtype: object"
      ]
     },
     "execution_count": 30,
     "metadata": {},
     "output_type": "execute_result"
    }
   ],
   "source": [
    "#Now, we will view our results of the clean column df_US['Tags']\n",
    "final_df['Tags'].head(3)"
   ]
  },
  {
   "cell_type": "code",
   "execution_count": 31,
   "metadata": {},
   "outputs": [],
   "source": [
    "final_df['TagCount'] = final_df['Tags'].map(lambda x:len(x))"
   ]
  },
  {
   "cell_type": "code",
   "execution_count": 32,
   "metadata": {},
   "outputs": [
    {
     "data": {
      "text/plain": [
       "0    33\n",
       "1     5\n",
       "2    49\n",
       "3    22\n",
       "4    29\n",
       "Name: TagCount, dtype: int64"
      ]
     },
     "execution_count": 32,
     "metadata": {},
     "output_type": "execute_result"
    }
   ],
   "source": [
    "#Viewing the results of the new column \"TagCount\"\n",
    "final_df['TagCount'].head()"
   ]
  },
  {
   "cell_type": "code",
   "execution_count": null,
   "metadata": {},
   "outputs": [],
   "source": []
  },
  {
   "cell_type": "code",
   "execution_count": null,
   "metadata": {},
   "outputs": [],
   "source": []
  },
  {
   "cell_type": "code",
   "execution_count": null,
   "metadata": {},
   "outputs": [],
   "source": []
  },
  {
   "cell_type": "markdown",
   "metadata": {},
   "source": [
    "# Text_df Analysis"
   ]
  },
  {
   "cell_type": "code",
   "execution_count": 33,
   "metadata": {},
   "outputs": [],
   "source": [
    "names_of_countries = ['CA','DE','FR','GB','IN','JP','KR','MX','RU','US']"
   ]
  },
  {
   "cell_type": "code",
   "execution_count": 34,
   "metadata": {},
   "outputs": [
    {
     "data": {
      "text/plain": [
       "RU    34081\n",
       "MX    32643\n",
       "FR    27557\n",
       "DE    23327\n",
       "IN    15776\n",
       "KR    15537\n",
       "CA    14865\n",
       "JP    12155\n",
       "US     6282\n",
       "GB     2026\n",
       "Name: Country, dtype: int64"
      ]
     },
     "execution_count": 34,
     "metadata": {},
     "output_type": "execute_result"
    }
   ],
   "source": [
    "final_df['Country'].value_counts()"
   ]
  },
  {
   "cell_type": "code",
   "execution_count": 35,
   "metadata": {},
   "outputs": [
    {
     "data": {
      "text/plain": [
       "array(['CA', 'DE', 'FR', 'GB', 'IN', 'JP', 'KR', 'MX', 'RU', 'US'],\n",
       "      dtype=object)"
      ]
     },
     "execution_count": 35,
     "metadata": {},
     "output_type": "execute_result"
    }
   ],
   "source": [
    "final_df['Country'].unique()"
   ]
  },
  {
   "cell_type": "code",
   "execution_count": 36,
   "metadata": {},
   "outputs": [
    {
     "data": {
      "text/plain": [
       "['en',\n",
       " 'not_en',\n",
       " 'not_en',\n",
       " 'en',\n",
       " 'en',\n",
       " 'not_en',\n",
       " 'not_en',\n",
       " 'not_en',\n",
       " 'not_en',\n",
       " 'en']"
      ]
     },
     "execution_count": 36,
     "metadata": {},
     "output_type": "execute_result"
    }
   ],
   "source": [
    "langlist"
   ]
  },
  {
   "cell_type": "code",
   "execution_count": 37,
   "metadata": {},
   "outputs": [],
   "source": [
    "qualified_countries = ['CA','IN','US','GB']\n"
   ]
  },
  {
   "cell_type": "markdown",
   "metadata": {},
   "source": [
    "We can see that dataframes CA, GB,IN and US are in english."
   ]
  },
  {
   "cell_type": "code",
   "execution_count": 38,
   "metadata": {},
   "outputs": [],
   "source": [
    "textdf = final_df[final_df['Country'].isin(['CA', 'IN','GB','US'])]"
   ]
  },
  {
   "cell_type": "code",
   "execution_count": 39,
   "metadata": {},
   "outputs": [
    {
     "data": {
      "text/html": [
       "<div>\n",
       "<style scoped>\n",
       "    .dataframe tbody tr th:only-of-type {\n",
       "        vertical-align: middle;\n",
       "    }\n",
       "\n",
       "    .dataframe tbody tr th {\n",
       "        vertical-align: top;\n",
       "    }\n",
       "\n",
       "    .dataframe thead th {\n",
       "        text-align: right;\n",
       "    }\n",
       "</style>\n",
       "<table border=\"1\" class=\"dataframe\">\n",
       "  <thead>\n",
       "    <tr style=\"text-align: right;\">\n",
       "      <th></th>\n",
       "      <th>Unnamed: 0</th>\n",
       "      <th>video_id</th>\n",
       "      <th>trending_date</th>\n",
       "      <th>title</th>\n",
       "      <th>channel_title</th>\n",
       "      <th>publish_date</th>\n",
       "      <th>category_name</th>\n",
       "      <th>publish_time</th>\n",
       "      <th>tags</th>\n",
       "      <th>views</th>\n",
       "      <th>...</th>\n",
       "      <th>comment_count</th>\n",
       "      <th>thumbnail_link</th>\n",
       "      <th>comments_disabled</th>\n",
       "      <th>ratings_disabled</th>\n",
       "      <th>video_error_or_removed</th>\n",
       "      <th>description</th>\n",
       "      <th>Country</th>\n",
       "      <th>trending_date_count</th>\n",
       "      <th>Tags</th>\n",
       "      <th>TagCount</th>\n",
       "    </tr>\n",
       "  </thead>\n",
       "  <tbody>\n",
       "    <tr>\n",
       "      <td>0</td>\n",
       "      <td>12</td>\n",
       "      <td>FyZMnhUtLfE</td>\n",
       "      <td>2017-11-14</td>\n",
       "      <td>猎场 | Game Of Hunting 12【TV版】（胡歌、張嘉譯、祖峰等主演）</td>\n",
       "      <td>大劇獨播</td>\n",
       "      <td>2017-11-12</td>\n",
       "      <td>Autos &amp; Vehicles</td>\n",
       "      <td>2020-04-18 16:00:01+00:00</td>\n",
       "      <td>電視劇|\"大陸電視劇\"|\"猎场\"|\"职场\"|\"商战\"|\"爱情\"|\"都市\"|\"胡歌\"|\"陈龙\"...</td>\n",
       "      <td>0.000233</td>\n",
       "      <td>...</td>\n",
       "      <td>0.000054</td>\n",
       "      <td>https://i.ytimg.com/vi/FyZMnhUtLfE/default.jpg</td>\n",
       "      <td>0</td>\n",
       "      <td>0</td>\n",
       "      <td>0</td>\n",
       "      <td>Thanks for watching the drama! Help more peopl...</td>\n",
       "      <td>CA</td>\n",
       "      <td>1</td>\n",
       "      <td>[電視劇, 大陸電視劇, 猎场, 职场, 商战, 爱情, 都市, 胡歌, 陈龙, 孙红雷, ...</td>\n",
       "      <td>33</td>\n",
       "    </tr>\n",
       "    <tr>\n",
       "      <td>1</td>\n",
       "      <td>16</td>\n",
       "      <td>gifPYwArCVQ</td>\n",
       "      <td>2017-11-14</td>\n",
       "      <td>Fake Pet Smart Employee Prank!</td>\n",
       "      <td>NELK</td>\n",
       "      <td>2017-11-13</td>\n",
       "      <td>Family</td>\n",
       "      <td>2020-04-18 01:30:01+00:00</td>\n",
       "      <td>prank|\"pranks\"|\"nelk\"|\"nelkfilmz\"|\"nelkfilms\"</td>\n",
       "      <td>0.000818</td>\n",
       "      <td>...</td>\n",
       "      <td>0.002789</td>\n",
       "      <td>https://i.ytimg.com/vi/gifPYwArCVQ/default.jpg</td>\n",
       "      <td>0</td>\n",
       "      <td>0</td>\n",
       "      <td>0</td>\n",
       "      <td>3 Days left to cop NELK merch: https://nelk.ca...</td>\n",
       "      <td>CA</td>\n",
       "      <td>1</td>\n",
       "      <td>[prank, pranks, nelk, nelkfilmz, nelkfilms]</td>\n",
       "      <td>5</td>\n",
       "    </tr>\n",
       "    <tr>\n",
       "      <td>2</td>\n",
       "      <td>18</td>\n",
       "      <td>fy-CuCzaPp8</td>\n",
       "      <td>2017-11-14</td>\n",
       "      <td>Rooster Teeth Animated Adventures - Drunk Baby...</td>\n",
       "      <td>Rooster Teeth</td>\n",
       "      <td>2017-11-13</td>\n",
       "      <td>Autos &amp; Vehicles</td>\n",
       "      <td>2020-04-18 14:00:03+00:00</td>\n",
       "      <td>Rooster Teeth|\"RT\"|\"animation\"|\"television\"|\"f...</td>\n",
       "      <td>0.000453</td>\n",
       "      <td>...</td>\n",
       "      <td>0.000144</td>\n",
       "      <td>https://i.ytimg.com/vi/fy-CuCzaPp8/default.jpg</td>\n",
       "      <td>0</td>\n",
       "      <td>0</td>\n",
       "      <td>0</td>\n",
       "      <td>Miles gets stuck at work one night watching ov...</td>\n",
       "      <td>CA</td>\n",
       "      <td>1</td>\n",
       "      <td>[Rooster Teeth, RT, animation, television, fil...</td>\n",
       "      <td>49</td>\n",
       "    </tr>\n",
       "  </tbody>\n",
       "</table>\n",
       "<p>3 rows × 22 columns</p>\n",
       "</div>"
      ],
      "text/plain": [
       "   Unnamed: 0     video_id trending_date  \\\n",
       "0          12  FyZMnhUtLfE    2017-11-14   \n",
       "1          16  gifPYwArCVQ    2017-11-14   \n",
       "2          18  fy-CuCzaPp8    2017-11-14   \n",
       "\n",
       "                                               title  channel_title  \\\n",
       "0         猎场 | Game Of Hunting 12【TV版】（胡歌、張嘉譯、祖峰等主演）           大劇獨播   \n",
       "1                     Fake Pet Smart Employee Prank!           NELK   \n",
       "2  Rooster Teeth Animated Adventures - Drunk Baby...  Rooster Teeth   \n",
       "\n",
       "  publish_date     category_name              publish_time  \\\n",
       "0   2017-11-12  Autos & Vehicles 2020-04-18 16:00:01+00:00   \n",
       "1   2017-11-13            Family 2020-04-18 01:30:01+00:00   \n",
       "2   2017-11-13  Autos & Vehicles 2020-04-18 14:00:03+00:00   \n",
       "\n",
       "                                                tags     views  ...  \\\n",
       "0  電視劇|\"大陸電視劇\"|\"猎场\"|\"职场\"|\"商战\"|\"爱情\"|\"都市\"|\"胡歌\"|\"陈龙\"...  0.000233  ...   \n",
       "1      prank|\"pranks\"|\"nelk\"|\"nelkfilmz\"|\"nelkfilms\"  0.000818  ...   \n",
       "2  Rooster Teeth|\"RT\"|\"animation\"|\"television\"|\"f...  0.000453  ...   \n",
       "\n",
       "   comment_count                                  thumbnail_link  \\\n",
       "0       0.000054  https://i.ytimg.com/vi/FyZMnhUtLfE/default.jpg   \n",
       "1       0.002789  https://i.ytimg.com/vi/gifPYwArCVQ/default.jpg   \n",
       "2       0.000144  https://i.ytimg.com/vi/fy-CuCzaPp8/default.jpg   \n",
       "\n",
       "   comments_disabled ratings_disabled  video_error_or_removed  \\\n",
       "0                  0                0                       0   \n",
       "1                  0                0                       0   \n",
       "2                  0                0                       0   \n",
       "\n",
       "                                         description  Country  \\\n",
       "0  Thanks for watching the drama! Help more peopl...       CA   \n",
       "1  3 Days left to cop NELK merch: https://nelk.ca...       CA   \n",
       "2  Miles gets stuck at work one night watching ov...       CA   \n",
       "\n",
       "  trending_date_count                                               Tags  \\\n",
       "0                   1  [電視劇, 大陸電視劇, 猎场, 职场, 商战, 爱情, 都市, 胡歌, 陈龙, 孙红雷, ...   \n",
       "1                   1        [prank, pranks, nelk, nelkfilmz, nelkfilms]   \n",
       "2                   1  [Rooster Teeth, RT, animation, television, fil...   \n",
       "\n",
       "   TagCount  \n",
       "0        33  \n",
       "1         5  \n",
       "2        49  \n",
       "\n",
       "[3 rows x 22 columns]"
      ]
     },
     "execution_count": 39,
     "metadata": {},
     "output_type": "execute_result"
    }
   ],
   "source": [
    "textdf.head(3)"
   ]
  },
  {
   "cell_type": "code",
   "execution_count": 40,
   "metadata": {},
   "outputs": [
    {
     "data": {
      "text/plain": [
       "array(['CA', 'GB', 'IN', 'US'], dtype=object)"
      ]
     },
     "execution_count": 40,
     "metadata": {},
     "output_type": "execute_result"
    }
   ],
   "source": [
    "textdf['Country'].unique()"
   ]
  },
  {
   "cell_type": "code",
   "execution_count": 41,
   "metadata": {},
   "outputs": [
    {
     "data": {
      "text/plain": [
       "(38949, 22)"
      ]
     },
     "execution_count": 41,
     "metadata": {},
     "output_type": "execute_result"
    }
   ],
   "source": [
    "textdf.shape"
   ]
  },
  {
   "cell_type": "code",
   "execution_count": 42,
   "metadata": {},
   "outputs": [
    {
     "name": "stderr",
     "output_type": "stream",
     "text": [
      "C:\\Users\\Aishwarya\\Anaconda3\\lib\\site-packages\\ipykernel_launcher.py:1: SettingWithCopyWarning: \n",
      "A value is trying to be set on a copy of a slice from a DataFrame.\n",
      "Try using .loc[row_indexer,col_indexer] = value instead\n",
      "\n",
      "See the caveats in the documentation: http://pandas.pydata.org/pandas-docs/stable/user_guide/indexing.html#returning-a-view-versus-a-copy\n",
      "  \"\"\"Entry point for launching an IPython kernel.\n"
     ]
    }
   ],
   "source": [
    "textdf['description_url']=textdf[\"description\"].str.findall(r'http[s]?://(?:[a-zA-Z]|[0-9]|[$-_@.&+]|[!*\\(\\),]|(?:%[0-9a-fA-F][0-9a-fA-F]))+')"
   ]
  },
  {
   "cell_type": "code",
   "execution_count": 43,
   "metadata": {},
   "outputs": [
    {
     "data": {
      "text/plain": [
       "0         [https://goo.gl/q8oOgq, https://goo.gl/bXGIIs\\...\n",
       "1         [https://nelk.ca\\n\\nFollow, https://twitter.co...\n",
       "2         [http://bit.ly/2uRn6Ox\\n\\nAudio, http://rooste...\n",
       "3         [https://www.youtube.com/watch?v=dFm7n5tQzrU\\n...\n",
       "4         [http://bit.ly/GMM1218, http://bit.ly/GMM1217,...\n",
       "                                ...                        \n",
       "184244                                                   []\n",
       "184245                                                  NaN\n",
       "184246    [https://goo.gl/C92AmbSHOP, https://goo.gl/VN6...\n",
       "184247    [https://bit.ly/HISHEPlaylistSubscribe, https:...\n",
       "184248    [https://www.callofduty.com/blackops4/buyFollo...\n",
       "Name: description_url, Length: 38949, dtype: object"
      ]
     },
     "execution_count": 43,
     "metadata": {},
     "output_type": "execute_result"
    }
   ],
   "source": [
    "textdf['description_url']"
   ]
  },
  {
   "cell_type": "code",
   "execution_count": 44,
   "metadata": {},
   "outputs": [
    {
     "data": {
      "text/plain": [
       "1077"
      ]
     },
     "execution_count": 44,
     "metadata": {},
     "output_type": "execute_result"
    }
   ],
   "source": [
    "textdf['description_url'].isnull().sum()"
   ]
  },
  {
   "cell_type": "code",
   "execution_count": 45,
   "metadata": {},
   "outputs": [
    {
     "data": {
      "text/plain": [
       "(38949, 23)"
      ]
     },
     "execution_count": 45,
     "metadata": {},
     "output_type": "execute_result"
    }
   ],
   "source": [
    "textdf.shape"
   ]
  },
  {
   "cell_type": "code",
   "execution_count": 46,
   "metadata": {},
   "outputs": [
    {
     "name": "stderr",
     "output_type": "stream",
     "text": [
      "C:\\Users\\Aishwarya\\Anaconda3\\lib\\site-packages\\ipykernel_launcher.py:1: SettingWithCopyWarning: \n",
      "A value is trying to be set on a copy of a slice from a DataFrame.\n",
      "Try using .loc[row_indexer,col_indexer] = value instead\n",
      "\n",
      "See the caveats in the documentation: http://pandas.pydata.org/pandas-docs/stable/user_guide/indexing.html#returning-a-view-versus-a-copy\n",
      "  \"\"\"Entry point for launching an IPython kernel.\n"
     ]
    }
   ],
   "source": [
    "textdf['description_url']=textdf['description_url'].fillna(0)"
   ]
  },
  {
   "cell_type": "code",
   "execution_count": 47,
   "metadata": {},
   "outputs": [
    {
     "name": "stderr",
     "output_type": "stream",
     "text": [
      "C:\\Users\\Aishwarya\\Anaconda3\\lib\\site-packages\\ipykernel_launcher.py:2: SettingWithCopyWarning: \n",
      "A value is trying to be set on a copy of a slice from a DataFrame.\n",
      "Try using .loc[row_indexer,col_indexer] = value instead\n",
      "\n",
      "See the caveats in the documentation: http://pandas.pydata.org/pandas-docs/stable/user_guide/indexing.html#returning-a-view-versus-a-copy\n",
      "  \n"
     ]
    }
   ],
   "source": [
    "# Calculate the length of each observation of description_url column\n",
    "textdf['len']=textdf['description_url'].apply(lambda x: len(x) if x!=0 else 0)"
   ]
  },
  {
   "cell_type": "code",
   "execution_count": 48,
   "metadata": {},
   "outputs": [],
   "source": [
    "textdf.reset_index(inplace = True)"
   ]
  },
  {
   "cell_type": "code",
   "execution_count": 49,
   "metadata": {},
   "outputs": [],
   "source": [
    "# Remove \"\\\\n\" in description_url column\n",
    "urls=[]\n",
    "for i in range(len(textdf)):\n",
    "    if textdf['len'][i]!=0:\n",
    "        url=[]\n",
    "        for j in textdf['description_url'][i]:\n",
    "            suburl=0\n",
    "            suburl=j.split('\\\\n')\n",
    "            for item in range(len(suburl)):\n",
    "                if suburl[item].find('http')!=-1:\n",
    "                    url.append(suburl[item])\n",
    "        urls.append(url)\n",
    "    else:\n",
    "        urls.append(0)"
   ]
  },
  {
   "cell_type": "code",
   "execution_count": 50,
   "metadata": {},
   "outputs": [
    {
     "name": "stderr",
     "output_type": "stream",
     "text": [
      "C:\\Users\\Aishwarya\\Anaconda3\\lib\\site-packages\\ipykernel_launcher.py:2: SettingWithCopyWarning: \n",
      "A value is trying to be set on a copy of a slice from a DataFrame.\n",
      "Try using .loc[row_indexer,col_indexer] = value instead\n",
      "\n",
      "See the caveats in the documentation: http://pandas.pydata.org/pandas-docs/stable/user_guide/indexing.html#returning-a-view-versus-a-copy\n",
      "  \n"
     ]
    }
   ],
   "source": [
    "# Create a column to save the pure urls\n",
    "textdf['pure_description_url']=urls"
   ]
  },
  {
   "cell_type": "code",
   "execution_count": 51,
   "metadata": {},
   "outputs": [
    {
     "data": {
      "text/plain": [
       "['https://goo.gl/q8oOgq',\n",
       " 'https://goo.gl/bXGIIs',\n",
       " 'https://goo.gl/8PkYmN',\n",
       " 'https://goo.gl/9cFiDv',\n",
       " 'https://goo.gl/a1bkPp',\n",
       " 'https://goo.gl/ZiGH7M',\n",
       " 'https://goo.gl/Vy6qzA',\n",
       " 'https://goo.gl/BTmsPB',\n",
       " 'https://goo.gl/1MBDKO',\n",
       " 'https://goo.gl/4wiaLB']"
      ]
     },
     "execution_count": 51,
     "metadata": {},
     "output_type": "execute_result"
    }
   ],
   "source": [
    "# Now, we see a few lines of this newly created column\n",
    "textdf['pure_description_url'][0]"
   ]
  },
  {
   "cell_type": "code",
   "execution_count": 52,
   "metadata": {},
   "outputs": [
    {
     "name": "stderr",
     "output_type": "stream",
     "text": [
      "C:\\Users\\Aishwarya\\Anaconda3\\lib\\site-packages\\ipykernel_launcher.py:1: SettingWithCopyWarning: \n",
      "A value is trying to be set on a copy of a slice from a DataFrame.\n",
      "Try using .loc[row_indexer,col_indexer] = value instead\n",
      "\n",
      "See the caveats in the documentation: http://pandas.pydata.org/pandas-docs/stable/user_guide/indexing.html#returning-a-view-versus-a-copy\n",
      "  \"\"\"Entry point for launching an IPython kernel.\n"
     ]
    }
   ],
   "source": [
    "textdf['description_text']=textdf['description']"
   ]
  },
  {
   "cell_type": "code",
   "execution_count": 53,
   "metadata": {},
   "outputs": [
    {
     "name": "stderr",
     "output_type": "stream",
     "text": [
      "C:\\Users\\Aishwarya\\Anaconda3\\lib\\site-packages\\ipykernel_launcher.py:4: SettingWithCopyWarning: \n",
      "A value is trying to be set on a copy of a slice from a DataFrame\n",
      "\n",
      "See the caveats in the documentation: http://pandas.pydata.org/pandas-docs/stable/user_guide/indexing.html#returning-a-view-versus-a-copy\n",
      "  after removing the cwd from sys.path.\n",
      "C:\\Users\\Aishwarya\\Anaconda3\\lib\\site-packages\\IPython\\core\\interactiveshell.py:3326: SettingWithCopyWarning: \n",
      "A value is trying to be set on a copy of a slice from a DataFrame\n",
      "\n",
      "See the caveats in the documentation: http://pandas.pydata.org/pandas-docs/stable/user_guide/indexing.html#returning-a-view-versus-a-copy\n",
      "  exec(code_obj, self.user_global_ns, self.user_ns)\n"
     ]
    }
   ],
   "source": [
    "for i in range(len(textdf)):\n",
    "    if textdf['len'][i]!=0:\n",
    "        for j in range(textdf['len'][i]):\n",
    "            textdf['description_text'][i]=textdf['description_text'][i].replace(textdf['description_url'][i][j],'')"
   ]
  },
  {
   "cell_type": "code",
   "execution_count": 54,
   "metadata": {},
   "outputs": [
    {
     "data": {
      "text/plain": [
       "'3 Days left to cop NELK merch:  us on Instagram!\\\\n@nelkboys\\\\n\\\\nNELK\\\\nTwitter:   nelkfilmz\\\\n\\\\nALL THE FIRE MUSIC BY:\\\\nInstagram - @StanBeats\\\\nStolen Identity - KILLY\\\\n\\\\nIntro and Outro Shot by: @leecreated\\\\n\\\\nFILMER:\\\\nInstagram - @905shooter'"
      ]
     },
     "execution_count": 54,
     "metadata": {},
     "output_type": "execute_result"
    }
   ],
   "source": [
    "# Once done, we verify if the description text is truly free of its urls\n",
    "textdf['description_text'][1]"
   ]
  },
  {
   "cell_type": "code",
   "execution_count": 56,
   "metadata": {},
   "outputs": [
    {
     "name": "stderr",
     "output_type": "stream",
     "text": [
      "C:\\Users\\Aishwarya\\Anaconda3\\lib\\site-packages\\ipykernel_launcher.py:2: SettingWithCopyWarning: \n",
      "A value is trying to be set on a copy of a slice from a DataFrame.\n",
      "Try using .loc[row_indexer,col_indexer] = value instead\n",
      "\n",
      "See the caveats in the documentation: http://pandas.pydata.org/pandas-docs/stable/user_guide/indexing.html#returning-a-view-versus-a-copy\n",
      "  \n"
     ]
    }
   ],
   "source": [
    "# present the frenquency of trendy title\n",
    "textdf[\"title\"]=textdf[\"title\"].astype(str)\n",
    "df_new = textdf[textdf['title'].notnull()]"
   ]
  },
  {
   "cell_type": "code",
   "execution_count": 57,
   "metadata": {},
   "outputs": [
    {
     "data": {
      "image/png": "[encoded data removed]",
      "text/plain": [
       "<Figure size 432x288 with 1 Axes>"
      ]
     },
     "metadata": {
      "needs_background": "light"
     },
     "output_type": "display_data"
    }
   ],
   "source": [
    "def my_tokenizer(text):\n",
    "    return text.split() if text!= None else []\n",
    "tokens=df_new.title.map(my_tokenizer).sum()\n",
    "#create token list\n",
    "from collections import Counter\n",
    "\n",
    "counter=Counter(tokens)\n",
    "counter.most_common(20)\n",
    "\n",
    "#remove stop words\n",
    "from spacy.lang.en.stop_words import STOP_WORDS\n",
    "\n",
    "def remove_stopwords(tokens):\n",
    "    '''remove stopwords from a list of tokens.'''\n",
    "    return [t for t in tokens if t not in STOP_WORDS]\n",
    "#rebuild counter\n",
    "counter=Counter(remove_stopwords(tokens))\n",
    "counter.most_common(30)\n",
    "\n",
    "freq_df=pd.DataFrame.from_records(counter.most_common(30),\n",
    "                                  columns=['token','count'])\n",
    "#create bar plot\n",
    "freq_df.plot(kind='bar',x='token');"
   ]
  },
  {
   "cell_type": "code",
   "execution_count": 58,
   "metadata": {},
   "outputs": [
    {
     "data": {
      "image/png": "[encoded data removed]",
      "text/plain": [
       "<Figure size 432x288 with 1 Axes>"
      ]
     },
     "metadata": {
      "needs_background": "light"
     },
     "output_type": "display_data"
    }
   ],
   "source": [
    "def my_tokenizer(text):\n",
    "    return text.split() if text!= None else []\n",
    "tokens=df_new.title.map(my_tokenizer).sum()\n",
    "#create token list\n",
    "from collections import Counter\n",
    "\n",
    "counter=Counter(tokens)\n",
    "counter.most_common(20)\n",
    "\n",
    "#remove stop words\n",
    "from spacy.lang.en.stop_words import STOP_WORDS\n",
    "\n",
    "def remove_stopwords(tokens):\n",
    "    '''remove stopwords from a list of tokens.'''\n",
    "    return [t for t in tokens if t not in STOP_WORDS]\n",
    "#rebuild counter\n",
    "counter=Counter(remove_stopwords(tokens))\n",
    "\n",
    "#covert list of tuples onto wordcloud\n",
    "from wordcloud import WordCloud\n",
    "\n",
    "def wordcloud(counter):\n",
    "    wc=WordCloud(width=1200,height=800,\n",
    "                 background_color='white',\n",
    "                 max_words=200)\n",
    "    wc.generate_from_frequencies(counter)\n",
    "\n",
    "    #plot\n",
    "    fig=plt.figure(figsize=(6,4))\n",
    "    plt.imshow(wc,interpolation='bilinear')\n",
    "    plt.axis('off')\n",
    "    plt.tight_layout(pad=0)\n",
    "    plt.show()\n",
    "\n",
    "#create wordcloud\n",
    "wordcloud(counter)"
   ]
  },
  {
   "cell_type": "code",
   "execution_count": 59,
   "metadata": {},
   "outputs": [],
   "source": [
    "final_df.to_csv(\"final_df.csv\")"
   ]
  },
  {
   "cell_type": "code",
   "execution_count": 60,
   "metadata": {},
   "outputs": [],
   "source": [
    "textdf.to_csv(\"text_df.csv\")"
   ]
  },
  {
   "cell_type": "code",
   "execution_count": null,
   "metadata": {},
   "outputs": [],
   "source": []
  },
  {
   "cell_type": "code",
   "execution_count": null,
   "metadata": {},
   "outputs": [],
   "source": []
  }
 ],
 "metadata": {
  "kernelspec": {
   "display_name": "Python 3",
   "language": "python",
   "name": "python3"
  },
  "language_info": {
   "codemirror_mode": {
    "name": "ipython",
    "version": 3
   },
   "file_extension": ".py",
   "mimetype": "text/x-python",
   "name": "python",
   "nbconvert_exporter": "python",
   "pygments_lexer": "ipython3",
   "version": "3.7.4"
  }
 },
 "nbformat": 4,
 "nbformat_minor": 2
}
