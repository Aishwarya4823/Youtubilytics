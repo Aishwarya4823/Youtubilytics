{
 "cells": [
  {
   "cell_type": "code",
   "execution_count": 5,
   "metadata": {},
   "outputs": [],
   "source": [
    "#importing the necessary libraries\n",
    "import pandas as pd\n",
    "import numpy as np\n",
    "import os"
   ]
  },
  {
   "cell_type": "code",
   "execution_count": 11,
   "metadata": {},
   "outputs": [],
   "source": [
    "# reading into python all csv files\n",
    "df_CA = pd.read_csv(r\"C:\\Users\\Aishwarya\\Documents\\GitHub\\Youtubilytics\\Data\\CAvideos.csv\", encoding='utf-8')\n",
    "df_DE = pd.read_csv(r\"C:\\Users\\Aishwarya\\Documents\\GitHub\\Youtubilytics\\Data\\DEvideos.csv\", encoding='utf-8')\n",
    "df_FR = pd.read_csv(r\"C:\\Users\\Aishwarya\\Documents\\GitHub\\Youtubilytics\\Data\\FRvideos.csv\", encoding='utf-8')\n",
    "df_GB = pd.read_csv(r\"C:\\Users\\Aishwarya\\Documents\\GitHub\\Youtubilytics\\Data\\GBvideos.csv\", encoding='utf-8')\n",
    "df_IN = pd.read_csv(r\"C:\\Users\\Aishwarya\\Documents\\GitHub\\Youtubilytics\\Data\\INvideos.csv\", encoding='utf-8')\n",
    "df_JP = pd.read_csv(r\"C:\\Users\\Aishwarya\\Documents\\GitHub\\Youtubilytics\\Data\\JPvideos.csv\", encoding='utf-8')\n",
    "df_KR = pd.read_csv(r\"C:\\Users\\Aishwarya\\Documents\\GitHub\\Youtubilytics\\Data\\KRvideos.csv\", encoding='utf-8')\n",
    "df_MX = pd.read_csv(r\"C:\\Users\\Aishwarya\\Documents\\GitHub\\Youtubilytics\\Data\\MXvideos.csv\", encoding='utf-8')\n",
    "df_RU = pd.read_csv(r\"C:\\Users\\Aishwarya\\Documents\\GitHub\\Youtubilytics\\Data\\RUvideos.csv\", encoding='utf-8')\n",
    "df_US = pd.read_csv(r\"C:\\Users\\Aishwarya\\Documents\\GitHub\\Youtubilytics\\Data\\USvideos.csv\", encoding='utf-8')"
   ]
  },
  {
   "cell_type": "code",
   "execution_count": 13,
   "metadata": {},
   "outputs": [],
   "source": [
    "#adding the \"Country\" column for all datasets\n",
    "names_of_countries = ['CA','DE','FR','GB','IN','JP','KR','MX','RU','US']\n",
    "names_of_dataframes = [df_CA,df_DE,df_FR,df_GB,df_IN,df_JP,df_KR,df_MX,df_RU,df_US]\n",
    "for i in range(len(names_of_countries)):\n",
    "    names_of_dataframes[i]['Country'] = names_of_countries[i]"
   ]
  },
  {
   "cell_type": "code",
   "execution_count": 25,
   "metadata": {},
   "outputs": [],
   "source": [
    "#Creating a list of all the datasets\n",
    "final_df = []\n",
    "\n",
    "for i in range(len(names_of_dataframes)):\n",
    "    final_df.append(names_of_dataframes[i])"
   ]
  },
  {
   "cell_type": "code",
   "execution_count": 35,
   "metadata": {},
   "outputs": [],
   "source": [
    "#combining all datasets into one\n",
    "jumbo_df = pd.DataFrame(final_df[0])\n",
    "for i in range(1,10):\n",
    "    jumbo_df = jumbo_df.append(final_df[i])"
   ]
  },
  {
   "cell_type": "code",
   "execution_count": 36,
   "metadata": {},
   "outputs": [
    {
     "data": {
      "text/plain": [
       "array(['CA', 'DE', 'FR', 'GB', 'IN', 'JP', 'KR', 'MX', 'RU', 'US'],\n",
       "      dtype=object)"
      ]
     },
     "execution_count": 36,
     "metadata": {},
     "output_type": "execute_result"
    }
   ],
   "source": [
    "# checking all unique values of the column \"Country\" to verify if the dataframes have been successfully merged\n",
    "jumbo_df['Country'].unique()"
   ]
  },
  {
   "cell_type": "code",
   "execution_count": 42,
   "metadata": {},
   "outputs": [
    {
     "data": {
      "text/plain": [
       "375942"
      ]
     },
     "execution_count": 42,
     "metadata": {},
     "output_type": "execute_result"
    }
   ],
   "source": [
    "#checking the length of the new merged dataset\n",
    "len(jumbo_df)"
   ]
  },
  {
   "cell_type": "code",
   "execution_count": 43,
   "metadata": {},
   "outputs": [],
   "source": [
    "#saving the final dataframe to local desktop\n",
    "jumbo_df.to_csv('final_df.csv')"
   ]
  },
  {
   "cell_type": "code",
   "execution_count": null,
   "metadata": {},
   "outputs": [],
   "source": [
    "# Tasks completed by Aish :\n",
    "# Merging all the datasets into one jumbo dataset\n",
    "#Adding the country column to the dataset that represents the country that the data is from\n"
   ]
  }
 ],
 "metadata": {
  "kernelspec": {
   "display_name": "Python 3",
   "language": "python",
   "name": "python3"
  },
  "language_info": {
   "codemirror_mode": {
    "name": "ipython",
    "version": 3
   },
   "file_extension": ".py",
   "mimetype": "text/x-python",
   "name": "python",
   "nbconvert_exporter": "python",
   "pygments_lexer": "ipython3",
   "version": "3.7.4"
  }
 },
 "nbformat": 4,
 "nbformat_minor": 2
}
